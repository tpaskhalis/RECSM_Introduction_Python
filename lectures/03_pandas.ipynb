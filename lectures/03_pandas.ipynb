{
 "cells": [
  {
   "cell_type": "markdown",
   "id": "8f6c8dc2",
   "metadata": {
    "slideshow": {
     "slide_type": "slide"
    }
   },
   "source": [
    "# Day 1, Part 3: Pandas and Data I/O\n",
    "\n",
    "## Introduction to Python\n",
    "\n",
    "### [Tom Paskhalis](https://tom.paskhal.is/)\n",
    "\n",
    "##### [RECSM Summer School 2023](https://www.upf.edu/web/survey/summer-school-2023)"
   ]
  },
  {
   "cell_type": "markdown",
   "id": "92e6b394",
   "metadata": {
    "slideshow": {
     "slide_type": "slide"
    }
   },
   "source": [
    "## Rectangular data\n",
    "\n",
    "<div style=\"text-align: center;\">\n",
    "    <img width=\"700\" height=\"700\" src=\"../imgs/punchcard.jpg\">\n",
    "</div>\n",
    "\n",
    "History of rectangular data goes back to punchcards with origins in US census data processing.\n",
    "\n",
    "Source: [Wikipedia](https://en.wikipedia.org/wiki/Punched_card) "
   ]
  },
  {
   "cell_type": "markdown",
   "id": "6e61f983",
   "metadata": {
    "slideshow": {
     "slide_type": "slide"
    }
   },
   "source": [
    "## Tidy data\n",
    "\n",
    "- Tidy data is a specific subset of rectangular data, where:\n",
    "    - Each variable is in a column\n",
    "    - Each observation is in a row\n",
    "    - Each value is in a cell\n",
    "\n",
    "<div style=\"text-align: center;\">\n",
    "    <img width=\"700\" height=\"700\" src=\"../imgs/tidy_data.png\">\n",
    "</div>\n",
    "\n",
    "Source: [R for Data Science](https://r4ds.had.co.nz/tidy-data.html) "
   ]
  },
  {
   "cell_type": "markdown",
   "id": "0df582d4",
   "metadata": {
    "slideshow": {
     "slide_type": "slide"
    }
   },
   "source": [
    "## Data in Python\n",
    "\n",
    "- Python can hold and manipulate > 1 dataset at the same time\n",
    "- Python stores objects in memory\n",
    "- The limit on the size of data is determined by your computer memory\n",
    "- Most functionality for dealing with data is provided by external libraries"
   ]
  },
  {
   "cell_type": "markdown",
   "id": "209bb9a2-7091-4917-b3c8-b5e867e65de5",
   "metadata": {
    "slideshow": {
     "slide_type": "slide"
    }
   },
   "source": [
    "## Numerical analysis in Python\n",
    "\n",
    "- As opposed to other programming languages (Julia, R, MatLab),\n",
    "Python provides very bare bones functionality for numeric analysis.\n",
    "- E.g. no built-in matrix/array object type, limited mathematical and statistical functions"
   ]
  },
  {
   "cell_type": "code",
   "execution_count": 1,
   "id": "f8d805fd-7ee9-4aac-9d6a-22def8c86fe5",
   "metadata": {
    "slideshow": {
     "slide_type": "fragment"
    }
   },
   "outputs": [],
   "source": [
    "# Representing 3x3 matrix with list\n",
    "mat = [[1, 2, 3],\n",
    "       [4, 5, 6],\n",
    "       [7, 8, 9]]"
   ]
  },
  {
   "cell_type": "code",
   "execution_count": 2,
   "id": "48b34b02-746b-438e-9f3c-24a855caa44b",
   "metadata": {
    "slideshow": {
     "slide_type": "fragment"
    }
   },
   "outputs": [
    {
     "data": {
      "text/plain": [
       "6"
      ]
     },
     "execution_count": 2,
     "metadata": {},
     "output_type": "execute_result"
    }
   ],
   "source": [
    "# Subsetting 2nd row, 3rd element\n",
    "mat[1][2]"
   ]
  },
  {
   "cell_type": "code",
   "execution_count": 3,
   "id": "777ebc79-f1c6-4757-a59c-40174c727622",
   "metadata": {
    "slideshow": {
     "slide_type": "fragment"
    }
   },
   "outputs": [
    {
     "data": {
      "text/plain": [
       "[[1, 2, 3], [4, 5, 6], [7, 8, 9], [1, 2, 3], [4, 5, 6], [7, 8, 9]]"
      ]
     },
     "execution_count": 3,
     "metadata": {},
     "output_type": "execute_result"
    }
   ],
   "source": [
    "# Naturally, this representation\n",
    "# breaks down rather quickly\n",
    "mat * 2"
   ]
  },
  {
   "cell_type": "markdown",
   "id": "50a805c0-f72e-4e8d-91b9-24a2802199e2",
   "metadata": {
    "slideshow": {
     "slide_type": "slide"
    }
   },
   "source": [
    "## NumPy - numerical analysis in Python\n",
    "\n",
    "- NumPy (**Num**eric **Py**thon) package provides the basis of numerical computing in Python:\n",
    "    - multidimensional array\n",
    "    - mathematical functions for arrays\n",
    "    - array data I/O\n",
    "    - linear algebra, RNG, FFT, ..."
   ]
  },
  {
   "cell_type": "code",
   "execution_count": 4,
   "id": "b4f50309-fc07-45a8-9c95-69ad91525a94",
   "metadata": {
    "slideshow": {
     "slide_type": "fragment"
    }
   },
   "outputs": [],
   "source": [
    "# Using 'as' allows to avoid typing full name \n",
    "# each time the module is referred to\n",
    "import numpy as np"
   ]
  },
  {
   "cell_type": "markdown",
   "id": "f3d5ccaa-c1a5-42a1-a108-b6f604edd08b",
   "metadata": {
    "slideshow": {
     "slide_type": "slide"
    }
   },
   "source": [
    "## NumPy array\n",
    "\n",
    "- Multidimensional (N) array object (aka ndarray) is a principal container for datasets in Python.\n",
    "- It is the backbone of data frames, operating behind the scenes"
   ]
  },
  {
   "cell_type": "code",
   "execution_count": 5,
   "id": "58454659-80fe-4479-b14f-94276ae17e40",
   "metadata": {
    "slideshow": {
     "slide_type": "fragment"
    }
   },
   "outputs": [],
   "source": [
    "arr = np.array([[1, 2, 3],\n",
    "                [4, 5, 6],\n",
    "                [7, 8, 9]])"
   ]
  },
  {
   "cell_type": "code",
   "execution_count": 6,
   "id": "68fafc78-0f94-42bf-a32b-fd0215d56540",
   "metadata": {
    "slideshow": {
     "slide_type": "fragment"
    }
   },
   "outputs": [
    {
     "data": {
      "text/plain": [
       "6"
      ]
     },
     "execution_count": 6,
     "metadata": {},
     "output_type": "execute_result"
    }
   ],
   "source": [
    "arr[1][2]"
   ]
  },
  {
   "cell_type": "code",
   "execution_count": 7,
   "id": "75ed575c-c52e-447d-adde-c02dca92d585",
   "metadata": {
    "slideshow": {
     "slide_type": "fragment"
    }
   },
   "outputs": [
    {
     "data": {
      "text/plain": [
       "array([[ 2,  4,  6],\n",
       "       [ 8, 10, 12],\n",
       "       [14, 16, 18]])"
      ]
     },
     "execution_count": 7,
     "metadata": {},
     "output_type": "execute_result"
    }
   ],
   "source": [
    "arr * 2"
   ]
  },
  {
   "cell_type": "markdown",
   "id": "1452d21e-d37c-47ed-baf8-81cf489594db",
   "metadata": {
    "slideshow": {
     "slide_type": "slide"
    }
   },
   "source": [
    "## Working with arrays"
   ]
  },
  {
   "cell_type": "code",
   "execution_count": 8,
   "id": "0acdb5b5-16ef-4537-b753-a8b47c820e9a",
   "metadata": {
    "slideshow": {
     "slide_type": "fragment"
    }
   },
   "outputs": [
    {
     "data": {
      "text/plain": [
       "numpy.ndarray"
      ]
     },
     "execution_count": 8,
     "metadata": {},
     "output_type": "execute_result"
    }
   ],
   "source": [
    "# Object type\n",
    "type(arr)"
   ]
  },
  {
   "cell_type": "code",
   "execution_count": 9,
   "id": "952f3d0c-c529-4e32-963e-7a6b216ce8c5",
   "metadata": {
    "slideshow": {
     "slide_type": "fragment"
    }
   },
   "outputs": [
    {
     "data": {
      "text/plain": [
       "2"
      ]
     },
     "execution_count": 9,
     "metadata": {},
     "output_type": "execute_result"
    }
   ],
   "source": [
    "# Array dimensionality\n",
    "arr.ndim"
   ]
  },
  {
   "cell_type": "code",
   "execution_count": 10,
   "id": "fde681e2-a6a6-483c-81ef-f59c50186e79",
   "metadata": {
    "slideshow": {
     "slide_type": "fragment"
    }
   },
   "outputs": [
    {
     "data": {
      "text/plain": [
       "(3, 3)"
      ]
     },
     "execution_count": 10,
     "metadata": {},
     "output_type": "execute_result"
    }
   ],
   "source": [
    "# Array size\n",
    "arr.shape"
   ]
  },
  {
   "cell_type": "code",
   "execution_count": 11,
   "id": "8e94b10f-01e5-467a-99c3-c2171a2f11a7",
   "metadata": {
    "slideshow": {
     "slide_type": "fragment"
    }
   },
   "outputs": [
    {
     "data": {
      "text/plain": [
       "array([4., 5., 6.])"
      ]
     },
     "execution_count": 11,
     "metadata": {},
     "output_type": "execute_result"
    }
   ],
   "source": [
    "# Calculating summary statistics on array\n",
    "# axis indicates the dimension\n",
    "# compare to R's `apply(arr, 1, mean)`\n",
    "# note that every list within a list\n",
    "# is treated as a column (not row)\n",
    "arr.mean(axis = 0)"
   ]
  },
  {
   "cell_type": "markdown",
   "id": "ab488914-5d2d-46f0-a272-e17a302706b6",
   "metadata": {
    "slideshow": {
     "slide_type": "slide"
    }
   },
   "source": [
    "## Array indexing and slicing\n",
    "\n",
    "<div style=\"text-align: center;\">\n",
    "    <img width=\"300\" height=\"300\" src=\"https://wesmckinney.com/book/images/pda3_0402.png\">\n",
    "</div>\n",
    "\n",
    "Source: [Python for Data Analysis](https://wesmckinney.com/book) "
   ]
  },
  {
   "cell_type": "markdown",
   "id": "7e5b1eb7",
   "metadata": {
    "slideshow": {
     "slide_type": "slide"
    }
   },
   "source": [
    "## Pandas\n",
    "\n",
    "- Standard Python library does not have data type for tabular data\n",
    "- However, `pandas` library has become the de facto standard for data manipulation\n",
    "- pandas is built upon (and often used in conjuction with) other computational libraries\n",
    "- E.g. `numpy` (array data type), `scipy` (linear algebra) and `scikit-learn` (machine learning)"
   ]
  },
  {
   "cell_type": "code",
   "execution_count": 12,
   "id": "b1d323c4",
   "metadata": {
    "slideshow": {
     "slide_type": "fragment"
    }
   },
   "outputs": [],
   "source": [
    "# Using 'as' allows to avoid typing full name each time the module is referred to\n",
    "import pandas as pd"
   ]
  },
  {
   "cell_type": "markdown",
   "id": "b7985032",
   "metadata": {
    "slideshow": {
     "slide_type": "slide"
    }
   },
   "source": [
    "## Series\n",
    "\n",
    "- *Series* is a one-dimensional array-like object"
   ]
  },
  {
   "cell_type": "code",
   "execution_count": 13,
   "id": "36416a27",
   "metadata": {
    "slideshow": {
     "slide_type": "fragment"
    }
   },
   "outputs": [
    {
     "data": {
      "text/plain": [
       "0     150.0\n",
       "1     120.0\n",
       "2    3000.0\n",
       "dtype: float64"
      ]
     },
     "execution_count": 13,
     "metadata": {},
     "output_type": "execute_result"
    }
   ],
   "source": [
    "sr1 = pd.Series([150.0, 120.0, 3000.0])\n",
    "sr1"
   ]
  },
  {
   "cell_type": "code",
   "execution_count": 14,
   "id": "a5b81214",
   "metadata": {
    "slideshow": {
     "slide_type": "fragment"
    }
   },
   "outputs": [
    {
     "data": {
      "text/plain": [
       "150.0"
      ]
     },
     "execution_count": 14,
     "metadata": {},
     "output_type": "execute_result"
    }
   ],
   "source": [
    "sr1[0] # Slicing is simiar to standard Python objects"
   ]
  },
  {
   "cell_type": "code",
   "execution_count": 15,
   "id": "2f154249",
   "metadata": {
    "slideshow": {
     "slide_type": "fragment"
    }
   },
   "outputs": [
    {
     "data": {
      "text/plain": [
       "2    3000.0\n",
       "dtype: float64"
      ]
     },
     "execution_count": 15,
     "metadata": {},
     "output_type": "execute_result"
    }
   ],
   "source": [
    "sr1[sr1 > 200]"
   ]
  },
  {
   "cell_type": "markdown",
   "id": "eed8bfde",
   "metadata": {
    "slideshow": {
     "slide_type": "slide"
    }
   },
   "source": [
    "## Indexing in Series\n",
    "\n",
    "- Another way to think about Series is as a ordered dictionary"
   ]
  },
  {
   "cell_type": "code",
   "execution_count": 16,
   "id": "f55281b1",
   "metadata": {
    "slideshow": {
     "slide_type": "fragment"
    }
   },
   "outputs": [],
   "source": [
    "d = {'apple': 150.0, 'banana': 120.0, 'watermelon': 3000.0}"
   ]
  },
  {
   "cell_type": "code",
   "execution_count": 17,
   "id": "ef327351",
   "metadata": {
    "slideshow": {
     "slide_type": "fragment"
    }
   },
   "outputs": [
    {
     "data": {
      "text/plain": [
       "apple          150.0\n",
       "banana         120.0\n",
       "watermelon    3000.0\n",
       "dtype: float64"
      ]
     },
     "execution_count": 17,
     "metadata": {},
     "output_type": "execute_result"
    }
   ],
   "source": [
    "sr2 = pd.Series(d)\n",
    "sr2"
   ]
  },
  {
   "cell_type": "code",
   "execution_count": 18,
   "id": "08716e45",
   "metadata": {
    "slideshow": {
     "slide_type": "fragment"
    }
   },
   "outputs": [
    {
     "data": {
      "text/plain": [
       "150.0"
      ]
     },
     "execution_count": 18,
     "metadata": {},
     "output_type": "execute_result"
    }
   ],
   "source": [
    "sr2[0] # Recall that this slicing would be impossible for standard dictionary"
   ]
  },
  {
   "cell_type": "code",
   "execution_count": 19,
   "id": "cbe5b4b4",
   "metadata": {
    "slideshow": {
     "slide_type": "fragment"
    }
   },
   "outputs": [
    {
     "data": {
      "text/plain": [
       "Index(['apple', 'banana', 'watermelon'], dtype='object')"
      ]
     },
     "execution_count": 19,
     "metadata": {},
     "output_type": "execute_result"
    }
   ],
   "source": [
    "sr2.index"
   ]
  },
  {
   "cell_type": "markdown",
   "id": "dbcce734",
   "metadata": {
    "slideshow": {
     "slide_type": "slide"
    }
   },
   "source": [
    "## DataFrame - the workhorse of data analysis\n",
    "\n",
    "- *DataFrame* is a rectangular table of data"
   ]
  },
  {
   "cell_type": "code",
   "execution_count": 20,
   "id": "981a5621",
   "metadata": {
    "slideshow": {
     "slide_type": "fragment"
    }
   },
   "outputs": [
    {
     "data": {
      "text/html": [
       "<div>\n",
       "<style scoped>\n",
       "    .dataframe tbody tr th:only-of-type {\n",
       "        vertical-align: middle;\n",
       "    }\n",
       "\n",
       "    .dataframe tbody tr th {\n",
       "        vertical-align: top;\n",
       "    }\n",
       "\n",
       "    .dataframe thead th {\n",
       "        text-align: right;\n",
       "    }\n",
       "</style>\n",
       "<table border=\"1\" class=\"dataframe\">\n",
       "  <thead>\n",
       "    <tr style=\"text-align: right;\">\n",
       "      <th></th>\n",
       "      <th>fruit</th>\n",
       "      <th>weight</th>\n",
       "      <th>berry</th>\n",
       "    </tr>\n",
       "  </thead>\n",
       "  <tbody>\n",
       "    <tr>\n",
       "      <th>0</th>\n",
       "      <td>apple</td>\n",
       "      <td>150.0</td>\n",
       "      <td>False</td>\n",
       "    </tr>\n",
       "    <tr>\n",
       "      <th>1</th>\n",
       "      <td>banana</td>\n",
       "      <td>120.0</td>\n",
       "      <td>True</td>\n",
       "    </tr>\n",
       "    <tr>\n",
       "      <th>2</th>\n",
       "      <td>watermelon</td>\n",
       "      <td>3000.0</td>\n",
       "      <td>True</td>\n",
       "    </tr>\n",
       "  </tbody>\n",
       "</table>\n",
       "</div>"
      ],
      "text/plain": [
       "        fruit  weight  berry\n",
       "0       apple   150.0  False\n",
       "1      banana   120.0   True\n",
       "2  watermelon  3000.0   True"
      ]
     },
     "execution_count": 20,
     "metadata": {},
     "output_type": "execute_result"
    }
   ],
   "source": [
    "data = {'fruit': ['apple', 'banana', 'watermelon'], # DataFrame can be constructed from\n",
    "        'weight': [150.0, 120.0, 3000.0],           # a dict of equal-length lists/arrays\n",
    "        'berry': [False, True, True]}           \n",
    "df = pd.DataFrame(data)\n",
    "df"
   ]
  },
  {
   "cell_type": "markdown",
   "id": "b1ed6ca8",
   "metadata": {
    "slideshow": {
     "slide_type": "slide"
    }
   },
   "source": [
    "## Indexing in DataFrame\n",
    "\n",
    "- DataFrame has both row and column indices\n",
    "- `DataFrame.loc()` provides method for *label* location\n",
    "- `DataFrame.iloc()` provides method for *index* location"
   ]
  },
  {
   "cell_type": "code",
   "execution_count": 21,
   "id": "04c93d38",
   "metadata": {
    "slideshow": {
     "slide_type": "fragment"
    }
   },
   "outputs": [
    {
     "data": {
      "text/plain": [
       "fruit     apple\n",
       "weight    150.0\n",
       "berry     False\n",
       "Name: 0, dtype: object"
      ]
     },
     "execution_count": 21,
     "metadata": {},
     "output_type": "execute_result"
    }
   ],
   "source": [
    "df.iloc[0] # First row"
   ]
  },
  {
   "cell_type": "code",
   "execution_count": 22,
   "id": "b271a5c7",
   "metadata": {
    "slideshow": {
     "slide_type": "fragment"
    }
   },
   "outputs": [
    {
     "data": {
      "text/plain": [
       "0         apple\n",
       "1        banana\n",
       "2    watermelon\n",
       "Name: fruit, dtype: object"
      ]
     },
     "execution_count": 22,
     "metadata": {},
     "output_type": "execute_result"
    }
   ],
   "source": [
    "df.iloc[:,0] # First column"
   ]
  },
  {
   "cell_type": "markdown",
   "id": "22b83a1c",
   "metadata": {
    "slideshow": {
     "slide_type": "slide"
    }
   },
   "source": [
    "## Summary of indexing in DataFrame\n",
    "\n",
    "| Expression             | Selection Operation                                     |\n",
    "|:-----------------------|:--------------------------------------------------------|\n",
    "| `df[val]`              | Column or sequence of columns +convenience (e.g. slice) |\n",
    "| `df.loc[lab_i]`        | Row or subset of rows by label                          |\n",
    "| `df.loc[:, lab_j]`     | Column or subset of columns by label                    |\n",
    "| `df.loc[lab_i, lab_j]` | Both rows and columns by label                          |\n",
    "| `df.iloc[i]`           | Row or subset of rows by integer position               |\n",
    "| `df.iloc[:, j]`        | Column or subset of columns by integer position         |\n",
    "| `df.iloc[i, j]`        | Both rows and columns by integer position               |\n",
    "| `df.at[lab_i, lab_j]`  | Single scalar value by row and column label             |\n",
    "| `df.iat[i, j]`         | Single scalar value by row and column integer position  |\n",
    "\n",
    "Extra: [Pandas documentation on indexing](https://pandas.pydata.org/pandas-docs/stable/user_guide/indexing.html)"
   ]
  },
  {
   "cell_type": "markdown",
   "id": "f90c99d3",
   "metadata": {
    "slideshow": {
     "slide_type": "slide"
    }
   },
   "source": [
    "## Subsetting in DataFrame"
   ]
  },
  {
   "cell_type": "code",
   "execution_count": 23,
   "id": "79008bf8",
   "metadata": {
    "slideshow": {
     "slide_type": "fragment"
    }
   },
   "outputs": [
    {
     "data": {
      "text/html": [
       "<div>\n",
       "<style scoped>\n",
       "    .dataframe tbody tr th:only-of-type {\n",
       "        vertical-align: middle;\n",
       "    }\n",
       "\n",
       "    .dataframe tbody tr th {\n",
       "        vertical-align: top;\n",
       "    }\n",
       "\n",
       "    .dataframe thead th {\n",
       "        text-align: right;\n",
       "    }\n",
       "</style>\n",
       "<table border=\"1\" class=\"dataframe\">\n",
       "  <thead>\n",
       "    <tr style=\"text-align: right;\">\n",
       "      <th></th>\n",
       "      <th>fruit</th>\n",
       "      <th>weight</th>\n",
       "      <th>berry</th>\n",
       "    </tr>\n",
       "  </thead>\n",
       "  <tbody>\n",
       "    <tr>\n",
       "      <th>0</th>\n",
       "      <td>apple</td>\n",
       "      <td>150.0</td>\n",
       "      <td>False</td>\n",
       "    </tr>\n",
       "    <tr>\n",
       "      <th>1</th>\n",
       "      <td>banana</td>\n",
       "      <td>120.0</td>\n",
       "      <td>True</td>\n",
       "    </tr>\n",
       "  </tbody>\n",
       "</table>\n",
       "</div>"
      ],
      "text/plain": [
       "    fruit  weight  berry\n",
       "0   apple   150.0  False\n",
       "1  banana   120.0   True"
      ]
     },
     "execution_count": 23,
     "metadata": {},
     "output_type": "execute_result"
    }
   ],
   "source": [
    "df.iloc[:2] # Select the first two rows (with convenience shortcut for slicing)"
   ]
  },
  {
   "cell_type": "code",
   "execution_count": 24,
   "id": "52d67759",
   "metadata": {
    "slideshow": {
     "slide_type": "fragment"
    }
   },
   "outputs": [
    {
     "data": {
      "text/html": [
       "<div>\n",
       "<style scoped>\n",
       "    .dataframe tbody tr th:only-of-type {\n",
       "        vertical-align: middle;\n",
       "    }\n",
       "\n",
       "    .dataframe tbody tr th {\n",
       "        vertical-align: top;\n",
       "    }\n",
       "\n",
       "    .dataframe thead th {\n",
       "        text-align: right;\n",
       "    }\n",
       "</style>\n",
       "<table border=\"1\" class=\"dataframe\">\n",
       "  <thead>\n",
       "    <tr style=\"text-align: right;\">\n",
       "      <th></th>\n",
       "      <th>fruit</th>\n",
       "      <th>weight</th>\n",
       "      <th>berry</th>\n",
       "    </tr>\n",
       "  </thead>\n",
       "  <tbody>\n",
       "    <tr>\n",
       "      <th>0</th>\n",
       "      <td>apple</td>\n",
       "      <td>150.0</td>\n",
       "      <td>False</td>\n",
       "    </tr>\n",
       "    <tr>\n",
       "      <th>1</th>\n",
       "      <td>banana</td>\n",
       "      <td>120.0</td>\n",
       "      <td>True</td>\n",
       "    </tr>\n",
       "  </tbody>\n",
       "</table>\n",
       "</div>"
      ],
      "text/plain": [
       "    fruit  weight  berry\n",
       "0   apple   150.0  False\n",
       "1  banana   120.0   True"
      ]
     },
     "execution_count": 24,
     "metadata": {},
     "output_type": "execute_result"
    }
   ],
   "source": [
    "df[:2]  # Shortcut"
   ]
  },
  {
   "cell_type": "code",
   "execution_count": 25,
   "id": "f50778bd",
   "metadata": {
    "slideshow": {
     "slide_type": "fragment"
    }
   },
   "outputs": [
    {
     "data": {
      "text/html": [
       "<div>\n",
       "<style scoped>\n",
       "    .dataframe tbody tr th:only-of-type {\n",
       "        vertical-align: middle;\n",
       "    }\n",
       "\n",
       "    .dataframe tbody tr th {\n",
       "        vertical-align: top;\n",
       "    }\n",
       "\n",
       "    .dataframe thead th {\n",
       "        text-align: right;\n",
       "    }\n",
       "</style>\n",
       "<table border=\"1\" class=\"dataframe\">\n",
       "  <thead>\n",
       "    <tr style=\"text-align: right;\">\n",
       "      <th></th>\n",
       "      <th>fruit</th>\n",
       "      <th>berry</th>\n",
       "    </tr>\n",
       "  </thead>\n",
       "  <tbody>\n",
       "    <tr>\n",
       "      <th>0</th>\n",
       "      <td>apple</td>\n",
       "      <td>False</td>\n",
       "    </tr>\n",
       "    <tr>\n",
       "      <th>1</th>\n",
       "      <td>banana</td>\n",
       "      <td>True</td>\n",
       "    </tr>\n",
       "    <tr>\n",
       "      <th>2</th>\n",
       "      <td>watermelon</td>\n",
       "      <td>True</td>\n",
       "    </tr>\n",
       "  </tbody>\n",
       "</table>\n",
       "</div>"
      ],
      "text/plain": [
       "        fruit  berry\n",
       "0       apple  False\n",
       "1      banana   True\n",
       "2  watermelon   True"
      ]
     },
     "execution_count": 25,
     "metadata": {},
     "output_type": "execute_result"
    }
   ],
   "source": [
    "df.loc[:, ['fruit', 'berry']] # Select the columns 'fruit' and 'berry'"
   ]
  },
  {
   "cell_type": "code",
   "execution_count": 26,
   "id": "83a7166c",
   "metadata": {
    "slideshow": {
     "slide_type": "fragment"
    }
   },
   "outputs": [
    {
     "data": {
      "text/html": [
       "<div>\n",
       "<style scoped>\n",
       "    .dataframe tbody tr th:only-of-type {\n",
       "        vertical-align: middle;\n",
       "    }\n",
       "\n",
       "    .dataframe tbody tr th {\n",
       "        vertical-align: top;\n",
       "    }\n",
       "\n",
       "    .dataframe thead th {\n",
       "        text-align: right;\n",
       "    }\n",
       "</style>\n",
       "<table border=\"1\" class=\"dataframe\">\n",
       "  <thead>\n",
       "    <tr style=\"text-align: right;\">\n",
       "      <th></th>\n",
       "      <th>fruit</th>\n",
       "      <th>berry</th>\n",
       "    </tr>\n",
       "  </thead>\n",
       "  <tbody>\n",
       "    <tr>\n",
       "      <th>0</th>\n",
       "      <td>apple</td>\n",
       "      <td>False</td>\n",
       "    </tr>\n",
       "    <tr>\n",
       "      <th>1</th>\n",
       "      <td>banana</td>\n",
       "      <td>True</td>\n",
       "    </tr>\n",
       "    <tr>\n",
       "      <th>2</th>\n",
       "      <td>watermelon</td>\n",
       "      <td>True</td>\n",
       "    </tr>\n",
       "  </tbody>\n",
       "</table>\n",
       "</div>"
      ],
      "text/plain": [
       "        fruit  berry\n",
       "0       apple  False\n",
       "1      banana   True\n",
       "2  watermelon   True"
      ]
     },
     "execution_count": 26,
     "metadata": {},
     "output_type": "execute_result"
    }
   ],
   "source": [
    "df[['fruit', 'berry']] # Shortcut"
   ]
  },
  {
   "cell_type": "markdown",
   "id": "4e02d724",
   "metadata": {
    "slideshow": {
     "slide_type": "slide"
    }
   },
   "source": [
    "## Columns in DataFrame"
   ]
  },
  {
   "cell_type": "code",
   "execution_count": 27,
   "id": "ab92435a",
   "metadata": {
    "slideshow": {
     "slide_type": "fragment"
    }
   },
   "outputs": [
    {
     "data": {
      "text/plain": [
       "Index(['fruit', 'weight', 'berry'], dtype='object')"
      ]
     },
     "execution_count": 27,
     "metadata": {},
     "output_type": "execute_result"
    }
   ],
   "source": [
    "df.columns # Retrieve the names of all columns"
   ]
  },
  {
   "cell_type": "code",
   "execution_count": 28,
   "id": "6a4ee129",
   "metadata": {
    "slideshow": {
     "slide_type": "fragment"
    }
   },
   "outputs": [
    {
     "data": {
      "text/plain": [
       "'fruit'"
      ]
     },
     "execution_count": 28,
     "metadata": {},
     "output_type": "execute_result"
    }
   ],
   "source": [
    "df.columns[0] # This Index object is subsettable"
   ]
  },
  {
   "cell_type": "code",
   "execution_count": 29,
   "id": "430d8786",
   "metadata": {
    "slideshow": {
     "slide_type": "fragment"
    }
   },
   "outputs": [
    {
     "data": {
      "text/plain": [
       "array([ True, False, False])"
      ]
     },
     "execution_count": 29,
     "metadata": {},
     "output_type": "execute_result"
    }
   ],
   "source": [
    "df.columns.str.startswith('fr') # As column names are strings, we can apply str methods"
   ]
  },
  {
   "cell_type": "code",
   "execution_count": 30,
   "id": "73a7f8a5",
   "metadata": {
    "slideshow": {
     "slide_type": "fragment"
    }
   },
   "outputs": [
    {
     "data": {
      "text/html": [
       "<div>\n",
       "<style scoped>\n",
       "    .dataframe tbody tr th:only-of-type {\n",
       "        vertical-align: middle;\n",
       "    }\n",
       "\n",
       "    .dataframe tbody tr th {\n",
       "        vertical-align: top;\n",
       "    }\n",
       "\n",
       "    .dataframe thead th {\n",
       "        text-align: right;\n",
       "    }\n",
       "</style>\n",
       "<table border=\"1\" class=\"dataframe\">\n",
       "  <thead>\n",
       "    <tr style=\"text-align: right;\">\n",
       "      <th></th>\n",
       "      <th>fruit</th>\n",
       "    </tr>\n",
       "  </thead>\n",
       "  <tbody>\n",
       "    <tr>\n",
       "      <th>0</th>\n",
       "      <td>apple</td>\n",
       "    </tr>\n",
       "    <tr>\n",
       "      <th>1</th>\n",
       "      <td>banana</td>\n",
       "    </tr>\n",
       "    <tr>\n",
       "      <th>2</th>\n",
       "      <td>watermelon</td>\n",
       "    </tr>\n",
       "  </tbody>\n",
       "</table>\n",
       "</div>"
      ],
      "text/plain": [
       "        fruit\n",
       "0       apple\n",
       "1      banana\n",
       "2  watermelon"
      ]
     },
     "execution_count": 30,
     "metadata": {},
     "output_type": "execute_result"
    }
   ],
   "source": [
    "df.iloc[:,df.columns.str.startswith('fr')] # This is helpful with more complicated column selection criteria"
   ]
  },
  {
   "cell_type": "markdown",
   "id": "37f26c55",
   "metadata": {
    "slideshow": {
     "slide_type": "slide"
    }
   },
   "source": [
    "## Filtering in DataFrame"
   ]
  },
  {
   "cell_type": "code",
   "execution_count": 31,
   "id": "2b670c07",
   "metadata": {
    "slideshow": {
     "slide_type": "fragment"
    }
   },
   "outputs": [
    {
     "data": {
      "text/html": [
       "<div>\n",
       "<style scoped>\n",
       "    .dataframe tbody tr th:only-of-type {\n",
       "        vertical-align: middle;\n",
       "    }\n",
       "\n",
       "    .dataframe tbody tr th {\n",
       "        vertical-align: top;\n",
       "    }\n",
       "\n",
       "    .dataframe thead th {\n",
       "        text-align: right;\n",
       "    }\n",
       "</style>\n",
       "<table border=\"1\" class=\"dataframe\">\n",
       "  <thead>\n",
       "    <tr style=\"text-align: right;\">\n",
       "      <th></th>\n",
       "      <th>fruit</th>\n",
       "      <th>weight</th>\n",
       "      <th>berry</th>\n",
       "    </tr>\n",
       "  </thead>\n",
       "  <tbody>\n",
       "    <tr>\n",
       "      <th>0</th>\n",
       "      <td>apple</td>\n",
       "      <td>150.0</td>\n",
       "      <td>False</td>\n",
       "    </tr>\n",
       "  </tbody>\n",
       "</table>\n",
       "</div>"
      ],
      "text/plain": [
       "   fruit  weight  berry\n",
       "0  apple   150.0  False"
      ]
     },
     "execution_count": 31,
     "metadata": {},
     "output_type": "execute_result"
    }
   ],
   "source": [
    "df[df.loc[:,'berry'] == False] # Select rows where fruits are not berries"
   ]
  },
  {
   "cell_type": "code",
   "execution_count": 32,
   "id": "8b2388ae",
   "metadata": {
    "slideshow": {
     "slide_type": "fragment"
    }
   },
   "outputs": [
    {
     "data": {
      "text/html": [
       "<div>\n",
       "<style scoped>\n",
       "    .dataframe tbody tr th:only-of-type {\n",
       "        vertical-align: middle;\n",
       "    }\n",
       "\n",
       "    .dataframe tbody tr th {\n",
       "        vertical-align: top;\n",
       "    }\n",
       "\n",
       "    .dataframe thead th {\n",
       "        text-align: right;\n",
       "    }\n",
       "</style>\n",
       "<table border=\"1\" class=\"dataframe\">\n",
       "  <thead>\n",
       "    <tr style=\"text-align: right;\">\n",
       "      <th></th>\n",
       "      <th>fruit</th>\n",
       "      <th>weight</th>\n",
       "      <th>berry</th>\n",
       "    </tr>\n",
       "  </thead>\n",
       "  <tbody>\n",
       "    <tr>\n",
       "      <th>0</th>\n",
       "      <td>apple</td>\n",
       "      <td>150.0</td>\n",
       "      <td>False</td>\n",
       "    </tr>\n",
       "  </tbody>\n",
       "</table>\n",
       "</div>"
      ],
      "text/plain": [
       "   fruit  weight  berry\n",
       "0  apple   150.0  False"
      ]
     },
     "execution_count": 32,
     "metadata": {},
     "output_type": "execute_result"
    }
   ],
   "source": [
    "df[df['berry'] == False] # The same can be achieved with more concise syntax"
   ]
  },
  {
   "cell_type": "code",
   "execution_count": 33,
   "id": "4ce8c635",
   "metadata": {
    "slideshow": {
     "slide_type": "fragment"
    }
   },
   "outputs": [
    {
     "data": {
      "text/html": [
       "<div>\n",
       "<style scoped>\n",
       "    .dataframe tbody tr th:only-of-type {\n",
       "        vertical-align: middle;\n",
       "    }\n",
       "\n",
       "    .dataframe tbody tr th {\n",
       "        vertical-align: top;\n",
       "    }\n",
       "\n",
       "    .dataframe thead th {\n",
       "        text-align: right;\n",
       "    }\n",
       "</style>\n",
       "<table border=\"1\" class=\"dataframe\">\n",
       "  <thead>\n",
       "    <tr style=\"text-align: right;\">\n",
       "      <th></th>\n",
       "      <th>fruit</th>\n",
       "      <th>weight</th>\n",
       "      <th>berry</th>\n",
       "    </tr>\n",
       "  </thead>\n",
       "  <tbody>\n",
       "    <tr>\n",
       "      <th>2</th>\n",
       "      <td>watermelon</td>\n",
       "      <td>3000.0</td>\n",
       "      <td>True</td>\n",
       "    </tr>\n",
       "  </tbody>\n",
       "</table>\n",
       "</div>"
      ],
      "text/plain": [
       "        fruit  weight  berry\n",
       "2  watermelon  3000.0   True"
      ]
     },
     "execution_count": 33,
     "metadata": {},
     "output_type": "execute_result"
    }
   ],
   "source": [
    "weight200 = df[df['weight'] > 200] # Create new dataset with rows where weight is higher than 200\n",
    "weight200"
   ]
  },
  {
   "cell_type": "markdown",
   "id": "0dc228ee",
   "metadata": {
    "slideshow": {
     "slide_type": "slide"
    }
   },
   "source": [
    "## Variable transformation\n",
    "\n",
    "- Lambda functions can be used to transform data with `map()` method"
   ]
  },
  {
   "cell_type": "code",
   "execution_count": 34,
   "id": "0408a40d",
   "metadata": {
    "slideshow": {
     "slide_type": "fragment"
    }
   },
   "outputs": [
    {
     "data": {
      "text/plain": [
       "0         APPLE\n",
       "1        BANANA\n",
       "2    WATERMELON\n",
       "Name: fruit, dtype: object"
      ]
     },
     "execution_count": 34,
     "metadata": {},
     "output_type": "execute_result"
    }
   ],
   "source": [
    "df['fruit'].map(lambda x: x.upper())"
   ]
  },
  {
   "cell_type": "code",
   "execution_count": 35,
   "id": "20f4d4a1",
   "metadata": {
    "slideshow": {
     "slide_type": "fragment"
    }
   },
   "outputs": [],
   "source": [
    "transform = lambda x: x.capitalize()"
   ]
  },
  {
   "cell_type": "code",
   "execution_count": 36,
   "id": "5becfe3e",
   "metadata": {
    "slideshow": {
     "slide_type": "fragment"
    }
   },
   "outputs": [],
   "source": [
    "transformed = df['fruit'].map(transform)"
   ]
  },
  {
   "cell_type": "code",
   "execution_count": 37,
   "id": "f310e225",
   "metadata": {
    "slideshow": {
     "slide_type": "fragment"
    }
   },
   "outputs": [
    {
     "data": {
      "text/plain": [
       "0         Apple\n",
       "1        Banana\n",
       "2    Watermelon\n",
       "Name: fruit, dtype: object"
      ]
     },
     "execution_count": 37,
     "metadata": {},
     "output_type": "execute_result"
    }
   ],
   "source": [
    "transformed"
   ]
  },
  {
   "cell_type": "markdown",
   "id": "416f7743",
   "metadata": {
    "slideshow": {
     "slide_type": "slide"
    }
   },
   "source": [
    "## File object\n",
    "\n",
    "- File object in Python provides the main interface to external files\n",
    "- In contrast to other core types, file objects are created not with a literal,\n",
    "- But with a function, `open()`:\n",
    "\n",
    "```\n",
    "<variable_name> = open(<filepath>, <mode>)\n",
    "```"
   ]
  },
  {
   "cell_type": "markdown",
   "id": "56cb2b3e",
   "metadata": {
    "slideshow": {
     "slide_type": "slide"
    }
   },
   "source": [
    "## Data input and output\n",
    "\n",
    "- Modes of file objects allow to:\n",
    "    - (`r`)ead a file (default)\n",
    "    - (`w`)rite an object to a file\n",
    "    - e(`x`)clusively create, failing if a file exists\n",
    "    - (`a`)ppend to a file\n",
    "- You can `r+` mode if you need to read and write to file"
   ]
  },
  {
   "cell_type": "markdown",
   "id": "cdc07596",
   "metadata": {
    "slideshow": {
     "slide_type": "slide"
    }
   },
   "source": [
    "## Data output example"
   ]
  },
  {
   "cell_type": "code",
   "execution_count": 38,
   "id": "17d8af2b",
   "metadata": {
    "slideshow": {
     "slide_type": "fragment"
    }
   },
   "outputs": [],
   "source": [
    "f = open('../temp/test.txt', 'w') # Create a new file object in write mode"
   ]
  },
  {
   "cell_type": "code",
   "execution_count": 39,
   "id": "dbc38375",
   "metadata": {
    "slideshow": {
     "slide_type": "fragment"
    }
   },
   "outputs": [
    {
     "data": {
      "text/plain": [
       "20"
      ]
     },
     "execution_count": 39,
     "metadata": {},
     "output_type": "execute_result"
    }
   ],
   "source": [
    "f.write('This is a test file.') # Write a string of characters to it"
   ]
  },
  {
   "cell_type": "code",
   "execution_count": 40,
   "id": "aa0cfde4",
   "metadata": {
    "slideshow": {
     "slide_type": "fragment"
    }
   },
   "outputs": [],
   "source": [
    "f.close() # Flush output buffers to disk and close the connection"
   ]
  },
  {
   "cell_type": "markdown",
   "id": "03fde0bf",
   "metadata": {
    "slideshow": {
     "slide_type": "slide"
    }
   },
   "source": [
    "## Data input example\n",
    "\n",
    "- To avoid keeping track of open file connections, `with` statement can be used\n",
    "\n",
    "Extra: [Python documentation on with statement](https://docs.python.org/3.10/reference/compound_stmts.html#with)"
   ]
  },
  {
   "cell_type": "code",
   "execution_count": 41,
   "id": "75419a09",
   "metadata": {
    "slideshow": {
     "slide_type": "fragment"
    }
   },
   "outputs": [],
   "source": [
    "with open('../temp/test.txt', 'r') as f: # Note that we use 'r' mode for reading\n",
    "    text = f.read()"
   ]
  },
  {
   "cell_type": "code",
   "execution_count": 42,
   "id": "845b832f",
   "metadata": {
    "slideshow": {
     "slide_type": "fragment"
    }
   },
   "outputs": [
    {
     "data": {
      "text/plain": [
       "'This is a test file.'"
      ]
     },
     "execution_count": 42,
     "metadata": {},
     "output_type": "execute_result"
    }
   ],
   "source": [
    "text"
   ]
  },
  {
   "cell_type": "markdown",
   "id": "33885b2f",
   "metadata": {
    "slideshow": {
     "slide_type": "slide"
    }
   },
   "source": [
    "## Reading and writing data in `pandas`\n",
    "\n",
    "- `pandas` provides high-level methods that takes care of file connections\n",
    "- These methods all follow the same `read_<format>` and `to_<format>` name patterns\n",
    "- CSV (comma-separated value) files are the standard of interoperability\n",
    "\n",
    "```\n",
    "<variable_name> = pd.read_<format>(<filepath>)\n",
    "```\n",
    "\n",
    "```\n",
    "<variable_name>.to_<format>(<filepath>)\n",
    "```"
   ]
  },
  {
   "cell_type": "markdown",
   "id": "e2de9155",
   "metadata": {
    "slideshow": {
     "slide_type": "slide"
    }
   },
   "source": [
    "## Reading data in `pandas` example\n",
    "\n",
    "- We will use the data from [Kaggle](https://www.kaggle.com) [2021 Machine Learning and Data Science Survey](https://www.kaggle.com/c/kaggle-survey-2021/)\n",
    "- For more information you can read the [executive summary](https://www.kaggle.com/kaggle-survey-2021)\n",
    "- Or explore the [winning Python Jupyter Notebooks](https://www.kaggle.com/competitions/kaggle-survey-2021/discussion/295401)"
   ]
  },
  {
   "cell_type": "code",
   "execution_count": 43,
   "id": "58f68c1a",
   "metadata": {
    "slideshow": {
     "slide_type": "fragment"
    }
   },
   "outputs": [
    {
     "name": "stderr",
     "output_type": "stream",
     "text": [
      "/tmp/ipykernel_279893/1791299071.py:2: DtypeWarning: Columns (195,201) have mixed types. Specify dtype option on import or set low_memory=False.\n",
      "  kaggle2021 = pd.read_csv('../data/kaggle_survey_2021_responses.csv', header = [0,1])\n"
     ]
    }
   ],
   "source": [
    "# We specify that we want to combine first two rows as a header\n",
    "kaggle2021 = pd.read_csv('../data/kaggle_survey_2021_responses.csv', header = [0,1])"
   ]
  },
  {
   "cell_type": "markdown",
   "id": "988c5e31",
   "metadata": {
    "slideshow": {
     "slide_type": "slide"
    }
   },
   "source": [
    "## Visual data inspection"
   ]
  },
  {
   "cell_type": "code",
   "execution_count": 44,
   "id": "cee409f4",
   "metadata": {
    "scrolled": true,
    "slideshow": {
     "slide_type": "fragment"
    }
   },
   "outputs": [
    {
     "data": {
      "text/html": [
       "<div>\n",
       "<style scoped>\n",
       "    .dataframe tbody tr th:only-of-type {\n",
       "        vertical-align: middle;\n",
       "    }\n",
       "\n",
       "    .dataframe tbody tr th {\n",
       "        vertical-align: top;\n",
       "    }\n",
       "\n",
       "    .dataframe thead tr th {\n",
       "        text-align: left;\n",
       "    }\n",
       "</style>\n",
       "<table border=\"1\" class=\"dataframe\">\n",
       "  <thead>\n",
       "    <tr>\n",
       "      <th></th>\n",
       "      <th>Time from Start to Finish (seconds)</th>\n",
       "      <th>Q1</th>\n",
       "      <th>Q2</th>\n",
       "      <th>Q3</th>\n",
       "      <th>Q4</th>\n",
       "      <th>Q5</th>\n",
       "      <th>Q6</th>\n",
       "      <th>Q7_Part_1</th>\n",
       "      <th>Q7_Part_2</th>\n",
       "      <th>Q7_Part_3</th>\n",
       "      <th>...</th>\n",
       "      <th>Q38_B_Part_3</th>\n",
       "      <th>Q38_B_Part_4</th>\n",
       "      <th>Q38_B_Part_5</th>\n",
       "      <th>Q38_B_Part_6</th>\n",
       "      <th>Q38_B_Part_7</th>\n",
       "      <th>Q38_B_Part_8</th>\n",
       "      <th>Q38_B_Part_9</th>\n",
       "      <th>Q38_B_Part_10</th>\n",
       "      <th>Q38_B_Part_11</th>\n",
       "      <th>Q38_B_OTHER</th>\n",
       "    </tr>\n",
       "    <tr>\n",
       "      <th></th>\n",
       "      <th>Duration (in seconds)</th>\n",
       "      <th>What is your age (# years)?</th>\n",
       "      <th>What is your gender? - Selected Choice</th>\n",
       "      <th>In which country do you currently reside?</th>\n",
       "      <th>What is the highest level of formal education that you have attained or plan to attain within the next 2 years?</th>\n",
       "      <th>Select the title most similar to your current role (or most recent title if retired): - Selected Choice</th>\n",
       "      <th>For how many years have you been writing code and/or programming?</th>\n",
       "      <th>What programming languages do you use on a regular basis? (Select all that apply) - Selected Choice - Python</th>\n",
       "      <th>What programming languages do you use on a regular basis? (Select all that apply) - Selected Choice - R</th>\n",
       "      <th>What programming languages do you use on a regular basis? (Select all that apply) - Selected Choice - SQL</th>\n",
       "      <th>...</th>\n",
       "      <th>In the next 2 years, do you hope to become more familiar with any of these tools for managing ML experiments? (Select all that apply) - Selected Choice -  Comet.ml</th>\n",
       "      <th>In the next 2 years, do you hope to become more familiar with any of these tools for managing ML experiments? (Select all that apply) - Selected Choice -  Sacred + Omniboard</th>\n",
       "      <th>In the next 2 years, do you hope to become more familiar with any of these tools for managing ML experiments? (Select all that apply) - Selected Choice -  TensorBoard</th>\n",
       "      <th>In the next 2 years, do you hope to become more familiar with any of these tools for managing ML experiments? (Select all that apply) - Selected Choice -  Guild.ai</th>\n",
       "      <th>In the next 2 years, do you hope to become more familiar with any of these tools for managing ML experiments? (Select all that apply) - Selected Choice -  Polyaxon</th>\n",
       "      <th>In the next 2 years, do you hope to become more familiar with any of these tools for managing ML experiments? (Select all that apply) - Selected Choice -  ClearML</th>\n",
       "      <th>In the next 2 years, do you hope to become more familiar with any of these tools for managing ML experiments? (Select all that apply) - Selected Choice -  Domino Model Monitor</th>\n",
       "      <th>In the next 2 years, do you hope to become more familiar with any of these tools for managing ML experiments? (Select all that apply) - Selected Choice -  MLflow</th>\n",
       "      <th>In the next 2 years, do you hope to become more familiar with any of these tools for managing ML experiments? (Select all that apply) - Selected Choice - None</th>\n",
       "      <th>In the next 2 years, do you hope to become more familiar with any of these tools for managing ML experiments? (Select all that apply) - Selected Choice - Other</th>\n",
       "    </tr>\n",
       "  </thead>\n",
       "  <tbody>\n",
       "    <tr>\n",
       "      <th>0</th>\n",
       "      <td>910</td>\n",
       "      <td>50-54</td>\n",
       "      <td>Man</td>\n",
       "      <td>India</td>\n",
       "      <td>Bachelor’s degree</td>\n",
       "      <td>Other</td>\n",
       "      <td>5-10 years</td>\n",
       "      <td>Python</td>\n",
       "      <td>R</td>\n",
       "      <td>NaN</td>\n",
       "      <td>...</td>\n",
       "      <td>NaN</td>\n",
       "      <td>NaN</td>\n",
       "      <td>NaN</td>\n",
       "      <td>NaN</td>\n",
       "      <td>NaN</td>\n",
       "      <td>NaN</td>\n",
       "      <td>NaN</td>\n",
       "      <td>NaN</td>\n",
       "      <td>NaN</td>\n",
       "      <td>NaN</td>\n",
       "    </tr>\n",
       "    <tr>\n",
       "      <th>1</th>\n",
       "      <td>784</td>\n",
       "      <td>50-54</td>\n",
       "      <td>Man</td>\n",
       "      <td>Indonesia</td>\n",
       "      <td>Master’s degree</td>\n",
       "      <td>Program/Project Manager</td>\n",
       "      <td>20+ years</td>\n",
       "      <td>NaN</td>\n",
       "      <td>NaN</td>\n",
       "      <td>SQL</td>\n",
       "      <td>...</td>\n",
       "      <td>NaN</td>\n",
       "      <td>NaN</td>\n",
       "      <td>NaN</td>\n",
       "      <td>NaN</td>\n",
       "      <td>NaN</td>\n",
       "      <td>NaN</td>\n",
       "      <td>NaN</td>\n",
       "      <td>NaN</td>\n",
       "      <td>NaN</td>\n",
       "      <td>NaN</td>\n",
       "    </tr>\n",
       "    <tr>\n",
       "      <th>2</th>\n",
       "      <td>924</td>\n",
       "      <td>22-24</td>\n",
       "      <td>Man</td>\n",
       "      <td>Pakistan</td>\n",
       "      <td>Master’s degree</td>\n",
       "      <td>Software Engineer</td>\n",
       "      <td>1-3 years</td>\n",
       "      <td>Python</td>\n",
       "      <td>NaN</td>\n",
       "      <td>NaN</td>\n",
       "      <td>...</td>\n",
       "      <td>NaN</td>\n",
       "      <td>NaN</td>\n",
       "      <td>TensorBoard</td>\n",
       "      <td>NaN</td>\n",
       "      <td>NaN</td>\n",
       "      <td>NaN</td>\n",
       "      <td>NaN</td>\n",
       "      <td>NaN</td>\n",
       "      <td>NaN</td>\n",
       "      <td>NaN</td>\n",
       "    </tr>\n",
       "    <tr>\n",
       "      <th>3</th>\n",
       "      <td>575</td>\n",
       "      <td>45-49</td>\n",
       "      <td>Man</td>\n",
       "      <td>Mexico</td>\n",
       "      <td>Doctoral degree</td>\n",
       "      <td>Research Scientist</td>\n",
       "      <td>20+ years</td>\n",
       "      <td>Python</td>\n",
       "      <td>NaN</td>\n",
       "      <td>NaN</td>\n",
       "      <td>...</td>\n",
       "      <td>NaN</td>\n",
       "      <td>NaN</td>\n",
       "      <td>NaN</td>\n",
       "      <td>NaN</td>\n",
       "      <td>NaN</td>\n",
       "      <td>NaN</td>\n",
       "      <td>NaN</td>\n",
       "      <td>NaN</td>\n",
       "      <td>NaN</td>\n",
       "      <td>NaN</td>\n",
       "    </tr>\n",
       "    <tr>\n",
       "      <th>4</th>\n",
       "      <td>781</td>\n",
       "      <td>45-49</td>\n",
       "      <td>Man</td>\n",
       "      <td>India</td>\n",
       "      <td>Doctoral degree</td>\n",
       "      <td>Other</td>\n",
       "      <td>&lt; 1 years</td>\n",
       "      <td>Python</td>\n",
       "      <td>NaN</td>\n",
       "      <td>NaN</td>\n",
       "      <td>...</td>\n",
       "      <td>NaN</td>\n",
       "      <td>NaN</td>\n",
       "      <td>NaN</td>\n",
       "      <td>NaN</td>\n",
       "      <td>NaN</td>\n",
       "      <td>NaN</td>\n",
       "      <td>NaN</td>\n",
       "      <td>NaN</td>\n",
       "      <td>NaN</td>\n",
       "      <td>NaN</td>\n",
       "    </tr>\n",
       "  </tbody>\n",
       "</table>\n",
       "<p>5 rows × 369 columns</p>\n",
       "</div>"
      ],
      "text/plain": [
       "  Time from Start to Finish (seconds)                          Q1  \\\n",
       "                Duration (in seconds) What is your age (# years)?   \n",
       "0                                 910                       50-54   \n",
       "1                                 784                       50-54   \n",
       "2                                 924                       22-24   \n",
       "3                                 575                       45-49   \n",
       "4                                 781                       45-49   \n",
       "\n",
       "                                      Q2  \\\n",
       "  What is your gender? - Selected Choice   \n",
       "0                                    Man   \n",
       "1                                    Man   \n",
       "2                                    Man   \n",
       "3                                    Man   \n",
       "4                                    Man   \n",
       "\n",
       "                                         Q3  \\\n",
       "  In which country do you currently reside?   \n",
       "0                                     India   \n",
       "1                                 Indonesia   \n",
       "2                                  Pakistan   \n",
       "3                                    Mexico   \n",
       "4                                     India   \n",
       "\n",
       "                                                                                                               Q4  \\\n",
       "  What is the highest level of formal education that you have attained or plan to attain within the next 2 years?   \n",
       "0                                  Bachelor’s degree                                                                \n",
       "1                                    Master’s degree                                                                \n",
       "2                                    Master’s degree                                                                \n",
       "3                                    Doctoral degree                                                                \n",
       "4                                    Doctoral degree                                                                \n",
       "\n",
       "                                                                                                       Q5  \\\n",
       "  Select the title most similar to your current role (or most recent title if retired): - Selected Choice   \n",
       "0                                              Other                                                        \n",
       "1                            Program/Project Manager                                                        \n",
       "2                                  Software Engineer                                                        \n",
       "3                                 Research Scientist                                                        \n",
       "4                                              Other                                                        \n",
       "\n",
       "                                                                 Q6  \\\n",
       "  For how many years have you been writing code and/or programming?   \n",
       "0                                         5-10 years                  \n",
       "1                                          20+ years                  \n",
       "2                                          1-3 years                  \n",
       "3                                          20+ years                  \n",
       "4                                          < 1 years                  \n",
       "\n",
       "                                                                                                     Q7_Part_1  \\\n",
       "  What programming languages do you use on a regular basis? (Select all that apply) - Selected Choice - Python   \n",
       "0                                             Python                                                             \n",
       "1                                                NaN                                                             \n",
       "2                                             Python                                                             \n",
       "3                                             Python                                                             \n",
       "4                                             Python                                                             \n",
       "\n",
       "                                                                                                Q7_Part_2  \\\n",
       "  What programming languages do you use on a regular basis? (Select all that apply) - Selected Choice - R   \n",
       "0                                                  R                                                        \n",
       "1                                                NaN                                                        \n",
       "2                                                NaN                                                        \n",
       "3                                                NaN                                                        \n",
       "4                                                NaN                                                        \n",
       "\n",
       "                                                                                                  Q7_Part_3  \\\n",
       "  What programming languages do you use on a regular basis? (Select all that apply) - Selected Choice - SQL   \n",
       "0                                                NaN                                                          \n",
       "1                                                SQL                                                          \n",
       "2                                                NaN                                                          \n",
       "3                                                NaN                                                          \n",
       "4                                                NaN                                                          \n",
       "\n",
       "   ...  \\\n",
       "   ...   \n",
       "0  ...   \n",
       "1  ...   \n",
       "2  ...   \n",
       "3  ...   \n",
       "4  ...   \n",
       "\n",
       "                                                                                                                                                          Q38_B_Part_3  \\\n",
       "  In the next 2 years, do you hope to become more familiar with any of these tools for managing ML experiments? (Select all that apply) - Selected Choice -  Comet.ml    \n",
       "0                                                NaN                                                                                                                     \n",
       "1                                                NaN                                                                                                                     \n",
       "2                                                NaN                                                                                                                     \n",
       "3                                                NaN                                                                                                                     \n",
       "4                                                NaN                                                                                                                     \n",
       "\n",
       "                                                                                                                                                                    Q38_B_Part_4  \\\n",
       "  In the next 2 years, do you hope to become more familiar with any of these tools for managing ML experiments? (Select all that apply) - Selected Choice -  Sacred + Omniboard    \n",
       "0                                                NaN                                                                                                                               \n",
       "1                                                NaN                                                                                                                               \n",
       "2                                                NaN                                                                                                                               \n",
       "3                                                NaN                                                                                                                               \n",
       "4                                                NaN                                                                                                                               \n",
       "\n",
       "                                                                                                                                                             Q38_B_Part_5  \\\n",
       "  In the next 2 years, do you hope to become more familiar with any of these tools for managing ML experiments? (Select all that apply) - Selected Choice -  TensorBoard    \n",
       "0                                                NaN                                                                                                                        \n",
       "1                                                NaN                                                                                                                        \n",
       "2                                       TensorBoard                                                                                                                         \n",
       "3                                                NaN                                                                                                                        \n",
       "4                                                NaN                                                                                                                        \n",
       "\n",
       "                                                                                                                                                          Q38_B_Part_6  \\\n",
       "  In the next 2 years, do you hope to become more familiar with any of these tools for managing ML experiments? (Select all that apply) - Selected Choice -  Guild.ai    \n",
       "0                                                NaN                                                                                                                     \n",
       "1                                                NaN                                                                                                                     \n",
       "2                                                NaN                                                                                                                     \n",
       "3                                                NaN                                                                                                                     \n",
       "4                                                NaN                                                                                                                     \n",
       "\n",
       "                                                                                                                                                          Q38_B_Part_7  \\\n",
       "  In the next 2 years, do you hope to become more familiar with any of these tools for managing ML experiments? (Select all that apply) - Selected Choice -  Polyaxon    \n",
       "0                                                NaN                                                                                                                     \n",
       "1                                                NaN                                                                                                                     \n",
       "2                                                NaN                                                                                                                     \n",
       "3                                                NaN                                                                                                                     \n",
       "4                                                NaN                                                                                                                     \n",
       "\n",
       "                                                                                                                                                         Q38_B_Part_8  \\\n",
       "  In the next 2 years, do you hope to become more familiar with any of these tools for managing ML experiments? (Select all that apply) - Selected Choice -  ClearML    \n",
       "0                                                NaN                                                                                                                    \n",
       "1                                                NaN                                                                                                                    \n",
       "2                                                NaN                                                                                                                    \n",
       "3                                                NaN                                                                                                                    \n",
       "4                                                NaN                                                                                                                    \n",
       "\n",
       "                                                                                                                                                                      Q38_B_Part_9  \\\n",
       "  In the next 2 years, do you hope to become more familiar with any of these tools for managing ML experiments? (Select all that apply) - Selected Choice -  Domino Model Monitor    \n",
       "0                                                NaN                                                                                                                                 \n",
       "1                                                NaN                                                                                                                                 \n",
       "2                                                NaN                                                                                                                                 \n",
       "3                                                NaN                                                                                                                                 \n",
       "4                                                NaN                                                                                                                                 \n",
       "\n",
       "                                                                                                                                                       Q38_B_Part_10  \\\n",
       "  In the next 2 years, do you hope to become more familiar with any of these tools for managing ML experiments? (Select all that apply) - Selected Choice -  MLflow    \n",
       "0                                                NaN                                                                                                                   \n",
       "1                                                NaN                                                                                                                   \n",
       "2                                                NaN                                                                                                                   \n",
       "3                                                NaN                                                                                                                   \n",
       "4                                                NaN                                                                                                                   \n",
       "\n",
       "                                                                                                                                                   Q38_B_Part_11  \\\n",
       "  In the next 2 years, do you hope to become more familiar with any of these tools for managing ML experiments? (Select all that apply) - Selected Choice - None   \n",
       "0                                                NaN                                                                                                               \n",
       "1                                                NaN                                                                                                               \n",
       "2                                                NaN                                                                                                               \n",
       "3                                                NaN                                                                                                               \n",
       "4                                                NaN                                                                                                               \n",
       "\n",
       "                                                                                                                                                      Q38_B_OTHER  \n",
       "  In the next 2 years, do you hope to become more familiar with any of these tools for managing ML experiments? (Select all that apply) - Selected Choice - Other  \n",
       "0                                                NaN                                                                                                               \n",
       "1                                                NaN                                                                                                               \n",
       "2                                                NaN                                                                                                               \n",
       "3                                                NaN                                                                                                               \n",
       "4                                                NaN                                                                                                               \n",
       "\n",
       "[5 rows x 369 columns]"
      ]
     },
     "execution_count": 44,
     "metadata": {},
     "output_type": "execute_result"
    }
   ],
   "source": [
    "kaggle2021.head() # Returns the top n (n=5 default) rows"
   ]
  },
  {
   "cell_type": "markdown",
   "id": "cf69bf51",
   "metadata": {
    "slideshow": {
     "slide_type": "slide"
    }
   },
   "source": [
    "## Visual data inspection continued"
   ]
  },
  {
   "cell_type": "code",
   "execution_count": 45,
   "id": "3fb006bd",
   "metadata": {
    "slideshow": {
     "slide_type": "fragment"
    }
   },
   "outputs": [
    {
     "data": {
      "text/html": [
       "<div>\n",
       "<style scoped>\n",
       "    .dataframe tbody tr th:only-of-type {\n",
       "        vertical-align: middle;\n",
       "    }\n",
       "\n",
       "    .dataframe tbody tr th {\n",
       "        vertical-align: top;\n",
       "    }\n",
       "\n",
       "    .dataframe thead tr th {\n",
       "        text-align: left;\n",
       "    }\n",
       "</style>\n",
       "<table border=\"1\" class=\"dataframe\">\n",
       "  <thead>\n",
       "    <tr>\n",
       "      <th></th>\n",
       "      <th>Time from Start to Finish (seconds)</th>\n",
       "      <th>Q1</th>\n",
       "      <th>Q2</th>\n",
       "      <th>Q3</th>\n",
       "      <th>Q4</th>\n",
       "      <th>Q5</th>\n",
       "      <th>Q6</th>\n",
       "      <th>Q7_Part_1</th>\n",
       "      <th>Q7_Part_2</th>\n",
       "      <th>Q7_Part_3</th>\n",
       "      <th>...</th>\n",
       "      <th>Q38_B_Part_3</th>\n",
       "      <th>Q38_B_Part_4</th>\n",
       "      <th>Q38_B_Part_5</th>\n",
       "      <th>Q38_B_Part_6</th>\n",
       "      <th>Q38_B_Part_7</th>\n",
       "      <th>Q38_B_Part_8</th>\n",
       "      <th>Q38_B_Part_9</th>\n",
       "      <th>Q38_B_Part_10</th>\n",
       "      <th>Q38_B_Part_11</th>\n",
       "      <th>Q38_B_OTHER</th>\n",
       "    </tr>\n",
       "    <tr>\n",
       "      <th></th>\n",
       "      <th>Duration (in seconds)</th>\n",
       "      <th>What is your age (# years)?</th>\n",
       "      <th>What is your gender? - Selected Choice</th>\n",
       "      <th>In which country do you currently reside?</th>\n",
       "      <th>What is the highest level of formal education that you have attained or plan to attain within the next 2 years?</th>\n",
       "      <th>Select the title most similar to your current role (or most recent title if retired): - Selected Choice</th>\n",
       "      <th>For how many years have you been writing code and/or programming?</th>\n",
       "      <th>What programming languages do you use on a regular basis? (Select all that apply) - Selected Choice - Python</th>\n",
       "      <th>What programming languages do you use on a regular basis? (Select all that apply) - Selected Choice - R</th>\n",
       "      <th>What programming languages do you use on a regular basis? (Select all that apply) - Selected Choice - SQL</th>\n",
       "      <th>...</th>\n",
       "      <th>In the next 2 years, do you hope to become more familiar with any of these tools for managing ML experiments? (Select all that apply) - Selected Choice -  Comet.ml</th>\n",
       "      <th>In the next 2 years, do you hope to become more familiar with any of these tools for managing ML experiments? (Select all that apply) - Selected Choice -  Sacred + Omniboard</th>\n",
       "      <th>In the next 2 years, do you hope to become more familiar with any of these tools for managing ML experiments? (Select all that apply) - Selected Choice -  TensorBoard</th>\n",
       "      <th>In the next 2 years, do you hope to become more familiar with any of these tools for managing ML experiments? (Select all that apply) - Selected Choice -  Guild.ai</th>\n",
       "      <th>In the next 2 years, do you hope to become more familiar with any of these tools for managing ML experiments? (Select all that apply) - Selected Choice -  Polyaxon</th>\n",
       "      <th>In the next 2 years, do you hope to become more familiar with any of these tools for managing ML experiments? (Select all that apply) - Selected Choice -  ClearML</th>\n",
       "      <th>In the next 2 years, do you hope to become more familiar with any of these tools for managing ML experiments? (Select all that apply) - Selected Choice -  Domino Model Monitor</th>\n",
       "      <th>In the next 2 years, do you hope to become more familiar with any of these tools for managing ML experiments? (Select all that apply) - Selected Choice -  MLflow</th>\n",
       "      <th>In the next 2 years, do you hope to become more familiar with any of these tools for managing ML experiments? (Select all that apply) - Selected Choice - None</th>\n",
       "      <th>In the next 2 years, do you hope to become more familiar with any of these tools for managing ML experiments? (Select all that apply) - Selected Choice - Other</th>\n",
       "    </tr>\n",
       "  </thead>\n",
       "  <tbody>\n",
       "    <tr>\n",
       "      <th>25968</th>\n",
       "      <td>1756</td>\n",
       "      <td>30-34</td>\n",
       "      <td>Man</td>\n",
       "      <td>Egypt</td>\n",
       "      <td>Bachelor’s degree</td>\n",
       "      <td>Data Analyst</td>\n",
       "      <td>1-3 years</td>\n",
       "      <td>Python</td>\n",
       "      <td>NaN</td>\n",
       "      <td>SQL</td>\n",
       "      <td>...</td>\n",
       "      <td>NaN</td>\n",
       "      <td>NaN</td>\n",
       "      <td>NaN</td>\n",
       "      <td>NaN</td>\n",
       "      <td>NaN</td>\n",
       "      <td>NaN</td>\n",
       "      <td>NaN</td>\n",
       "      <td>NaN</td>\n",
       "      <td>NaN</td>\n",
       "      <td>NaN</td>\n",
       "    </tr>\n",
       "    <tr>\n",
       "      <th>25969</th>\n",
       "      <td>253</td>\n",
       "      <td>22-24</td>\n",
       "      <td>Man</td>\n",
       "      <td>China</td>\n",
       "      <td>Master’s degree</td>\n",
       "      <td>Student</td>\n",
       "      <td>1-3 years</td>\n",
       "      <td>Python</td>\n",
       "      <td>NaN</td>\n",
       "      <td>NaN</td>\n",
       "      <td>...</td>\n",
       "      <td>NaN</td>\n",
       "      <td>NaN</td>\n",
       "      <td>NaN</td>\n",
       "      <td>NaN</td>\n",
       "      <td>NaN</td>\n",
       "      <td>NaN</td>\n",
       "      <td>NaN</td>\n",
       "      <td>NaN</td>\n",
       "      <td>NaN</td>\n",
       "      <td>NaN</td>\n",
       "    </tr>\n",
       "    <tr>\n",
       "      <th>25970</th>\n",
       "      <td>494</td>\n",
       "      <td>50-54</td>\n",
       "      <td>Man</td>\n",
       "      <td>Sweden</td>\n",
       "      <td>Doctoral degree</td>\n",
       "      <td>Research Scientist</td>\n",
       "      <td>I have never written code</td>\n",
       "      <td>NaN</td>\n",
       "      <td>NaN</td>\n",
       "      <td>NaN</td>\n",
       "      <td>...</td>\n",
       "      <td>NaN</td>\n",
       "      <td>NaN</td>\n",
       "      <td>NaN</td>\n",
       "      <td>NaN</td>\n",
       "      <td>NaN</td>\n",
       "      <td>NaN</td>\n",
       "      <td>NaN</td>\n",
       "      <td>NaN</td>\n",
       "      <td>NaN</td>\n",
       "      <td>NaN</td>\n",
       "    </tr>\n",
       "    <tr>\n",
       "      <th>25971</th>\n",
       "      <td>277</td>\n",
       "      <td>45-49</td>\n",
       "      <td>Man</td>\n",
       "      <td>United States of America</td>\n",
       "      <td>Master’s degree</td>\n",
       "      <td>Data Scientist</td>\n",
       "      <td>5-10 years</td>\n",
       "      <td>Python</td>\n",
       "      <td>NaN</td>\n",
       "      <td>SQL</td>\n",
       "      <td>...</td>\n",
       "      <td>NaN</td>\n",
       "      <td>NaN</td>\n",
       "      <td>NaN</td>\n",
       "      <td>NaN</td>\n",
       "      <td>NaN</td>\n",
       "      <td>NaN</td>\n",
       "      <td>NaN</td>\n",
       "      <td>NaN</td>\n",
       "      <td>NaN</td>\n",
       "      <td>NaN</td>\n",
       "    </tr>\n",
       "    <tr>\n",
       "      <th>25972</th>\n",
       "      <td>255</td>\n",
       "      <td>18-21</td>\n",
       "      <td>Man</td>\n",
       "      <td>India</td>\n",
       "      <td>Bachelor’s degree</td>\n",
       "      <td>Business Analyst</td>\n",
       "      <td>I have never written code</td>\n",
       "      <td>NaN</td>\n",
       "      <td>NaN</td>\n",
       "      <td>NaN</td>\n",
       "      <td>...</td>\n",
       "      <td>NaN</td>\n",
       "      <td>NaN</td>\n",
       "      <td>NaN</td>\n",
       "      <td>NaN</td>\n",
       "      <td>NaN</td>\n",
       "      <td>NaN</td>\n",
       "      <td>NaN</td>\n",
       "      <td>NaN</td>\n",
       "      <td>NaN</td>\n",
       "      <td>NaN</td>\n",
       "    </tr>\n",
       "  </tbody>\n",
       "</table>\n",
       "<p>5 rows × 369 columns</p>\n",
       "</div>"
      ],
      "text/plain": [
       "      Time from Start to Finish (seconds)                          Q1  \\\n",
       "                    Duration (in seconds) What is your age (# years)?   \n",
       "25968                                1756                       30-34   \n",
       "25969                                 253                       22-24   \n",
       "25970                                 494                       50-54   \n",
       "25971                                 277                       45-49   \n",
       "25972                                 255                       18-21   \n",
       "\n",
       "                                          Q2  \\\n",
       "      What is your gender? - Selected Choice   \n",
       "25968                                    Man   \n",
       "25969                                    Man   \n",
       "25970                                    Man   \n",
       "25971                                    Man   \n",
       "25972                                    Man   \n",
       "\n",
       "                                             Q3  \\\n",
       "      In which country do you currently reside?   \n",
       "25968                                     Egypt   \n",
       "25969                                     China   \n",
       "25970                                    Sweden   \n",
       "25971                  United States of America   \n",
       "25972                                     India   \n",
       "\n",
       "                                                                                                                   Q4  \\\n",
       "      What is the highest level of formal education that you have attained or plan to attain within the next 2 years?   \n",
       "25968                                  Bachelor’s degree                                                                \n",
       "25969                                    Master’s degree                                                                \n",
       "25970                                    Doctoral degree                                                                \n",
       "25971                                    Master’s degree                                                                \n",
       "25972                                  Bachelor’s degree                                                                \n",
       "\n",
       "                                                                                                           Q5  \\\n",
       "      Select the title most similar to your current role (or most recent title if retired): - Selected Choice   \n",
       "25968                                       Data Analyst                                                        \n",
       "25969                                            Student                                                        \n",
       "25970                                 Research Scientist                                                        \n",
       "25971                                     Data Scientist                                                        \n",
       "25972                                   Business Analyst                                                        \n",
       "\n",
       "                                                                     Q6  \\\n",
       "      For how many years have you been writing code and/or programming?   \n",
       "25968                                          1-3 years                  \n",
       "25969                                          1-3 years                  \n",
       "25970                          I have never written code                  \n",
       "25971                                         5-10 years                  \n",
       "25972                          I have never written code                  \n",
       "\n",
       "                                                                                                         Q7_Part_1  \\\n",
       "      What programming languages do you use on a regular basis? (Select all that apply) - Selected Choice - Python   \n",
       "25968                                             Python                                                             \n",
       "25969                                             Python                                                             \n",
       "25970                                                NaN                                                             \n",
       "25971                                             Python                                                             \n",
       "25972                                                NaN                                                             \n",
       "\n",
       "                                                                                                    Q7_Part_2  \\\n",
       "      What programming languages do you use on a regular basis? (Select all that apply) - Selected Choice - R   \n",
       "25968                                                NaN                                                        \n",
       "25969                                                NaN                                                        \n",
       "25970                                                NaN                                                        \n",
       "25971                                                NaN                                                        \n",
       "25972                                                NaN                                                        \n",
       "\n",
       "                                                                                                      Q7_Part_3  \\\n",
       "      What programming languages do you use on a regular basis? (Select all that apply) - Selected Choice - SQL   \n",
       "25968                                                SQL                                                          \n",
       "25969                                                NaN                                                          \n",
       "25970                                                NaN                                                          \n",
       "25971                                                SQL                                                          \n",
       "25972                                                NaN                                                          \n",
       "\n",
       "       ...  \\\n",
       "       ...   \n",
       "25968  ...   \n",
       "25969  ...   \n",
       "25970  ...   \n",
       "25971  ...   \n",
       "25972  ...   \n",
       "\n",
       "                                                                                                                                                              Q38_B_Part_3  \\\n",
       "      In the next 2 years, do you hope to become more familiar with any of these tools for managing ML experiments? (Select all that apply) - Selected Choice -  Comet.ml    \n",
       "25968                                                NaN                                                                                                                     \n",
       "25969                                                NaN                                                                                                                     \n",
       "25970                                                NaN                                                                                                                     \n",
       "25971                                                NaN                                                                                                                     \n",
       "25972                                                NaN                                                                                                                     \n",
       "\n",
       "                                                                                                                                                                        Q38_B_Part_4  \\\n",
       "      In the next 2 years, do you hope to become more familiar with any of these tools for managing ML experiments? (Select all that apply) - Selected Choice -  Sacred + Omniboard    \n",
       "25968                                                NaN                                                                                                                               \n",
       "25969                                                NaN                                                                                                                               \n",
       "25970                                                NaN                                                                                                                               \n",
       "25971                                                NaN                                                                                                                               \n",
       "25972                                                NaN                                                                                                                               \n",
       "\n",
       "                                                                                                                                                                 Q38_B_Part_5  \\\n",
       "      In the next 2 years, do you hope to become more familiar with any of these tools for managing ML experiments? (Select all that apply) - Selected Choice -  TensorBoard    \n",
       "25968                                                NaN                                                                                                                        \n",
       "25969                                                NaN                                                                                                                        \n",
       "25970                                                NaN                                                                                                                        \n",
       "25971                                                NaN                                                                                                                        \n",
       "25972                                                NaN                                                                                                                        \n",
       "\n",
       "                                                                                                                                                              Q38_B_Part_6  \\\n",
       "      In the next 2 years, do you hope to become more familiar with any of these tools for managing ML experiments? (Select all that apply) - Selected Choice -  Guild.ai    \n",
       "25968                                                NaN                                                                                                                     \n",
       "25969                                                NaN                                                                                                                     \n",
       "25970                                                NaN                                                                                                                     \n",
       "25971                                                NaN                                                                                                                     \n",
       "25972                                                NaN                                                                                                                     \n",
       "\n",
       "                                                                                                                                                              Q38_B_Part_7  \\\n",
       "      In the next 2 years, do you hope to become more familiar with any of these tools for managing ML experiments? (Select all that apply) - Selected Choice -  Polyaxon    \n",
       "25968                                                NaN                                                                                                                     \n",
       "25969                                                NaN                                                                                                                     \n",
       "25970                                                NaN                                                                                                                     \n",
       "25971                                                NaN                                                                                                                     \n",
       "25972                                                NaN                                                                                                                     \n",
       "\n",
       "                                                                                                                                                             Q38_B_Part_8  \\\n",
       "      In the next 2 years, do you hope to become more familiar with any of these tools for managing ML experiments? (Select all that apply) - Selected Choice -  ClearML    \n",
       "25968                                                NaN                                                                                                                    \n",
       "25969                                                NaN                                                                                                                    \n",
       "25970                                                NaN                                                                                                                    \n",
       "25971                                                NaN                                                                                                                    \n",
       "25972                                                NaN                                                                                                                    \n",
       "\n",
       "                                                                                                                                                                          Q38_B_Part_9  \\\n",
       "      In the next 2 years, do you hope to become more familiar with any of these tools for managing ML experiments? (Select all that apply) - Selected Choice -  Domino Model Monitor    \n",
       "25968                                                NaN                                                                                                                                 \n",
       "25969                                                NaN                                                                                                                                 \n",
       "25970                                                NaN                                                                                                                                 \n",
       "25971                                                NaN                                                                                                                                 \n",
       "25972                                                NaN                                                                                                                                 \n",
       "\n",
       "                                                                                                                                                           Q38_B_Part_10  \\\n",
       "      In the next 2 years, do you hope to become more familiar with any of these tools for managing ML experiments? (Select all that apply) - Selected Choice -  MLflow    \n",
       "25968                                                NaN                                                                                                                   \n",
       "25969                                                NaN                                                                                                                   \n",
       "25970                                                NaN                                                                                                                   \n",
       "25971                                                NaN                                                                                                                   \n",
       "25972                                                NaN                                                                                                                   \n",
       "\n",
       "                                                                                                                                                       Q38_B_Part_11  \\\n",
       "      In the next 2 years, do you hope to become more familiar with any of these tools for managing ML experiments? (Select all that apply) - Selected Choice - None   \n",
       "25968                                                NaN                                                                                                               \n",
       "25969                                                NaN                                                                                                               \n",
       "25970                                                NaN                                                                                                               \n",
       "25971                                                NaN                                                                                                               \n",
       "25972                                                NaN                                                                                                               \n",
       "\n",
       "                                                                                                                                                          Q38_B_OTHER  \n",
       "      In the next 2 years, do you hope to become more familiar with any of these tools for managing ML experiments? (Select all that apply) - Selected Choice - Other  \n",
       "25968                                                NaN                                                                                                               \n",
       "25969                                                NaN                                                                                                               \n",
       "25970                                                NaN                                                                                                               \n",
       "25971                                                NaN                                                                                                               \n",
       "25972                                                NaN                                                                                                               \n",
       "\n",
       "[5 rows x 369 columns]"
      ]
     },
     "execution_count": 45,
     "metadata": {},
     "output_type": "execute_result"
    }
   ],
   "source": [
    "kaggle2021.tail() # Returns the bottom n (n=5 default) rows"
   ]
  },
  {
   "cell_type": "markdown",
   "id": "09ad7c0d",
   "metadata": {
    "slideshow": {
     "slide_type": "slide"
    }
   },
   "source": [
    "## Reading in other (non-`.csv`) data files\n",
    "\n",
    "- Pandas can read in file other than `.csv` (comma-separated value)\n",
    "- Common cases include STATA `.dta`, SPSS `.sav` and SAS `.sas`\n",
    "- Use `pd.read_stata(path)`, `pd.read_spss(path)` and `pd.read_sas(path)`\n",
    "- Check [here](https://pandas.pydata.org/docs/getting_started/intro_tutorials/02_read_write.html) for more examples"
   ]
  },
  {
   "cell_type": "markdown",
   "id": "d2893a52",
   "metadata": {
    "slideshow": {
     "slide_type": "slide"
    }
   },
   "source": [
    "## Writing data out in `pandas`\n",
    "\n",
    "- Note that when writing data out we start with the object name storing the dataset\n",
    "- I.e. `df.to_csv(path)` as opposed to `df = pd.read_csv(path)`\n",
    "- Pandas can also write out into other data formats\n",
    "- E.g. `df.to_excel(path)`, `df.to_stata(path)`"
   ]
  },
  {
   "cell_type": "code",
   "execution_count": 46,
   "id": "a6612a6a",
   "metadata": {
    "slideshow": {
     "slide_type": "fragment"
    }
   },
   "outputs": [],
   "source": [
    "kaggle2021.to_csv('../temp/kaggle2021.csv')"
   ]
  },
  {
   "cell_type": "markdown",
   "id": "a80ebd4a",
   "metadata": {
    "slideshow": {
     "slide_type": "slide"
    }
   },
   "source": [
    "## Additional pandas materials\n",
    "\n",
    "Books:\n",
    "\n",
    "- McKinney, Wes. 2022. *Python for Data Analysis: Data Wrangling with pandas, NumPy, and\n",
    "Jupyter*. 3rd ed. Sebastopol, CA: O'Reilly Media\n",
    "  \n",
    "  **From the original author of the library!**\n",
    "\n",
    "Online:\n",
    "\n",
    "- [Pandas Getting Started Tutorials](https://pandas.pydata.org/docs/getting_started/intro_tutorials/index.html)\n",
    "- [Pandas Documentation](https://pandas.pydata.org/docs/reference/index.html) (intermediate and advanced)"
   ]
  },
  {
   "cell_type": "markdown",
   "id": "af10a8bb",
   "metadata": {
    "slideshow": {
     "slide_type": "slide"
    }
   },
   "source": [
    "## Tomorrow\n",
    "\n",
    "- Exploratory data analysis\n",
    "- Data visualization"
   ]
  }
 ],
 "metadata": {
  "celltoolbar": "Slideshow",
  "kernelspec": {
   "display_name": "Python 3 (ipykernel)",
   "language": "python",
   "name": "python3"
  },
  "language_info": {
   "codemirror_mode": {
    "name": "ipython",
    "version": 3
   },
   "file_extension": ".py",
   "mimetype": "text/x-python",
   "name": "python",
   "nbconvert_exporter": "python",
   "pygments_lexer": "ipython3",
   "version": "3.10.6"
  }
 },
 "nbformat": 4,
 "nbformat_minor": 5
}
