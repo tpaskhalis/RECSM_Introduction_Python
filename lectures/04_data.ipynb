{
 "cells": [
  {
   "cell_type": "markdown",
   "id": "d0ba3b68",
   "metadata": {
    "slideshow": {
     "slide_type": "slide"
    }
   },
   "source": [
    "# Day 2, Part 4: Exploratory Data Analysis & Data Visualization\n",
    "\n",
    "## Introduction to Python\n",
    "\n",
    "### [Tom Paskhalis](https://tom.paskhal.is/)\n",
    "\n",
    "##### [RECSM Summer School 2023](https://www.upf.edu/web/survey/summer-school-2023)"
   ]
  },
  {
   "cell_type": "markdown",
   "id": "633f0d9a",
   "metadata": {
    "slideshow": {
     "slide_type": "slide"
    }
   },
   "source": [
    "## Exploratory data analysis\n",
    "\n",
    "- \"Exploratory data analysis can never be the whole story, but nothing else can serve as the foundation stone--as the first step.\" ([Tukey, 1977](https://archive.org/details/exploratorydataa0000tuke_7616))\n",
    "- Exploratory data analysis (EDA) is the first and often most important step in research\n",
    "- Study's feasibility, scope and framing would usually depend on its results\n",
    "- Specific details of EDA depend upon the type and quality of data available"
   ]
  },
  {
   "cell_type": "markdown",
   "id": "505c49db",
   "metadata": {
    "slideshow": {
     "slide_type": "slide"
    }
   },
   "source": [
    "## Measurement scales\n",
    "\n",
    "<div style=\"text-align: center;\">\n",
    "    <img width=\"700\" height=\"400\" src=\"../imgs/Stevens1946_tab1.png\">\n",
    "</div>\n",
    "\n",
    "Source: [Stevens (1946)](https://doi.org/10.1126/science.103.2684.677)"
   ]
  },
  {
   "cell_type": "markdown",
   "id": "0715f64b",
   "metadata": {
    "slideshow": {
     "slide_type": "slide"
    }
   },
   "source": [
    "## Measurement scales in Pandas\n",
    "\n",
    "- The 4 measurement scales defined by Stevens (1946) can be roughly represented in pandas as follows:\n",
    "- *Interval* and *ratio* -> numeric\n",
    "- *Nominal* and *ordinal* -> [categorical](https://pandas.pydata.org/pandas-docs/stable/user_guide/categorical.html)"
   ]
  },
  {
   "cell_type": "markdown",
   "id": "1bb17a5f",
   "metadata": {
    "slideshow": {
     "slide_type": "slide"
    }
   },
   "source": [
    "## Loading the dataset"
   ]
  },
  {
   "cell_type": "code",
   "execution_count": 1,
   "id": "73a47bcf",
   "metadata": {
    "slideshow": {
     "slide_type": "fragment"
    }
   },
   "outputs": [],
   "source": [
    "import pandas as pd"
   ]
  },
  {
   "cell_type": "code",
   "execution_count": 2,
   "id": "2f43c2d8",
   "metadata": {
    "slideshow": {
     "slide_type": "fragment"
    }
   },
   "outputs": [
    {
     "name": "stderr",
     "output_type": "stream",
     "text": [
      "/tmp/ipykernel_282529/2302513793.py:2: DtypeWarning: Columns (195,201) have mixed types. Specify dtype option on import or set low_memory=False.\n",
      "  kaggle2021 = pd.read_csv('../data/kaggle_survey_2021_responses.csv', skiprows = [1])\n"
     ]
    },
    {
     "data": {
      "text/html": [
       "<div>\n",
       "<style scoped>\n",
       "    .dataframe tbody tr th:only-of-type {\n",
       "        vertical-align: middle;\n",
       "    }\n",
       "\n",
       "    .dataframe tbody tr th {\n",
       "        vertical-align: top;\n",
       "    }\n",
       "\n",
       "    .dataframe thead th {\n",
       "        text-align: right;\n",
       "    }\n",
       "</style>\n",
       "<table border=\"1\" class=\"dataframe\">\n",
       "  <thead>\n",
       "    <tr style=\"text-align: right;\">\n",
       "      <th></th>\n",
       "      <th>Time from Start to Finish (seconds)</th>\n",
       "      <th>Q1</th>\n",
       "      <th>Q2</th>\n",
       "      <th>Q3</th>\n",
       "      <th>Q4</th>\n",
       "      <th>Q5</th>\n",
       "      <th>Q6</th>\n",
       "      <th>Q7_Part_1</th>\n",
       "      <th>Q7_Part_2</th>\n",
       "      <th>Q7_Part_3</th>\n",
       "      <th>...</th>\n",
       "      <th>Q38_B_Part_3</th>\n",
       "      <th>Q38_B_Part_4</th>\n",
       "      <th>Q38_B_Part_5</th>\n",
       "      <th>Q38_B_Part_6</th>\n",
       "      <th>Q38_B_Part_7</th>\n",
       "      <th>Q38_B_Part_8</th>\n",
       "      <th>Q38_B_Part_9</th>\n",
       "      <th>Q38_B_Part_10</th>\n",
       "      <th>Q38_B_Part_11</th>\n",
       "      <th>Q38_B_OTHER</th>\n",
       "    </tr>\n",
       "  </thead>\n",
       "  <tbody>\n",
       "    <tr>\n",
       "      <th>0</th>\n",
       "      <td>910</td>\n",
       "      <td>50-54</td>\n",
       "      <td>Man</td>\n",
       "      <td>India</td>\n",
       "      <td>Bachelor’s degree</td>\n",
       "      <td>Other</td>\n",
       "      <td>5-10 years</td>\n",
       "      <td>Python</td>\n",
       "      <td>R</td>\n",
       "      <td>NaN</td>\n",
       "      <td>...</td>\n",
       "      <td>NaN</td>\n",
       "      <td>NaN</td>\n",
       "      <td>NaN</td>\n",
       "      <td>NaN</td>\n",
       "      <td>NaN</td>\n",
       "      <td>NaN</td>\n",
       "      <td>NaN</td>\n",
       "      <td>NaN</td>\n",
       "      <td>NaN</td>\n",
       "      <td>NaN</td>\n",
       "    </tr>\n",
       "  </tbody>\n",
       "</table>\n",
       "<p>1 rows × 369 columns</p>\n",
       "</div>"
      ],
      "text/plain": [
       "   Time from Start to Finish (seconds)     Q1   Q2     Q3                 Q4  \\\n",
       "0                                  910  50-54  Man  India  Bachelor’s degree   \n",
       "\n",
       "      Q5          Q6 Q7_Part_1 Q7_Part_2 Q7_Part_3  ... Q38_B_Part_3  \\\n",
       "0  Other  5-10 years    Python         R       NaN  ...          NaN   \n",
       "\n",
       "  Q38_B_Part_4 Q38_B_Part_5 Q38_B_Part_6 Q38_B_Part_7 Q38_B_Part_8  \\\n",
       "0          NaN          NaN          NaN          NaN          NaN   \n",
       "\n",
       "  Q38_B_Part_9 Q38_B_Part_10  Q38_B_Part_11 Q38_B_OTHER  \n",
       "0          NaN           NaN            NaN         NaN  \n",
       "\n",
       "[1 rows x 369 columns]"
      ]
     },
     "execution_count": 2,
     "metadata": {},
     "output_type": "execute_result"
    }
   ],
   "source": [
    "# This time let's skip the 2nd row, which contains questions\n",
    "kaggle2021 = pd.read_csv('../data/kaggle_survey_2021_responses.csv', skiprows = [1])\n",
    "kaggle2021.head(n = 1)"
   ]
  },
  {
   "cell_type": "code",
   "execution_count": 3,
   "id": "cf6a56f1",
   "metadata": {
    "slideshow": {
     "slide_type": "fragment"
    }
   },
   "outputs": [
    {
     "data": {
      "text/html": [
       "<div>\n",
       "<style scoped>\n",
       "    .dataframe tbody tr th:only-of-type {\n",
       "        vertical-align: middle;\n",
       "    }\n",
       "\n",
       "    .dataframe tbody tr th {\n",
       "        vertical-align: top;\n",
       "    }\n",
       "\n",
       "    .dataframe thead th {\n",
       "        text-align: right;\n",
       "    }\n",
       "</style>\n",
       "<table border=\"1\" class=\"dataframe\">\n",
       "  <thead>\n",
       "    <tr style=\"text-align: right;\">\n",
       "      <th></th>\n",
       "      <th>Time from Start to Finish (seconds)</th>\n",
       "      <th>Q1</th>\n",
       "      <th>Q2</th>\n",
       "      <th>Q3</th>\n",
       "      <th>Q4</th>\n",
       "      <th>Q5</th>\n",
       "      <th>Q6</th>\n",
       "      <th>Q7_Part_1</th>\n",
       "      <th>Q7_Part_2</th>\n",
       "      <th>Q7_Part_3</th>\n",
       "      <th>...</th>\n",
       "      <th>Q38_B_Part_3</th>\n",
       "      <th>Q38_B_Part_4</th>\n",
       "      <th>Q38_B_Part_5</th>\n",
       "      <th>Q38_B_Part_6</th>\n",
       "      <th>Q38_B_Part_7</th>\n",
       "      <th>Q38_B_Part_8</th>\n",
       "      <th>Q38_B_Part_9</th>\n",
       "      <th>Q38_B_Part_10</th>\n",
       "      <th>Q38_B_Part_11</th>\n",
       "      <th>Q38_B_OTHER</th>\n",
       "    </tr>\n",
       "  </thead>\n",
       "  <tbody>\n",
       "    <tr>\n",
       "      <th>0</th>\n",
       "      <td>Duration (in seconds)</td>\n",
       "      <td>What is your age (# years)?</td>\n",
       "      <td>What is your gender? - Selected Choice</td>\n",
       "      <td>In which country do you currently reside?</td>\n",
       "      <td>What is the highest level of formal education ...</td>\n",
       "      <td>Select the title most similar to your current ...</td>\n",
       "      <td>For how many years have you been writing code ...</td>\n",
       "      <td>What programming languages do you use on a reg...</td>\n",
       "      <td>What programming languages do you use on a reg...</td>\n",
       "      <td>What programming languages do you use on a reg...</td>\n",
       "      <td>...</td>\n",
       "      <td>In the next 2 years, do you hope to become mor...</td>\n",
       "      <td>In the next 2 years, do you hope to become mor...</td>\n",
       "      <td>In the next 2 years, do you hope to become mor...</td>\n",
       "      <td>In the next 2 years, do you hope to become mor...</td>\n",
       "      <td>In the next 2 years, do you hope to become mor...</td>\n",
       "      <td>In the next 2 years, do you hope to become mor...</td>\n",
       "      <td>In the next 2 years, do you hope to become mor...</td>\n",
       "      <td>In the next 2 years, do you hope to become mor...</td>\n",
       "      <td>In the next 2 years, do you hope to become mor...</td>\n",
       "      <td>In the next 2 years, do you hope to become mor...</td>\n",
       "    </tr>\n",
       "  </tbody>\n",
       "</table>\n",
       "<p>1 rows × 369 columns</p>\n",
       "</div>"
      ],
      "text/plain": [
       "  Time from Start to Finish (seconds)                           Q1  \\\n",
       "0               Duration (in seconds)  What is your age (# years)?   \n",
       "\n",
       "                                       Q2  \\\n",
       "0  What is your gender? - Selected Choice   \n",
       "\n",
       "                                          Q3  \\\n",
       "0  In which country do you currently reside?   \n",
       "\n",
       "                                                  Q4  \\\n",
       "0  What is the highest level of formal education ...   \n",
       "\n",
       "                                                  Q5  \\\n",
       "0  Select the title most similar to your current ...   \n",
       "\n",
       "                                                  Q6  \\\n",
       "0  For how many years have you been writing code ...   \n",
       "\n",
       "                                           Q7_Part_1  \\\n",
       "0  What programming languages do you use on a reg...   \n",
       "\n",
       "                                           Q7_Part_2  \\\n",
       "0  What programming languages do you use on a reg...   \n",
       "\n",
       "                                           Q7_Part_3  ...  \\\n",
       "0  What programming languages do you use on a reg...  ...   \n",
       "\n",
       "                                        Q38_B_Part_3  \\\n",
       "0  In the next 2 years, do you hope to become mor...   \n",
       "\n",
       "                                        Q38_B_Part_4  \\\n",
       "0  In the next 2 years, do you hope to become mor...   \n",
       "\n",
       "                                        Q38_B_Part_5  \\\n",
       "0  In the next 2 years, do you hope to become mor...   \n",
       "\n",
       "                                        Q38_B_Part_6  \\\n",
       "0  In the next 2 years, do you hope to become mor...   \n",
       "\n",
       "                                        Q38_B_Part_7  \\\n",
       "0  In the next 2 years, do you hope to become mor...   \n",
       "\n",
       "                                        Q38_B_Part_8  \\\n",
       "0  In the next 2 years, do you hope to become mor...   \n",
       "\n",
       "                                        Q38_B_Part_9  \\\n",
       "0  In the next 2 years, do you hope to become mor...   \n",
       "\n",
       "                                       Q38_B_Part_10  \\\n",
       "0  In the next 2 years, do you hope to become mor...   \n",
       "\n",
       "                                       Q38_B_Part_11  \\\n",
       "0  In the next 2 years, do you hope to become mor...   \n",
       "\n",
       "                                         Q38_B_OTHER  \n",
       "0  In the next 2 years, do you hope to become mor...  \n",
       "\n",
       "[1 rows x 369 columns]"
      ]
     },
     "execution_count": 3,
     "metadata": {},
     "output_type": "execute_result"
    }
   ],
   "source": [
    "# We will load the questions as a separate dataset\n",
    "kaggle2021_qs = pd.read_csv('../data/kaggle_survey_2021_responses.csv', nrows = 1)\n",
    "kaggle2021_qs"
   ]
  },
  {
   "cell_type": "markdown",
   "id": "41f601c6",
   "metadata": {
    "slideshow": {
     "slide_type": "slide"
    }
   },
   "source": [
    "## Summarizing numeric variables\n",
    "\n",
    "- DataFrame methods in pandas can automatically handle (exclude) missing data (`NaN`)"
   ]
  },
  {
   "cell_type": "code",
   "execution_count": 4,
   "id": "8b7600f3",
   "metadata": {
    "slideshow": {
     "slide_type": "fragment"
    }
   },
   "outputs": [
    {
     "data": {
      "text/html": [
       "<div>\n",
       "<style scoped>\n",
       "    .dataframe tbody tr th:only-of-type {\n",
       "        vertical-align: middle;\n",
       "    }\n",
       "\n",
       "    .dataframe tbody tr th {\n",
       "        vertical-align: top;\n",
       "    }\n",
       "\n",
       "    .dataframe thead th {\n",
       "        text-align: right;\n",
       "    }\n",
       "</style>\n",
       "<table border=\"1\" class=\"dataframe\">\n",
       "  <thead>\n",
       "    <tr style=\"text-align: right;\">\n",
       "      <th></th>\n",
       "      <th>Time from Start to Finish (seconds)</th>\n",
       "      <th>Q7_Part_12</th>\n",
       "      <th>Q9_Part_12</th>\n",
       "      <th>Q10_Part_16</th>\n",
       "      <th>Q12_Part_5</th>\n",
       "      <th>Q14_Part_11</th>\n",
       "      <th>Q16_Part_17</th>\n",
       "      <th>Q17_Part_11</th>\n",
       "      <th>Q18_Part_6</th>\n",
       "      <th>Q19_Part_5</th>\n",
       "      <th>...</th>\n",
       "      <th>Q30_B_Part_5</th>\n",
       "      <th>Q30_B_Part_6</th>\n",
       "      <th>Q30_B_Part_7</th>\n",
       "      <th>Q30_B_OTHER</th>\n",
       "      <th>Q31_B_Part_9</th>\n",
       "      <th>Q32_B_Part_20</th>\n",
       "      <th>Q34_B_Part_16</th>\n",
       "      <th>Q36_B_Part_7</th>\n",
       "      <th>Q37_B_Part_7</th>\n",
       "      <th>Q38_B_Part_11</th>\n",
       "    </tr>\n",
       "  </thead>\n",
       "  <tbody>\n",
       "    <tr>\n",
       "      <th>count</th>\n",
       "      <td>2.597300e+04</td>\n",
       "      <td>0.0</td>\n",
       "      <td>0.0</td>\n",
       "      <td>0.0</td>\n",
       "      <td>0.0</td>\n",
       "      <td>0.0</td>\n",
       "      <td>0.0</td>\n",
       "      <td>0.0</td>\n",
       "      <td>0.0</td>\n",
       "      <td>0.0</td>\n",
       "      <td>...</td>\n",
       "      <td>0.0</td>\n",
       "      <td>0.0</td>\n",
       "      <td>0.0</td>\n",
       "      <td>0.0</td>\n",
       "      <td>0.0</td>\n",
       "      <td>0.0</td>\n",
       "      <td>0.0</td>\n",
       "      <td>0.0</td>\n",
       "      <td>0.0</td>\n",
       "      <td>0.0</td>\n",
       "    </tr>\n",
       "    <tr>\n",
       "      <th>mean</th>\n",
       "      <td>1.105466e+04</td>\n",
       "      <td>NaN</td>\n",
       "      <td>NaN</td>\n",
       "      <td>NaN</td>\n",
       "      <td>NaN</td>\n",
       "      <td>NaN</td>\n",
       "      <td>NaN</td>\n",
       "      <td>NaN</td>\n",
       "      <td>NaN</td>\n",
       "      <td>NaN</td>\n",
       "      <td>...</td>\n",
       "      <td>NaN</td>\n",
       "      <td>NaN</td>\n",
       "      <td>NaN</td>\n",
       "      <td>NaN</td>\n",
       "      <td>NaN</td>\n",
       "      <td>NaN</td>\n",
       "      <td>NaN</td>\n",
       "      <td>NaN</td>\n",
       "      <td>NaN</td>\n",
       "      <td>NaN</td>\n",
       "    </tr>\n",
       "    <tr>\n",
       "      <th>std</th>\n",
       "      <td>1.014716e+05</td>\n",
       "      <td>NaN</td>\n",
       "      <td>NaN</td>\n",
       "      <td>NaN</td>\n",
       "      <td>NaN</td>\n",
       "      <td>NaN</td>\n",
       "      <td>NaN</td>\n",
       "      <td>NaN</td>\n",
       "      <td>NaN</td>\n",
       "      <td>NaN</td>\n",
       "      <td>...</td>\n",
       "      <td>NaN</td>\n",
       "      <td>NaN</td>\n",
       "      <td>NaN</td>\n",
       "      <td>NaN</td>\n",
       "      <td>NaN</td>\n",
       "      <td>NaN</td>\n",
       "      <td>NaN</td>\n",
       "      <td>NaN</td>\n",
       "      <td>NaN</td>\n",
       "      <td>NaN</td>\n",
       "    </tr>\n",
       "    <tr>\n",
       "      <th>min</th>\n",
       "      <td>1.200000e+02</td>\n",
       "      <td>NaN</td>\n",
       "      <td>NaN</td>\n",
       "      <td>NaN</td>\n",
       "      <td>NaN</td>\n",
       "      <td>NaN</td>\n",
       "      <td>NaN</td>\n",
       "      <td>NaN</td>\n",
       "      <td>NaN</td>\n",
       "      <td>NaN</td>\n",
       "      <td>...</td>\n",
       "      <td>NaN</td>\n",
       "      <td>NaN</td>\n",
       "      <td>NaN</td>\n",
       "      <td>NaN</td>\n",
       "      <td>NaN</td>\n",
       "      <td>NaN</td>\n",
       "      <td>NaN</td>\n",
       "      <td>NaN</td>\n",
       "      <td>NaN</td>\n",
       "      <td>NaN</td>\n",
       "    </tr>\n",
       "    <tr>\n",
       "      <th>25%</th>\n",
       "      <td>4.430000e+02</td>\n",
       "      <td>NaN</td>\n",
       "      <td>NaN</td>\n",
       "      <td>NaN</td>\n",
       "      <td>NaN</td>\n",
       "      <td>NaN</td>\n",
       "      <td>NaN</td>\n",
       "      <td>NaN</td>\n",
       "      <td>NaN</td>\n",
       "      <td>NaN</td>\n",
       "      <td>...</td>\n",
       "      <td>NaN</td>\n",
       "      <td>NaN</td>\n",
       "      <td>NaN</td>\n",
       "      <td>NaN</td>\n",
       "      <td>NaN</td>\n",
       "      <td>NaN</td>\n",
       "      <td>NaN</td>\n",
       "      <td>NaN</td>\n",
       "      <td>NaN</td>\n",
       "      <td>NaN</td>\n",
       "    </tr>\n",
       "    <tr>\n",
       "      <th>50%</th>\n",
       "      <td>6.560000e+02</td>\n",
       "      <td>NaN</td>\n",
       "      <td>NaN</td>\n",
       "      <td>NaN</td>\n",
       "      <td>NaN</td>\n",
       "      <td>NaN</td>\n",
       "      <td>NaN</td>\n",
       "      <td>NaN</td>\n",
       "      <td>NaN</td>\n",
       "      <td>NaN</td>\n",
       "      <td>...</td>\n",
       "      <td>NaN</td>\n",
       "      <td>NaN</td>\n",
       "      <td>NaN</td>\n",
       "      <td>NaN</td>\n",
       "      <td>NaN</td>\n",
       "      <td>NaN</td>\n",
       "      <td>NaN</td>\n",
       "      <td>NaN</td>\n",
       "      <td>NaN</td>\n",
       "      <td>NaN</td>\n",
       "    </tr>\n",
       "    <tr>\n",
       "      <th>75%</th>\n",
       "      <td>1.038000e+03</td>\n",
       "      <td>NaN</td>\n",
       "      <td>NaN</td>\n",
       "      <td>NaN</td>\n",
       "      <td>NaN</td>\n",
       "      <td>NaN</td>\n",
       "      <td>NaN</td>\n",
       "      <td>NaN</td>\n",
       "      <td>NaN</td>\n",
       "      <td>NaN</td>\n",
       "      <td>...</td>\n",
       "      <td>NaN</td>\n",
       "      <td>NaN</td>\n",
       "      <td>NaN</td>\n",
       "      <td>NaN</td>\n",
       "      <td>NaN</td>\n",
       "      <td>NaN</td>\n",
       "      <td>NaN</td>\n",
       "      <td>NaN</td>\n",
       "      <td>NaN</td>\n",
       "      <td>NaN</td>\n",
       "    </tr>\n",
       "    <tr>\n",
       "      <th>max</th>\n",
       "      <td>2.488653e+06</td>\n",
       "      <td>NaN</td>\n",
       "      <td>NaN</td>\n",
       "      <td>NaN</td>\n",
       "      <td>NaN</td>\n",
       "      <td>NaN</td>\n",
       "      <td>NaN</td>\n",
       "      <td>NaN</td>\n",
       "      <td>NaN</td>\n",
       "      <td>NaN</td>\n",
       "      <td>...</td>\n",
       "      <td>NaN</td>\n",
       "      <td>NaN</td>\n",
       "      <td>NaN</td>\n",
       "      <td>NaN</td>\n",
       "      <td>NaN</td>\n",
       "      <td>NaN</td>\n",
       "      <td>NaN</td>\n",
       "      <td>NaN</td>\n",
       "      <td>NaN</td>\n",
       "      <td>NaN</td>\n",
       "    </tr>\n",
       "  </tbody>\n",
       "</table>\n",
       "<p>8 rows × 31 columns</p>\n",
       "</div>"
      ],
      "text/plain": [
       "       Time from Start to Finish (seconds)  Q7_Part_12  Q9_Part_12  \\\n",
       "count                         2.597300e+04         0.0         0.0   \n",
       "mean                          1.105466e+04         NaN         NaN   \n",
       "std                           1.014716e+05         NaN         NaN   \n",
       "min                           1.200000e+02         NaN         NaN   \n",
       "25%                           4.430000e+02         NaN         NaN   \n",
       "50%                           6.560000e+02         NaN         NaN   \n",
       "75%                           1.038000e+03         NaN         NaN   \n",
       "max                           2.488653e+06         NaN         NaN   \n",
       "\n",
       "       Q10_Part_16  Q12_Part_5  Q14_Part_11  Q16_Part_17  Q17_Part_11  \\\n",
       "count          0.0         0.0          0.0          0.0          0.0   \n",
       "mean           NaN         NaN          NaN          NaN          NaN   \n",
       "std            NaN         NaN          NaN          NaN          NaN   \n",
       "min            NaN         NaN          NaN          NaN          NaN   \n",
       "25%            NaN         NaN          NaN          NaN          NaN   \n",
       "50%            NaN         NaN          NaN          NaN          NaN   \n",
       "75%            NaN         NaN          NaN          NaN          NaN   \n",
       "max            NaN         NaN          NaN          NaN          NaN   \n",
       "\n",
       "       Q18_Part_6  Q19_Part_5  ...  Q30_B_Part_5  Q30_B_Part_6  Q30_B_Part_7  \\\n",
       "count         0.0         0.0  ...           0.0           0.0           0.0   \n",
       "mean          NaN         NaN  ...           NaN           NaN           NaN   \n",
       "std           NaN         NaN  ...           NaN           NaN           NaN   \n",
       "min           NaN         NaN  ...           NaN           NaN           NaN   \n",
       "25%           NaN         NaN  ...           NaN           NaN           NaN   \n",
       "50%           NaN         NaN  ...           NaN           NaN           NaN   \n",
       "75%           NaN         NaN  ...           NaN           NaN           NaN   \n",
       "max           NaN         NaN  ...           NaN           NaN           NaN   \n",
       "\n",
       "       Q30_B_OTHER  Q31_B_Part_9  Q32_B_Part_20  Q34_B_Part_16  Q36_B_Part_7  \\\n",
       "count          0.0           0.0            0.0            0.0           0.0   \n",
       "mean           NaN           NaN            NaN            NaN           NaN   \n",
       "std            NaN           NaN            NaN            NaN           NaN   \n",
       "min            NaN           NaN            NaN            NaN           NaN   \n",
       "25%            NaN           NaN            NaN            NaN           NaN   \n",
       "50%            NaN           NaN            NaN            NaN           NaN   \n",
       "75%            NaN           NaN            NaN            NaN           NaN   \n",
       "max            NaN           NaN            NaN            NaN           NaN   \n",
       "\n",
       "       Q37_B_Part_7  Q38_B_Part_11  \n",
       "count           0.0            0.0  \n",
       "mean            NaN            NaN  \n",
       "std             NaN            NaN  \n",
       "min             NaN            NaN  \n",
       "25%             NaN            NaN  \n",
       "50%             NaN            NaN  \n",
       "75%             NaN            NaN  \n",
       "max             NaN            NaN  \n",
       "\n",
       "[8 rows x 31 columns]"
      ]
     },
     "execution_count": 4,
     "metadata": {},
     "output_type": "execute_result"
    }
   ],
   "source": [
    "kaggle2021.describe() # DataFrame.describe() provides an range of summary statistics"
   ]
  },
  {
   "cell_type": "markdown",
   "id": "dc2a2872",
   "metadata": {
    "slideshow": {
     "slide_type": "slide"
    }
   },
   "source": [
    "## Methods for summarizing numeric variables"
   ]
  },
  {
   "cell_type": "code",
   "execution_count": 5,
   "id": "63139428",
   "metadata": {
    "slideshow": {
     "slide_type": "fragment"
    }
   },
   "outputs": [
    {
     "data": {
      "text/plain": [
       "11054.66492126439"
      ]
     },
     "execution_count": 5,
     "metadata": {},
     "output_type": "execute_result"
    }
   ],
   "source": [
    "kaggle2021.iloc[:,0].mean() # Rather than using describe(), we can apply individual methods"
   ]
  },
  {
   "cell_type": "code",
   "execution_count": 6,
   "id": "30c6a9a3",
   "metadata": {
    "slideshow": {
     "slide_type": "fragment"
    }
   },
   "outputs": [
    {
     "data": {
      "text/plain": [
       "656.0"
      ]
     },
     "execution_count": 6,
     "metadata": {},
     "output_type": "execute_result"
    }
   ],
   "source": [
    "kaggle2021.iloc[:,0].median() # Median"
   ]
  },
  {
   "cell_type": "code",
   "execution_count": 7,
   "id": "5060823c",
   "metadata": {
    "slideshow": {
     "slide_type": "fragment"
    }
   },
   "outputs": [
    {
     "data": {
      "text/plain": [
       "101471.6221245172"
      ]
     },
     "execution_count": 7,
     "metadata": {},
     "output_type": "execute_result"
    }
   ],
   "source": [
    "kaggle2021.iloc[:,0].std() # Standard deviation"
   ]
  },
  {
   "cell_type": "code",
   "execution_count": 8,
   "id": "c1d7f2a5",
   "metadata": {
    "slideshow": {
     "slide_type": "fragment"
    }
   },
   "outputs": [
    {
     "data": {
      "text/plain": [
       "101471.6221245172"
      ]
     },
     "execution_count": 8,
     "metadata": {},
     "output_type": "execute_result"
    }
   ],
   "source": [
    "import statistics ## We don't have to rely only on methods provided by `pandas`\n",
    "statistics.stdev(kaggle2021.iloc[:,0])"
   ]
  },
  {
   "cell_type": "markdown",
   "id": "148257f4",
   "metadata": {
    "slideshow": {
     "slide_type": "slide"
    }
   },
   "source": [
    "## Summarizing categorical variables"
   ]
  },
  {
   "cell_type": "code",
   "execution_count": 9,
   "id": "42a2dee1",
   "metadata": {
    "slideshow": {
     "slide_type": "fragment"
    }
   },
   "outputs": [
    {
     "data": {
      "text/html": [
       "<div>\n",
       "<style scoped>\n",
       "    .dataframe tbody tr th:only-of-type {\n",
       "        vertical-align: middle;\n",
       "    }\n",
       "\n",
       "    .dataframe tbody tr th {\n",
       "        vertical-align: top;\n",
       "    }\n",
       "\n",
       "    .dataframe thead th {\n",
       "        text-align: right;\n",
       "    }\n",
       "</style>\n",
       "<table border=\"1\" class=\"dataframe\">\n",
       "  <thead>\n",
       "    <tr style=\"text-align: right;\">\n",
       "      <th></th>\n",
       "      <th>Time from Start to Finish (seconds)</th>\n",
       "      <th>Q1</th>\n",
       "      <th>Q2</th>\n",
       "      <th>Q3</th>\n",
       "      <th>Q4</th>\n",
       "      <th>Q5</th>\n",
       "      <th>Q6</th>\n",
       "      <th>Q7_Part_1</th>\n",
       "      <th>Q7_Part_2</th>\n",
       "      <th>Q7_Part_3</th>\n",
       "      <th>...</th>\n",
       "      <th>Q38_B_Part_3</th>\n",
       "      <th>Q38_B_Part_4</th>\n",
       "      <th>Q38_B_Part_5</th>\n",
       "      <th>Q38_B_Part_6</th>\n",
       "      <th>Q38_B_Part_7</th>\n",
       "      <th>Q38_B_Part_8</th>\n",
       "      <th>Q38_B_Part_9</th>\n",
       "      <th>Q38_B_Part_10</th>\n",
       "      <th>Q38_B_Part_11</th>\n",
       "      <th>Q38_B_OTHER</th>\n",
       "    </tr>\n",
       "  </thead>\n",
       "  <tbody>\n",
       "    <tr>\n",
       "      <th>count</th>\n",
       "      <td>2.597300e+04</td>\n",
       "      <td>25973</td>\n",
       "      <td>25973</td>\n",
       "      <td>25973</td>\n",
       "      <td>25973</td>\n",
       "      <td>25973</td>\n",
       "      <td>25973</td>\n",
       "      <td>21860</td>\n",
       "      <td>5334</td>\n",
       "      <td>10756</td>\n",
       "      <td>...</td>\n",
       "      <td>633</td>\n",
       "      <td>591</td>\n",
       "      <td>4239</td>\n",
       "      <td>729</td>\n",
       "      <td>737</td>\n",
       "      <td>1020</td>\n",
       "      <td>666</td>\n",
       "      <td>2747</td>\n",
       "      <td>0.0</td>\n",
       "      <td>377</td>\n",
       "    </tr>\n",
       "    <tr>\n",
       "      <th>unique</th>\n",
       "      <td>NaN</td>\n",
       "      <td>11</td>\n",
       "      <td>5</td>\n",
       "      <td>66</td>\n",
       "      <td>7</td>\n",
       "      <td>15</td>\n",
       "      <td>7</td>\n",
       "      <td>1</td>\n",
       "      <td>1</td>\n",
       "      <td>1</td>\n",
       "      <td>...</td>\n",
       "      <td>1</td>\n",
       "      <td>1</td>\n",
       "      <td>1</td>\n",
       "      <td>1</td>\n",
       "      <td>1</td>\n",
       "      <td>1</td>\n",
       "      <td>1</td>\n",
       "      <td>1</td>\n",
       "      <td>NaN</td>\n",
       "      <td>1</td>\n",
       "    </tr>\n",
       "    <tr>\n",
       "      <th>top</th>\n",
       "      <td>NaN</td>\n",
       "      <td>25-29</td>\n",
       "      <td>Man</td>\n",
       "      <td>India</td>\n",
       "      <td>Master’s degree</td>\n",
       "      <td>Student</td>\n",
       "      <td>1-3 years</td>\n",
       "      <td>Python</td>\n",
       "      <td>R</td>\n",
       "      <td>SQL</td>\n",
       "      <td>...</td>\n",
       "      <td>Comet.ml</td>\n",
       "      <td>Sacred + Omniboard</td>\n",
       "      <td>TensorBoard</td>\n",
       "      <td>Guild.ai</td>\n",
       "      <td>Polyaxon</td>\n",
       "      <td>ClearML</td>\n",
       "      <td>Domino Model Monitor</td>\n",
       "      <td>MLflow</td>\n",
       "      <td>NaN</td>\n",
       "      <td>Other</td>\n",
       "    </tr>\n",
       "    <tr>\n",
       "      <th>freq</th>\n",
       "      <td>NaN</td>\n",
       "      <td>4931</td>\n",
       "      <td>20598</td>\n",
       "      <td>7434</td>\n",
       "      <td>10132</td>\n",
       "      <td>6804</td>\n",
       "      <td>7874</td>\n",
       "      <td>21860</td>\n",
       "      <td>5334</td>\n",
       "      <td>10756</td>\n",
       "      <td>...</td>\n",
       "      <td>633</td>\n",
       "      <td>591</td>\n",
       "      <td>4239</td>\n",
       "      <td>729</td>\n",
       "      <td>737</td>\n",
       "      <td>1020</td>\n",
       "      <td>666</td>\n",
       "      <td>2747</td>\n",
       "      <td>NaN</td>\n",
       "      <td>377</td>\n",
       "    </tr>\n",
       "    <tr>\n",
       "      <th>mean</th>\n",
       "      <td>1.105466e+04</td>\n",
       "      <td>NaN</td>\n",
       "      <td>NaN</td>\n",
       "      <td>NaN</td>\n",
       "      <td>NaN</td>\n",
       "      <td>NaN</td>\n",
       "      <td>NaN</td>\n",
       "      <td>NaN</td>\n",
       "      <td>NaN</td>\n",
       "      <td>NaN</td>\n",
       "      <td>...</td>\n",
       "      <td>NaN</td>\n",
       "      <td>NaN</td>\n",
       "      <td>NaN</td>\n",
       "      <td>NaN</td>\n",
       "      <td>NaN</td>\n",
       "      <td>NaN</td>\n",
       "      <td>NaN</td>\n",
       "      <td>NaN</td>\n",
       "      <td>NaN</td>\n",
       "      <td>NaN</td>\n",
       "    </tr>\n",
       "    <tr>\n",
       "      <th>std</th>\n",
       "      <td>1.014716e+05</td>\n",
       "      <td>NaN</td>\n",
       "      <td>NaN</td>\n",
       "      <td>NaN</td>\n",
       "      <td>NaN</td>\n",
       "      <td>NaN</td>\n",
       "      <td>NaN</td>\n",
       "      <td>NaN</td>\n",
       "      <td>NaN</td>\n",
       "      <td>NaN</td>\n",
       "      <td>...</td>\n",
       "      <td>NaN</td>\n",
       "      <td>NaN</td>\n",
       "      <td>NaN</td>\n",
       "      <td>NaN</td>\n",
       "      <td>NaN</td>\n",
       "      <td>NaN</td>\n",
       "      <td>NaN</td>\n",
       "      <td>NaN</td>\n",
       "      <td>NaN</td>\n",
       "      <td>NaN</td>\n",
       "    </tr>\n",
       "    <tr>\n",
       "      <th>min</th>\n",
       "      <td>1.200000e+02</td>\n",
       "      <td>NaN</td>\n",
       "      <td>NaN</td>\n",
       "      <td>NaN</td>\n",
       "      <td>NaN</td>\n",
       "      <td>NaN</td>\n",
       "      <td>NaN</td>\n",
       "      <td>NaN</td>\n",
       "      <td>NaN</td>\n",
       "      <td>NaN</td>\n",
       "      <td>...</td>\n",
       "      <td>NaN</td>\n",
       "      <td>NaN</td>\n",
       "      <td>NaN</td>\n",
       "      <td>NaN</td>\n",
       "      <td>NaN</td>\n",
       "      <td>NaN</td>\n",
       "      <td>NaN</td>\n",
       "      <td>NaN</td>\n",
       "      <td>NaN</td>\n",
       "      <td>NaN</td>\n",
       "    </tr>\n",
       "    <tr>\n",
       "      <th>25%</th>\n",
       "      <td>4.430000e+02</td>\n",
       "      <td>NaN</td>\n",
       "      <td>NaN</td>\n",
       "      <td>NaN</td>\n",
       "      <td>NaN</td>\n",
       "      <td>NaN</td>\n",
       "      <td>NaN</td>\n",
       "      <td>NaN</td>\n",
       "      <td>NaN</td>\n",
       "      <td>NaN</td>\n",
       "      <td>...</td>\n",
       "      <td>NaN</td>\n",
       "      <td>NaN</td>\n",
       "      <td>NaN</td>\n",
       "      <td>NaN</td>\n",
       "      <td>NaN</td>\n",
       "      <td>NaN</td>\n",
       "      <td>NaN</td>\n",
       "      <td>NaN</td>\n",
       "      <td>NaN</td>\n",
       "      <td>NaN</td>\n",
       "    </tr>\n",
       "    <tr>\n",
       "      <th>50%</th>\n",
       "      <td>6.560000e+02</td>\n",
       "      <td>NaN</td>\n",
       "      <td>NaN</td>\n",
       "      <td>NaN</td>\n",
       "      <td>NaN</td>\n",
       "      <td>NaN</td>\n",
       "      <td>NaN</td>\n",
       "      <td>NaN</td>\n",
       "      <td>NaN</td>\n",
       "      <td>NaN</td>\n",
       "      <td>...</td>\n",
       "      <td>NaN</td>\n",
       "      <td>NaN</td>\n",
       "      <td>NaN</td>\n",
       "      <td>NaN</td>\n",
       "      <td>NaN</td>\n",
       "      <td>NaN</td>\n",
       "      <td>NaN</td>\n",
       "      <td>NaN</td>\n",
       "      <td>NaN</td>\n",
       "      <td>NaN</td>\n",
       "    </tr>\n",
       "    <tr>\n",
       "      <th>75%</th>\n",
       "      <td>1.038000e+03</td>\n",
       "      <td>NaN</td>\n",
       "      <td>NaN</td>\n",
       "      <td>NaN</td>\n",
       "      <td>NaN</td>\n",
       "      <td>NaN</td>\n",
       "      <td>NaN</td>\n",
       "      <td>NaN</td>\n",
       "      <td>NaN</td>\n",
       "      <td>NaN</td>\n",
       "      <td>...</td>\n",
       "      <td>NaN</td>\n",
       "      <td>NaN</td>\n",
       "      <td>NaN</td>\n",
       "      <td>NaN</td>\n",
       "      <td>NaN</td>\n",
       "      <td>NaN</td>\n",
       "      <td>NaN</td>\n",
       "      <td>NaN</td>\n",
       "      <td>NaN</td>\n",
       "      <td>NaN</td>\n",
       "    </tr>\n",
       "    <tr>\n",
       "      <th>max</th>\n",
       "      <td>2.488653e+06</td>\n",
       "      <td>NaN</td>\n",
       "      <td>NaN</td>\n",
       "      <td>NaN</td>\n",
       "      <td>NaN</td>\n",
       "      <td>NaN</td>\n",
       "      <td>NaN</td>\n",
       "      <td>NaN</td>\n",
       "      <td>NaN</td>\n",
       "      <td>NaN</td>\n",
       "      <td>...</td>\n",
       "      <td>NaN</td>\n",
       "      <td>NaN</td>\n",
       "      <td>NaN</td>\n",
       "      <td>NaN</td>\n",
       "      <td>NaN</td>\n",
       "      <td>NaN</td>\n",
       "      <td>NaN</td>\n",
       "      <td>NaN</td>\n",
       "      <td>NaN</td>\n",
       "      <td>NaN</td>\n",
       "    </tr>\n",
       "  </tbody>\n",
       "</table>\n",
       "<p>11 rows × 369 columns</p>\n",
       "</div>"
      ],
      "text/plain": [
       "        Time from Start to Finish (seconds)     Q1     Q2     Q3  \\\n",
       "count                          2.597300e+04  25973  25973  25973   \n",
       "unique                                  NaN     11      5     66   \n",
       "top                                     NaN  25-29    Man  India   \n",
       "freq                                    NaN   4931  20598   7434   \n",
       "mean                           1.105466e+04    NaN    NaN    NaN   \n",
       "std                            1.014716e+05    NaN    NaN    NaN   \n",
       "min                            1.200000e+02    NaN    NaN    NaN   \n",
       "25%                            4.430000e+02    NaN    NaN    NaN   \n",
       "50%                            6.560000e+02    NaN    NaN    NaN   \n",
       "75%                            1.038000e+03    NaN    NaN    NaN   \n",
       "max                            2.488653e+06    NaN    NaN    NaN   \n",
       "\n",
       "                     Q4       Q5         Q6 Q7_Part_1 Q7_Part_2 Q7_Part_3  \\\n",
       "count             25973    25973      25973     21860      5334     10756   \n",
       "unique                7       15          7         1         1         1   \n",
       "top     Master’s degree  Student  1-3 years    Python         R       SQL   \n",
       "freq              10132     6804       7874     21860      5334     10756   \n",
       "mean                NaN      NaN        NaN       NaN       NaN       NaN   \n",
       "std                 NaN      NaN        NaN       NaN       NaN       NaN   \n",
       "min                 NaN      NaN        NaN       NaN       NaN       NaN   \n",
       "25%                 NaN      NaN        NaN       NaN       NaN       NaN   \n",
       "50%                 NaN      NaN        NaN       NaN       NaN       NaN   \n",
       "75%                 NaN      NaN        NaN       NaN       NaN       NaN   \n",
       "max                 NaN      NaN        NaN       NaN       NaN       NaN   \n",
       "\n",
       "        ... Q38_B_Part_3          Q38_B_Part_4   Q38_B_Part_5 Q38_B_Part_6  \\\n",
       "count   ...          633                   591           4239          729   \n",
       "unique  ...            1                     1              1            1   \n",
       "top     ...    Comet.ml    Sacred + Omniboard    TensorBoard     Guild.ai    \n",
       "freq    ...          633                   591           4239          729   \n",
       "mean    ...          NaN                   NaN            NaN          NaN   \n",
       "std     ...          NaN                   NaN            NaN          NaN   \n",
       "min     ...          NaN                   NaN            NaN          NaN   \n",
       "25%     ...          NaN                   NaN            NaN          NaN   \n",
       "50%     ...          NaN                   NaN            NaN          NaN   \n",
       "75%     ...          NaN                   NaN            NaN          NaN   \n",
       "max     ...          NaN                   NaN            NaN          NaN   \n",
       "\n",
       "       Q38_B_Part_7 Q38_B_Part_8            Q38_B_Part_9 Q38_B_Part_10  \\\n",
       "count           737         1020                     666          2747   \n",
       "unique            1            1                       1             1   \n",
       "top       Polyaxon      ClearML    Domino Model Monitor        MLflow    \n",
       "freq            737         1020                     666          2747   \n",
       "mean            NaN          NaN                     NaN           NaN   \n",
       "std             NaN          NaN                     NaN           NaN   \n",
       "min             NaN          NaN                     NaN           NaN   \n",
       "25%             NaN          NaN                     NaN           NaN   \n",
       "50%             NaN          NaN                     NaN           NaN   \n",
       "75%             NaN          NaN                     NaN           NaN   \n",
       "max             NaN          NaN                     NaN           NaN   \n",
       "\n",
       "        Q38_B_Part_11 Q38_B_OTHER  \n",
       "count             0.0         377  \n",
       "unique            NaN           1  \n",
       "top               NaN       Other  \n",
       "freq              NaN         377  \n",
       "mean              NaN         NaN  \n",
       "std               NaN         NaN  \n",
       "min               NaN         NaN  \n",
       "25%               NaN         NaN  \n",
       "50%               NaN         NaN  \n",
       "75%               NaN         NaN  \n",
       "max               NaN         NaN  \n",
       "\n",
       "[11 rows x 369 columns]"
      ]
     },
     "execution_count": 9,
     "metadata": {},
     "output_type": "execute_result"
    }
   ],
   "source": [
    "kaggle2021.describe(include = 'all') # Adding include = 'all' tells pandas to summarize all variables"
   ]
  },
  {
   "cell_type": "markdown",
   "id": "bedd720f",
   "metadata": {
    "slideshow": {
     "slide_type": "slide"
    }
   },
   "source": [
    "## Methods for summarizing categorical variables"
   ]
  },
  {
   "cell_type": "code",
   "execution_count": 10,
   "id": "8abe71b7",
   "metadata": {
    "slideshow": {
     "slide_type": "fragment"
    }
   },
   "outputs": [
    {
     "data": {
      "text/plain": [
       "0    Man\n",
       "Name: Q2, dtype: object"
      ]
     },
     "execution_count": 10,
     "metadata": {},
     "output_type": "execute_result"
    }
   ],
   "source": [
    "kaggle2021.iloc[:,2].mode() # Mode, most frequent value"
   ]
  },
  {
   "cell_type": "code",
   "execution_count": 11,
   "id": "88434a32",
   "metadata": {
    "slideshow": {
     "slide_type": "fragment"
    }
   },
   "outputs": [
    {
     "data": {
      "text/plain": [
       "Q2\n",
       "Man                        20598\n",
       "Woman                       4890\n",
       "Prefer not to say            355\n",
       "Nonbinary                     88\n",
       "Prefer to self-describe       42\n",
       "Name: count, dtype: int64"
      ]
     },
     "execution_count": 11,
     "metadata": {},
     "output_type": "execute_result"
    }
   ],
   "source": [
    "kaggle2021.iloc[:,2].value_counts() # Counts of unique values"
   ]
  },
  {
   "cell_type": "code",
   "execution_count": 12,
   "id": "845eed06",
   "metadata": {
    "slideshow": {
     "slide_type": "fragment"
    }
   },
   "outputs": [
    {
     "data": {
      "text/plain": [
       "Q2\n",
       "Man                        0.793054\n",
       "Woman                      0.188272\n",
       "Prefer not to say          0.013668\n",
       "Nonbinary                  0.003388\n",
       "Prefer to self-describe    0.001617\n",
       "Name: proportion, dtype: float64"
      ]
     },
     "execution_count": 12,
     "metadata": {},
     "output_type": "execute_result"
    }
   ],
   "source": [
    "kaggle2021.iloc[:,2].value_counts(normalize = True) # We can further normalize them by the number of rows"
   ]
  },
  {
   "cell_type": "markdown",
   "id": "b13853f5",
   "metadata": {
    "slideshow": {
     "slide_type": "slide"
    }
   },
   "source": [
    "## Summary of descriptive statistics methods\n",
    "\n",
    "| Method         | Numeric   | Categorical   | Description                                    |\n",
    "|:---------------|:----------|:--------------|:-----------------------------------------------|\n",
    "| `count`        | yes       | yes           | Number of non-NA observations                  |\n",
    "| `value_counts` | yes       | yes           | Number of unique observations by value         |\n",
    "| `describe`     | yes       | yes           | Set of summary statistics for Series/DataFrame |\n",
    "| `min`, `max`   | yes       | yes (caution) | Minimum and maximum values                     |\n",
    "| `quantile`     | yes       | no            | Sample quantile ranging from 0 to 1            |\n",
    "| `sum`          | yes       | yes (caution) | Sum of values                                  |\n",
    "| `prod`         | yes       | no            | Product of values                              |\n",
    "| `mean`         | yes       | no            | Mean                                           |\n",
    "| `median`       | yes       | no            | Median (50% quantile)                          |\n",
    "| `var`          | yes       | no            | Sample variance                                |\n",
    "| `std`          | yes       | no            | Sample standard deviation                      |\n",
    "| `skew`         | yes       | no            | Sample skewness (third moment)                 |\n",
    "| `kurt`         | yes       | no            | Sample kurtosis (fourth moment)                |"
   ]
  },
  {
   "cell_type": "markdown",
   "id": "75cb4846",
   "metadata": {
    "slideshow": {
     "slide_type": "slide"
    }
   },
   "source": [
    "## Crosstabulation\n",
    "\n",
    "- When working with survey data it is often useful to perform simple crosstabulations\n",
    "- Crosstabulation (or *crosstab* for short) is a computation of group frequencies\n",
    "- It is usually used for working with categorical variables that have a limited number of categories\n",
    "- In pandas `pd.crosstab()` method is a special case of `pd.pivot_table()`"
   ]
  },
  {
   "cell_type": "markdown",
   "id": "ccd67c5f",
   "metadata": {
    "slideshow": {
     "slide_type": "slide"
    }
   },
   "source": [
    "## Crosstabulation in pandas"
   ]
  },
  {
   "cell_type": "code",
   "execution_count": 13,
   "id": "4743bd54",
   "metadata": {
    "slideshow": {
     "slide_type": "fragment"
    }
   },
   "outputs": [
    {
     "data": {
      "text/html": [
       "<div>\n",
       "<style scoped>\n",
       "    .dataframe tbody tr th:only-of-type {\n",
       "        vertical-align: middle;\n",
       "    }\n",
       "\n",
       "    .dataframe tbody tr th {\n",
       "        vertical-align: top;\n",
       "    }\n",
       "\n",
       "    .dataframe thead th {\n",
       "        text-align: right;\n",
       "    }\n",
       "</style>\n",
       "<table border=\"1\" class=\"dataframe\">\n",
       "  <thead>\n",
       "    <tr style=\"text-align: right;\">\n",
       "      <th>Q2</th>\n",
       "      <th>Man</th>\n",
       "      <th>Nonbinary</th>\n",
       "      <th>Prefer not to say</th>\n",
       "      <th>Prefer to self-describe</th>\n",
       "      <th>Woman</th>\n",
       "    </tr>\n",
       "    <tr>\n",
       "      <th>Q1</th>\n",
       "      <th></th>\n",
       "      <th></th>\n",
       "      <th></th>\n",
       "      <th></th>\n",
       "      <th></th>\n",
       "    </tr>\n",
       "  </thead>\n",
       "  <tbody>\n",
       "    <tr>\n",
       "      <th>18-21</th>\n",
       "      <td>3696</td>\n",
       "      <td>16</td>\n",
       "      <td>60</td>\n",
       "      <td>12</td>\n",
       "      <td>1117</td>\n",
       "    </tr>\n",
       "    <tr>\n",
       "      <th>22-24</th>\n",
       "      <td>3643</td>\n",
       "      <td>13</td>\n",
       "      <td>66</td>\n",
       "      <td>9</td>\n",
       "      <td>963</td>\n",
       "    </tr>\n",
       "    <tr>\n",
       "      <th>25-29</th>\n",
       "      <td>3859</td>\n",
       "      <td>12</td>\n",
       "      <td>61</td>\n",
       "      <td>5</td>\n",
       "      <td>994</td>\n",
       "    </tr>\n",
       "    <tr>\n",
       "      <th>30-34</th>\n",
       "      <td>2765</td>\n",
       "      <td>17</td>\n",
       "      <td>34</td>\n",
       "      <td>7</td>\n",
       "      <td>618</td>\n",
       "    </tr>\n",
       "    <tr>\n",
       "      <th>35-39</th>\n",
       "      <td>1993</td>\n",
       "      <td>7</td>\n",
       "      <td>42</td>\n",
       "      <td>7</td>\n",
       "      <td>455</td>\n",
       "    </tr>\n",
       "    <tr>\n",
       "      <th>40-44</th>\n",
       "      <td>1537</td>\n",
       "      <td>4</td>\n",
       "      <td>31</td>\n",
       "      <td>1</td>\n",
       "      <td>317</td>\n",
       "    </tr>\n",
       "    <tr>\n",
       "      <th>45-49</th>\n",
       "      <td>1171</td>\n",
       "      <td>4</td>\n",
       "      <td>24</td>\n",
       "      <td>1</td>\n",
       "      <td>175</td>\n",
       "    </tr>\n",
       "    <tr>\n",
       "      <th>50-54</th>\n",
       "      <td>811</td>\n",
       "      <td>3</td>\n",
       "      <td>14</td>\n",
       "      <td>0</td>\n",
       "      <td>136</td>\n",
       "    </tr>\n",
       "    <tr>\n",
       "      <th>55-59</th>\n",
       "      <td>509</td>\n",
       "      <td>4</td>\n",
       "      <td>7</td>\n",
       "      <td>0</td>\n",
       "      <td>72</td>\n",
       "    </tr>\n",
       "    <tr>\n",
       "      <th>60-69</th>\n",
       "      <td>504</td>\n",
       "      <td>4</td>\n",
       "      <td>10</td>\n",
       "      <td>0</td>\n",
       "      <td>35</td>\n",
       "    </tr>\n",
       "    <tr>\n",
       "      <th>70+</th>\n",
       "      <td>110</td>\n",
       "      <td>4</td>\n",
       "      <td>6</td>\n",
       "      <td>0</td>\n",
       "      <td>8</td>\n",
       "    </tr>\n",
       "  </tbody>\n",
       "</table>\n",
       "</div>"
      ],
      "text/plain": [
       "Q2      Man  Nonbinary  Prefer not to say  Prefer to self-describe  Woman\n",
       "Q1                                                                       \n",
       "18-21  3696         16                 60                       12   1117\n",
       "22-24  3643         13                 66                        9    963\n",
       "25-29  3859         12                 61                        5    994\n",
       "30-34  2765         17                 34                        7    618\n",
       "35-39  1993          7                 42                        7    455\n",
       "40-44  1537          4                 31                        1    317\n",
       "45-49  1171          4                 24                        1    175\n",
       "50-54   811          3                 14                        0    136\n",
       "55-59   509          4                  7                        0     72\n",
       "60-69   504          4                 10                        0     35\n",
       "70+     110          4                  6                        0      8"
      ]
     },
     "execution_count": 13,
     "metadata": {},
     "output_type": "execute_result"
    }
   ],
   "source": [
    "# Calculate crosstabulation between 'Age group' (Q1) and 'Gender' (Q2)\n",
    "pd.crosstab(kaggle2021['Q1'], kaggle2021['Q2'])"
   ]
  },
  {
   "cell_type": "markdown",
   "id": "e719960e",
   "metadata": {
    "slideshow": {
     "slide_type": "slide"
    }
   },
   "source": [
    "## Margins in crosstab"
   ]
  },
  {
   "cell_type": "code",
   "execution_count": 14,
   "id": "d5cbf8bf",
   "metadata": {
    "slideshow": {
     "slide_type": "fragment"
    }
   },
   "outputs": [
    {
     "data": {
      "text/html": [
       "<div>\n",
       "<style scoped>\n",
       "    .dataframe tbody tr th:only-of-type {\n",
       "        vertical-align: middle;\n",
       "    }\n",
       "\n",
       "    .dataframe tbody tr th {\n",
       "        vertical-align: top;\n",
       "    }\n",
       "\n",
       "    .dataframe thead th {\n",
       "        text-align: right;\n",
       "    }\n",
       "</style>\n",
       "<table border=\"1\" class=\"dataframe\">\n",
       "  <thead>\n",
       "    <tr style=\"text-align: right;\">\n",
       "      <th>Q2</th>\n",
       "      <th>Man</th>\n",
       "      <th>Nonbinary</th>\n",
       "      <th>Prefer not to say</th>\n",
       "      <th>Prefer to self-describe</th>\n",
       "      <th>Woman</th>\n",
       "    </tr>\n",
       "    <tr>\n",
       "      <th>Q1</th>\n",
       "      <th></th>\n",
       "      <th></th>\n",
       "      <th></th>\n",
       "      <th></th>\n",
       "      <th></th>\n",
       "    </tr>\n",
       "  </thead>\n",
       "  <tbody>\n",
       "    <tr>\n",
       "      <th>18-21</th>\n",
       "      <td>0.179435</td>\n",
       "      <td>0.181818</td>\n",
       "      <td>0.169014</td>\n",
       "      <td>0.285714</td>\n",
       "      <td>0.228425</td>\n",
       "    </tr>\n",
       "    <tr>\n",
       "      <th>22-24</th>\n",
       "      <td>0.176862</td>\n",
       "      <td>0.147727</td>\n",
       "      <td>0.185915</td>\n",
       "      <td>0.214286</td>\n",
       "      <td>0.196933</td>\n",
       "    </tr>\n",
       "    <tr>\n",
       "      <th>25-29</th>\n",
       "      <td>0.187348</td>\n",
       "      <td>0.136364</td>\n",
       "      <td>0.171831</td>\n",
       "      <td>0.119048</td>\n",
       "      <td>0.203272</td>\n",
       "    </tr>\n",
       "    <tr>\n",
       "      <th>30-34</th>\n",
       "      <td>0.134236</td>\n",
       "      <td>0.193182</td>\n",
       "      <td>0.095775</td>\n",
       "      <td>0.166667</td>\n",
       "      <td>0.126380</td>\n",
       "    </tr>\n",
       "    <tr>\n",
       "      <th>35-39</th>\n",
       "      <td>0.096757</td>\n",
       "      <td>0.079545</td>\n",
       "      <td>0.118310</td>\n",
       "      <td>0.166667</td>\n",
       "      <td>0.093047</td>\n",
       "    </tr>\n",
       "    <tr>\n",
       "      <th>40-44</th>\n",
       "      <td>0.074619</td>\n",
       "      <td>0.045455</td>\n",
       "      <td>0.087324</td>\n",
       "      <td>0.023810</td>\n",
       "      <td>0.064826</td>\n",
       "    </tr>\n",
       "    <tr>\n",
       "      <th>45-49</th>\n",
       "      <td>0.056850</td>\n",
       "      <td>0.045455</td>\n",
       "      <td>0.067606</td>\n",
       "      <td>0.023810</td>\n",
       "      <td>0.035787</td>\n",
       "    </tr>\n",
       "    <tr>\n",
       "      <th>50-54</th>\n",
       "      <td>0.039373</td>\n",
       "      <td>0.034091</td>\n",
       "      <td>0.039437</td>\n",
       "      <td>0.000000</td>\n",
       "      <td>0.027812</td>\n",
       "    </tr>\n",
       "    <tr>\n",
       "      <th>55-59</th>\n",
       "      <td>0.024711</td>\n",
       "      <td>0.045455</td>\n",
       "      <td>0.019718</td>\n",
       "      <td>0.000000</td>\n",
       "      <td>0.014724</td>\n",
       "    </tr>\n",
       "    <tr>\n",
       "      <th>60-69</th>\n",
       "      <td>0.024468</td>\n",
       "      <td>0.045455</td>\n",
       "      <td>0.028169</td>\n",
       "      <td>0.000000</td>\n",
       "      <td>0.007157</td>\n",
       "    </tr>\n",
       "    <tr>\n",
       "      <th>70+</th>\n",
       "      <td>0.005340</td>\n",
       "      <td>0.045455</td>\n",
       "      <td>0.016901</td>\n",
       "      <td>0.000000</td>\n",
       "      <td>0.001636</td>\n",
       "    </tr>\n",
       "  </tbody>\n",
       "</table>\n",
       "</div>"
      ],
      "text/plain": [
       "Q2          Man  Nonbinary  Prefer not to say  Prefer to self-describe  \\\n",
       "Q1                                                                       \n",
       "18-21  0.179435   0.181818           0.169014                 0.285714   \n",
       "22-24  0.176862   0.147727           0.185915                 0.214286   \n",
       "25-29  0.187348   0.136364           0.171831                 0.119048   \n",
       "30-34  0.134236   0.193182           0.095775                 0.166667   \n",
       "35-39  0.096757   0.079545           0.118310                 0.166667   \n",
       "40-44  0.074619   0.045455           0.087324                 0.023810   \n",
       "45-49  0.056850   0.045455           0.067606                 0.023810   \n",
       "50-54  0.039373   0.034091           0.039437                 0.000000   \n",
       "55-59  0.024711   0.045455           0.019718                 0.000000   \n",
       "60-69  0.024468   0.045455           0.028169                 0.000000   \n",
       "70+    0.005340   0.045455           0.016901                 0.000000   \n",
       "\n",
       "Q2        Woman  \n",
       "Q1               \n",
       "18-21  0.228425  \n",
       "22-24  0.196933  \n",
       "25-29  0.203272  \n",
       "30-34  0.126380  \n",
       "35-39  0.093047  \n",
       "40-44  0.064826  \n",
       "45-49  0.035787  \n",
       "50-54  0.027812  \n",
       "55-59  0.014724  \n",
       "60-69  0.007157  \n",
       "70+    0.001636  "
      ]
     },
     "execution_count": 14,
     "metadata": {},
     "output_type": "execute_result"
    }
   ],
   "source": [
    "# It is often useful to see the proportions/percentages rather than raw counts\n",
    "pd.crosstab(kaggle2021['Q1'], kaggle2021['Q2'], normalize = 'columns')"
   ]
  },
  {
   "cell_type": "markdown",
   "id": "60e7360e",
   "metadata": {
    "slideshow": {
     "slide_type": "slide"
    }
   },
   "source": [
    "## Crosstabulation in pandas with `pivot_table`"
   ]
  },
  {
   "cell_type": "code",
   "execution_count": 15,
   "id": "e130c8b5",
   "metadata": {
    "slideshow": {
     "slide_type": "fragment"
    }
   },
   "outputs": [
    {
     "data": {
      "text/html": [
       "<div>\n",
       "<style scoped>\n",
       "    .dataframe tbody tr th:only-of-type {\n",
       "        vertical-align: middle;\n",
       "    }\n",
       "\n",
       "    .dataframe tbody tr th {\n",
       "        vertical-align: top;\n",
       "    }\n",
       "\n",
       "    .dataframe thead th {\n",
       "        text-align: right;\n",
       "    }\n",
       "</style>\n",
       "<table border=\"1\" class=\"dataframe\">\n",
       "  <thead>\n",
       "    <tr style=\"text-align: right;\">\n",
       "      <th>Q2</th>\n",
       "      <th>Man</th>\n",
       "      <th>Nonbinary</th>\n",
       "      <th>Prefer not to say</th>\n",
       "      <th>Prefer to self-describe</th>\n",
       "      <th>Woman</th>\n",
       "    </tr>\n",
       "    <tr>\n",
       "      <th>Q1</th>\n",
       "      <th></th>\n",
       "      <th></th>\n",
       "      <th></th>\n",
       "      <th></th>\n",
       "      <th></th>\n",
       "    </tr>\n",
       "  </thead>\n",
       "  <tbody>\n",
       "    <tr>\n",
       "      <th>18-21</th>\n",
       "      <td>3696</td>\n",
       "      <td>16</td>\n",
       "      <td>60</td>\n",
       "      <td>12</td>\n",
       "      <td>1117</td>\n",
       "    </tr>\n",
       "    <tr>\n",
       "      <th>22-24</th>\n",
       "      <td>3643</td>\n",
       "      <td>13</td>\n",
       "      <td>66</td>\n",
       "      <td>9</td>\n",
       "      <td>963</td>\n",
       "    </tr>\n",
       "    <tr>\n",
       "      <th>25-29</th>\n",
       "      <td>3859</td>\n",
       "      <td>12</td>\n",
       "      <td>61</td>\n",
       "      <td>5</td>\n",
       "      <td>994</td>\n",
       "    </tr>\n",
       "    <tr>\n",
       "      <th>30-34</th>\n",
       "      <td>2765</td>\n",
       "      <td>17</td>\n",
       "      <td>34</td>\n",
       "      <td>7</td>\n",
       "      <td>618</td>\n",
       "    </tr>\n",
       "    <tr>\n",
       "      <th>35-39</th>\n",
       "      <td>1993</td>\n",
       "      <td>7</td>\n",
       "      <td>42</td>\n",
       "      <td>7</td>\n",
       "      <td>455</td>\n",
       "    </tr>\n",
       "    <tr>\n",
       "      <th>40-44</th>\n",
       "      <td>1537</td>\n",
       "      <td>4</td>\n",
       "      <td>31</td>\n",
       "      <td>1</td>\n",
       "      <td>317</td>\n",
       "    </tr>\n",
       "    <tr>\n",
       "      <th>45-49</th>\n",
       "      <td>1171</td>\n",
       "      <td>4</td>\n",
       "      <td>24</td>\n",
       "      <td>1</td>\n",
       "      <td>175</td>\n",
       "    </tr>\n",
       "    <tr>\n",
       "      <th>50-54</th>\n",
       "      <td>811</td>\n",
       "      <td>3</td>\n",
       "      <td>14</td>\n",
       "      <td>0</td>\n",
       "      <td>136</td>\n",
       "    </tr>\n",
       "    <tr>\n",
       "      <th>55-59</th>\n",
       "      <td>509</td>\n",
       "      <td>4</td>\n",
       "      <td>7</td>\n",
       "      <td>0</td>\n",
       "      <td>72</td>\n",
       "    </tr>\n",
       "    <tr>\n",
       "      <th>60-69</th>\n",
       "      <td>504</td>\n",
       "      <td>4</td>\n",
       "      <td>10</td>\n",
       "      <td>0</td>\n",
       "      <td>35</td>\n",
       "    </tr>\n",
       "    <tr>\n",
       "      <th>70+</th>\n",
       "      <td>110</td>\n",
       "      <td>4</td>\n",
       "      <td>6</td>\n",
       "      <td>0</td>\n",
       "      <td>8</td>\n",
       "    </tr>\n",
       "  </tbody>\n",
       "</table>\n",
       "</div>"
      ],
      "text/plain": [
       "Q2      Man  Nonbinary  Prefer not to say  Prefer to self-describe  Woman\n",
       "Q1                                                                       \n",
       "18-21  3696         16                 60                       12   1117\n",
       "22-24  3643         13                 66                        9    963\n",
       "25-29  3859         12                 61                        5    994\n",
       "30-34  2765         17                 34                        7    618\n",
       "35-39  1993          7                 42                        7    455\n",
       "40-44  1537          4                 31                        1    317\n",
       "45-49  1171          4                 24                        1    175\n",
       "50-54   811          3                 14                        0    136\n",
       "55-59   509          4                  7                        0     72\n",
       "60-69   504          4                 10                        0     35\n",
       "70+     110          4                  6                        0      8"
      ]
     },
     "execution_count": 15,
     "metadata": {},
     "output_type": "execute_result"
    }
   ],
   "source": [
    "# For `values` variable we use `Q3`, but any other would work equally well \n",
    "pd.pivot_table(kaggle2021, index = 'Q1', columns = 'Q2', values = 'Q3', aggfunc = 'count', fill_value = 0)"
   ]
  },
  {
   "cell_type": "markdown",
   "id": "3bf0d749",
   "metadata": {
    "slideshow": {
     "slide_type": "slide"
    }
   },
   "source": [
    "## Data visualization\n",
    "\n",
    "<div style=\"text-align: center;\">\n",
    "    <img width=\"700\" height=\"400\" src=\"../imgs/Tufte2001_napoleon.png\">\n",
    "</div>\n",
    "\n",
    "Source: [Tufte (2001)](https://www.edwardtufte.com/tufte/books_vdqi), based on Marey (1885)"
   ]
  },
  {
   "cell_type": "markdown",
   "id": "f3e3ff6c",
   "metadata": {
    "slideshow": {
     "slide_type": "slide"
    }
   },
   "source": [
    "## Data visualization in Python\n",
    "\n",
    "- As with dealing with data, Python has no in-built, 'base' plotting functionality\n",
    "- `matplotlib` has become the one of standard solutions\n",
    "- It is often used [in combination with `pandas`](https://pandas.pydata.org/pandas-docs/stable/user_guide/visualization.html)\n",
    "- Other popular alternative include `seaborn` and `plotnine`\n",
    "- Also `pandas` itself has some limited plotting facilities"
   ]
  },
  {
   "cell_type": "markdown",
   "id": "f90988d8",
   "metadata": {
    "slideshow": {
     "slide_type": "slide"
    }
   },
   "source": [
    "## `plotnine` - `ggplot` for Python\n",
    "\n",
    "- `plotnine` implements Grammar of Graphics data visualisation scheme [(Wilkinson, 2005)](https://doi.org/10.1007/0-387-28695-0)\n",
    "- It mimics the syntax of a well-known R library `ggplot2`syntax [(Wickham, 2010)](https://doi.org/10.1198/jcgs.2009.07098)\n",
    "- In doing so, it makes the code (almost) seamlessly portable between the two languages"
   ]
  },
  {
   "cell_type": "markdown",
   "id": "28ecfc34",
   "metadata": {
    "slideshow": {
     "slide_type": "slide"
    }
   },
   "source": [
    "## Grammar of graphics\n",
    "\n",
    "- Grammar of Graphics is a powerful conceptualization of plotting\n",
    "- Graphs are broken into multiple layers\n",
    "- Layers can be recycled across multiple plots"
   ]
  },
  {
   "cell_type": "markdown",
   "id": "fc764645",
   "metadata": {
    "slideshow": {
     "slide_type": "slide"
    }
   },
   "source": [
    "## Structure of ggplot calls in `plotnine`\n",
    "\n",
    "- Creation of ggplot objects in `plotline` has the following structure:\n",
    "\n",
    "```\n",
    "ggplot(data = <DATA>) +\\\n",
    "    <GEOM_FUNCTION>(mapping = aes(<MAPPINGS>))\n",
    "```\n",
    "\n",
    "- If the *mappings* are re-used across geometric objects (e.g. scatterplot and line):\n",
    "\n",
    "```\n",
    "ggplot(data = <DATA>, mapping = aes(<MAPPINGS>)) +\\\n",
    "    <GEOM_FUNCTION>() +\\\n",
    "    <GEOM_FUNCTION>()\n",
    "```"
   ]
  },
  {
   "cell_type": "markdown",
   "id": "5cdfd83c",
   "metadata": {
    "slideshow": {
     "slide_type": "slide"
    }
   },
   "source": [
    "## Creating a ggplot in `plotnine`"
   ]
  },
  {
   "cell_type": "code",
   "execution_count": 16,
   "id": "21c9f729",
   "metadata": {
    "slideshow": {
     "slide_type": "fragment"
    }
   },
   "outputs": [],
   "source": [
    "from plotnine import *"
   ]
  },
  {
   "cell_type": "code",
   "execution_count": 17,
   "id": "0ceac275",
   "metadata": {
    "slideshow": {
     "slide_type": "fragment"
    }
   },
   "outputs": [
    {
     "data": {
      "image/png": "[encoded data removed]",
      "text/plain": [
       "<Figure size 640x480 with 1 Axes>"
      ]
     },
     "metadata": {
      "image/png": {
       "height": 480,
       "width": 640
      }
     },
     "output_type": "display_data"
    },
    {
     "data": {
      "text/plain": [
       "<Figure Size: (640 x 480)>"
      ]
     },
     "execution_count": 17,
     "metadata": {},
     "output_type": "execute_result"
    }
   ],
   "source": [
    "q1_plot = ggplot(data = kaggle2021) + geom_bar(aes(x = 'Q1')) # Basic 'Age group' (Q1) bar chart\n",
    "q1_plot"
   ]
  },
  {
   "cell_type": "markdown",
   "id": "d862a353",
   "metadata": {
    "slideshow": {
     "slide_type": "slide"
    }
   },
   "source": [
    "## Compare to base `pandas`"
   ]
  },
  {
   "cell_type": "code",
   "execution_count": 18,
   "id": "4d0a3f35",
   "metadata": {
    "slideshow": {
     "slide_type": "fragment"
    }
   },
   "outputs": [
    {
     "data": {
      "text/plain": [
       "Q1\n",
       "18-21    4901\n",
       "22-24    4694\n",
       "25-29    4931\n",
       "dtype: int64"
      ]
     },
     "execution_count": 18,
     "metadata": {},
     "output_type": "execute_result"
    }
   ],
   "source": [
    "# First we need to group dataset by 'Age group' (Q1) and summarize it with `size()`\n",
    "kaggle2021_q1_grouped = kaggle2021.groupby(['Q1']).size() \n",
    "kaggle2021_q1_grouped.head(n = 3)"
   ]
  },
  {
   "cell_type": "code",
   "execution_count": 19,
   "id": "cd6abf4f",
   "metadata": {
    "slideshow": {
     "slide_type": "fragment"
    }
   },
   "outputs": [
    {
     "data": {
      "text/plain": [
       "<Axes: xlabel='Q1'>"
      ]
     },
     "execution_count": 19,
     "metadata": {},
     "output_type": "execute_result"
    }
   ],
   "source": [
    "kaggle2021_q1_grouped.plot(kind = 'bar')"
   ]
  },
  {
   "cell_type": "markdown",
   "id": "4888d8d3",
   "metadata": {
    "slideshow": {
     "slide_type": "slide"
    }
   },
   "source": [
    "## Compare to `matplotlib`"
   ]
  },
  {
   "cell_type": "code",
   "execution_count": 20,
   "id": "c99c6605",
   "metadata": {
    "slideshow": {
     "slide_type": "fragment"
    }
   },
   "outputs": [],
   "source": [
    "import matplotlib.pyplot as plt"
   ]
  },
  {
   "cell_type": "code",
   "execution_count": 21,
   "id": "972ec8ef",
   "metadata": {
    "slideshow": {
     "slide_type": "fragment"
    }
   },
   "outputs": [
    {
     "data": {
      "text/plain": [
       "<BarContainer object of 11 artists>"
      ]
     },
     "execution_count": 21,
     "metadata": {},
     "output_type": "execute_result"
    }
   ],
   "source": [
    "# `matplotlib` is more low-level library\n",
    "# plots would need more work to be 'prettified'\n",
    "plt.bar(x = kaggle2021_q1_grouped.index, height = kaggle2021_q1_grouped.values)"
   ]
  },
  {
   "cell_type": "markdown",
   "id": "db19c31f",
   "metadata": {
    "slideshow": {
     "slide_type": "slide"
    }
   },
   "source": [
    "## Prettifying ggplot in `plotnine`"
   ]
  },
  {
   "cell_type": "code",
   "execution_count": 22,
   "id": "2190512c",
   "metadata": {
    "slideshow": {
     "slide_type": "fragment"
    }
   },
   "outputs": [
    {
     "data": {
      "image/png": "[encoded data removed]",
      "text/plain": [
       "<Figure size 640x480 with 1 Axes>"
      ]
     },
     "metadata": {
      "image/png": {
       "height": 480,
       "width": 640
      }
     },
     "output_type": "display_data"
    },
    {
     "data": {
      "image/png": "[encoded data removed]",
      "text/plain": [
       "<Figure size 640x480 with 1 Axes>"
      ]
     },
     "metadata": {
      "image/png": {
       "height": 480,
       "width": 640
      }
     },
     "output_type": "display_data"
    },
    {
     "data": {
      "text/plain": [
       "<Figure Size: (640 x 480)>"
      ]
     },
     "execution_count": 22,
     "metadata": {},
     "output_type": "execute_result"
    }
   ],
   "source": [
    "# Here we change default axes' labels and then apply B&W theme\n",
    "q1_plot_pretty = q1_plot +\\\n",
    "    labs(x = 'Age group', y = 'respondents') +\\\n",
    "    theme_bw()\n",
    "q1_plot_pretty"
   ]
  },
  {
   "cell_type": "markdown",
   "id": "40dcece5",
   "metadata": {
    "slideshow": {
     "slide_type": "slide"
    }
   },
   "source": [
    "## Other geometric objects (`geom_`)\n",
    "\n",
    "| Method                       | Description                |\n",
    "|:-----------------------------|:---------------------------|\n",
    "| `geom_bar()`, `geom_col()`   | Bar charts                 |\n",
    "| `geom_boxplot()`             | Box and whisker plot       |\n",
    "| `geom_histogram()`           | Histogram                  |\n",
    "| `geom_point()`               | Scatterplot                |\n",
    "| `geom_line()`, `geom_path()` | Lines                      |\n",
    "| `geom_map()`                 | Geographic areas           |\n",
    "| `geom_smooth()`              | Smoothed conditional means |\n",
    "| `geom_violin()`              | Violin plots               |\n"
   ]
  },
  {
   "cell_type": "markdown",
   "id": "dd46f01f",
   "metadata": {
    "slideshow": {
     "slide_type": "slide"
    }
   },
   "source": [
    "## Writing plots out in `plotnine`\n",
    "\n",
    "- Output format is automatically determined from write-out file extension\n",
    "- Commonly used formats are PDF, PNG and EPS"
   ]
  },
  {
   "cell_type": "code",
   "execution_count": 23,
   "id": "50f3e97a",
   "metadata": {
    "slideshow": {
     "slide_type": "fragment"
    }
   },
   "outputs": [
    {
     "name": "stderr",
     "output_type": "stream",
     "text": [
      "/opt/spyder/spyder-env/lib/python3.10/site-packages/plotnine/ggplot.py:587: PlotnineWarning: Saving 6.4 x 4.8 in image.\n",
      "/opt/spyder/spyder-env/lib/python3.10/site-packages/plotnine/ggplot.py:588: PlotnineWarning: Filename: ../temp/q1_plot_pretty.pdf\n"
     ]
    }
   ],
   "source": [
    "q1_plot_pretty.save('../temp/q1_plot_pretty.pdf')"
   ]
  },
  {
   "cell_type": "markdown",
   "id": "38ed0abd",
   "metadata": {
    "slideshow": {
     "slide_type": "slide"
    }
   },
   "source": [
    "## Additional visualization materials\n",
    "\n",
    "Books:\n",
    "\n",
    "- Hieran, Kiely. 2019. *Data Visualization: A Practical Introduction*. Princeton, NJ: Princeton University Press\n",
    "- Tufte, Edward. 2001. *The Visual Display of Quantitative Information*. 2nd ed. Cheshire, CT: Graphics Press\n",
    "\n",
    "Online:\n",
    "\n",
    "- [Plotnine: Grammar of Graphics for Python](https://datascienceworkshops.com/blog/plotnine-grammar-of-graphics-for-python/)\n",
    "- [Plotnine Documentation](https://plotnine.readthedocs.io/en/stable/index.html)\n",
    "- [Ggplot2 Documentation](https://ggplot2.tidyverse.org/)"
   ]
  },
  {
   "cell_type": "markdown",
   "id": "b2ffdafa",
   "metadata": {
    "slideshow": {
     "slide_type": "slide"
    }
   },
   "source": [
    "## Next\n",
    "\n",
    "- Linear regression\n",
    "- Communicating results"
   ]
  }
 ],
 "metadata": {
  "celltoolbar": "Slideshow",
  "kernelspec": {
   "display_name": "Python 3 (ipykernel)",
   "language": "python",
   "name": "python3"
  },
  "language_info": {
   "codemirror_mode": {
    "name": "ipython",
    "version": 3
   },
   "file_extension": ".py",
   "mimetype": "text/x-python",
   "name": "python",
   "nbconvert_exporter": "python",
   "pygments_lexer": "ipython3",
   "version": "3.10.6"
  }
 },
 "nbformat": 4,
 "nbformat_minor": 5
}
