{
 "cells": [
  {
   "cell_type": "markdown",
   "id": "d0ba3b68",
   "metadata": {
    "slideshow": {
     "slide_type": "slide"
    }
   },
   "source": [
    "# [__Introduction to Python__](https://eventum.upf.edu/64915/section/30365/recsm-summer-methods-school-2021.html)\n",
    "\n",
    "### [Tom Paskhalis](https://tom.paskhal.is/)\n",
    "\n",
    "### [RECSM Summer School 2021](https://eventum.upf.edu/64915/detail/recsm-summer-methods-school-2021.html), Exploratory Data Analysis & Data Visualization, Part 4, Day 2"
   ]
  },
  {
   "cell_type": "markdown",
   "id": "633f0d9a",
   "metadata": {
    "slideshow": {
     "slide_type": "slide"
    }
   },
   "source": [
    "## Exploratory data analysis\n",
    "\n",
    "- \"Exploratory data analysis can never be the whole story, but nothing else can serve as the foundation stone--as the first step.\" ([Tukey, 1977](https://archive.org/details/exploratorydataa0000tuke_7616))\n",
    "- Exploratory data analysis (EDA) is the first and often most important step in research\n",
    "- Study's feasibility, scope and framing would usually depend on its results\n",
    "- Specific details of EDA depend upon the type and quality of data available"
   ]
  },
  {
   "cell_type": "markdown",
   "id": "505c49db",
   "metadata": {
    "slideshow": {
     "slide_type": "slide"
    }
   },
   "source": [
    "## Measurement scales\n",
    "\n",
    "<div style=\"text-align: center;\">\n",
    "    <img width=\"700\" height=\"400\" src=\"imgs/Stevens1946_tab1.png\">\n",
    "</div>\n",
    "\n",
    "Source: [Stevens (1946)](https://doi.org/10.1126/science.103.2684.677)"
   ]
  },
  {
   "cell_type": "markdown",
   "id": "0715f64b",
   "metadata": {
    "slideshow": {
     "slide_type": "slide"
    }
   },
   "source": [
    "## Measurement scales in Pandas\n",
    "\n",
    "- The 4 measurement scales defined by Stevens (1946) can be roughly represented in pandas as follows:\n",
    "- *Interval* and *ratio* -> numeric\n",
    "- *Nominal* and *ordinal* -> [categorical](https://pandas.pydata.org/pandas-docs/stable/user_guide/categorical.html)"
   ]
  },
  {
   "cell_type": "markdown",
   "id": "1bb17a5f",
   "metadata": {
    "slideshow": {
     "slide_type": "slide"
    }
   },
   "source": [
    "## Loading the dataset"
   ]
  },
  {
   "cell_type": "code",
   "execution_count": 1,
   "id": "73a47bcf",
   "metadata": {
    "slideshow": {
     "slide_type": "fragment"
    }
   },
   "outputs": [],
   "source": [
    "import pandas as pd"
   ]
  },
  {
   "cell_type": "code",
   "execution_count": 2,
   "id": "2f43c2d8",
   "metadata": {
    "slideshow": {
     "slide_type": "fragment"
    }
   },
   "outputs": [
    {
     "data": {
      "text/html": [
       "<div>\n",
       "<style scoped>\n",
       "    .dataframe tbody tr th:only-of-type {\n",
       "        vertical-align: middle;\n",
       "    }\n",
       "\n",
       "    .dataframe tbody tr th {\n",
       "        vertical-align: top;\n",
       "    }\n",
       "\n",
       "    .dataframe thead th {\n",
       "        text-align: right;\n",
       "    }\n",
       "</style>\n",
       "<table border=\"1\" class=\"dataframe\">\n",
       "  <thead>\n",
       "    <tr style=\"text-align: right;\">\n",
       "      <th></th>\n",
       "      <th>Time from Start to Finish (seconds)</th>\n",
       "      <th>Q1</th>\n",
       "      <th>Q2</th>\n",
       "      <th>Q3</th>\n",
       "      <th>Q4</th>\n",
       "      <th>Q5</th>\n",
       "      <th>Q6</th>\n",
       "      <th>Q7_Part_1</th>\n",
       "      <th>Q7_Part_2</th>\n",
       "      <th>Q7_Part_3</th>\n",
       "      <th>...</th>\n",
       "      <th>Q35_B_Part_2</th>\n",
       "      <th>Q35_B_Part_3</th>\n",
       "      <th>Q35_B_Part_4</th>\n",
       "      <th>Q35_B_Part_5</th>\n",
       "      <th>Q35_B_Part_6</th>\n",
       "      <th>Q35_B_Part_7</th>\n",
       "      <th>Q35_B_Part_8</th>\n",
       "      <th>Q35_B_Part_9</th>\n",
       "      <th>Q35_B_Part_10</th>\n",
       "      <th>Q35_B_OTHER</th>\n",
       "    </tr>\n",
       "  </thead>\n",
       "  <tbody>\n",
       "    <tr>\n",
       "      <th>0</th>\n",
       "      <td>1838</td>\n",
       "      <td>35-39</td>\n",
       "      <td>Man</td>\n",
       "      <td>Colombia</td>\n",
       "      <td>Doctoral degree</td>\n",
       "      <td>Student</td>\n",
       "      <td>5-10 years</td>\n",
       "      <td>Python</td>\n",
       "      <td>R</td>\n",
       "      <td>SQL</td>\n",
       "      <td>...</td>\n",
       "      <td>NaN</td>\n",
       "      <td>NaN</td>\n",
       "      <td>NaN</td>\n",
       "      <td>TensorBoard</td>\n",
       "      <td>NaN</td>\n",
       "      <td>NaN</td>\n",
       "      <td>NaN</td>\n",
       "      <td>NaN</td>\n",
       "      <td>NaN</td>\n",
       "      <td>NaN</td>\n",
       "    </tr>\n",
       "  </tbody>\n",
       "</table>\n",
       "<p>1 rows × 355 columns</p>\n",
       "</div>"
      ],
      "text/plain": [
       "   Time from Start to Finish (seconds)     Q1   Q2        Q3               Q4  \\\n",
       "0                                 1838  35-39  Man  Colombia  Doctoral degree   \n",
       "\n",
       "        Q5          Q6 Q7_Part_1 Q7_Part_2 Q7_Part_3  ... Q35_B_Part_2  \\\n",
       "0  Student  5-10 years    Python         R       SQL  ...          NaN   \n",
       "\n",
       "  Q35_B_Part_3 Q35_B_Part_4   Q35_B_Part_5 Q35_B_Part_6 Q35_B_Part_7  \\\n",
       "0          NaN          NaN   TensorBoard           NaN          NaN   \n",
       "\n",
       "  Q35_B_Part_8 Q35_B_Part_9 Q35_B_Part_10 Q35_B_OTHER  \n",
       "0          NaN          NaN           NaN         NaN  \n",
       "\n",
       "[1 rows x 355 columns]"
      ]
     },
     "execution_count": 2,
     "metadata": {},
     "output_type": "execute_result"
    }
   ],
   "source": [
    "# This time let's skip the 2nd row, which contains questions\n",
    "kaggle2020 = pd.read_csv('../data/kaggle_survey_2020_responses.csv', skiprows = [1])\n",
    "kaggle2020.head(n = 1)"
   ]
  },
  {
   "cell_type": "code",
   "execution_count": 3,
   "id": "cf6a56f1",
   "metadata": {
    "slideshow": {
     "slide_type": "fragment"
    }
   },
   "outputs": [
    {
     "data": {
      "text/html": [
       "<div>\n",
       "<style scoped>\n",
       "    .dataframe tbody tr th:only-of-type {\n",
       "        vertical-align: middle;\n",
       "    }\n",
       "\n",
       "    .dataframe tbody tr th {\n",
       "        vertical-align: top;\n",
       "    }\n",
       "\n",
       "    .dataframe thead th {\n",
       "        text-align: right;\n",
       "    }\n",
       "</style>\n",
       "<table border=\"1\" class=\"dataframe\">\n",
       "  <thead>\n",
       "    <tr style=\"text-align: right;\">\n",
       "      <th></th>\n",
       "      <th>Time from Start to Finish (seconds)</th>\n",
       "      <th>Q1</th>\n",
       "      <th>Q2</th>\n",
       "      <th>Q3</th>\n",
       "      <th>Q4</th>\n",
       "      <th>Q5</th>\n",
       "      <th>Q6</th>\n",
       "      <th>Q7_Part_1</th>\n",
       "      <th>Q7_Part_2</th>\n",
       "      <th>Q7_Part_3</th>\n",
       "      <th>...</th>\n",
       "      <th>Q35_B_Part_2</th>\n",
       "      <th>Q35_B_Part_3</th>\n",
       "      <th>Q35_B_Part_4</th>\n",
       "      <th>Q35_B_Part_5</th>\n",
       "      <th>Q35_B_Part_6</th>\n",
       "      <th>Q35_B_Part_7</th>\n",
       "      <th>Q35_B_Part_8</th>\n",
       "      <th>Q35_B_Part_9</th>\n",
       "      <th>Q35_B_Part_10</th>\n",
       "      <th>Q35_B_OTHER</th>\n",
       "    </tr>\n",
       "  </thead>\n",
       "  <tbody>\n",
       "    <tr>\n",
       "      <th>0</th>\n",
       "      <td>Duration (in seconds)</td>\n",
       "      <td>What is your age (# years)?</td>\n",
       "      <td>What is your gender? - Selected Choice</td>\n",
       "      <td>In which country do you currently reside?</td>\n",
       "      <td>What is the highest level of formal education ...</td>\n",
       "      <td>Select the title most similar to your current ...</td>\n",
       "      <td>For how many years have you been writing code ...</td>\n",
       "      <td>What programming languages do you use on a reg...</td>\n",
       "      <td>What programming languages do you use on a reg...</td>\n",
       "      <td>What programming languages do you use on a reg...</td>\n",
       "      <td>...</td>\n",
       "      <td>In the next 2 years, do you hope to become mor...</td>\n",
       "      <td>In the next 2 years, do you hope to become mor...</td>\n",
       "      <td>In the next 2 years, do you hope to become mor...</td>\n",
       "      <td>In the next 2 years, do you hope to become mor...</td>\n",
       "      <td>In the next 2 years, do you hope to become mor...</td>\n",
       "      <td>In the next 2 years, do you hope to become mor...</td>\n",
       "      <td>In the next 2 years, do you hope to become mor...</td>\n",
       "      <td>In the next 2 years, do you hope to become mor...</td>\n",
       "      <td>In the next 2 years, do you hope to become mor...</td>\n",
       "      <td>In the next 2 years, do you hope to become mor...</td>\n",
       "    </tr>\n",
       "  </tbody>\n",
       "</table>\n",
       "<p>1 rows × 355 columns</p>\n",
       "</div>"
      ],
      "text/plain": [
       "  Time from Start to Finish (seconds)                           Q1  \\\n",
       "0               Duration (in seconds)  What is your age (# years)?   \n",
       "\n",
       "                                       Q2  \\\n",
       "0  What is your gender? - Selected Choice   \n",
       "\n",
       "                                          Q3  \\\n",
       "0  In which country do you currently reside?   \n",
       "\n",
       "                                                  Q4  \\\n",
       "0  What is the highest level of formal education ...   \n",
       "\n",
       "                                                  Q5  \\\n",
       "0  Select the title most similar to your current ...   \n",
       "\n",
       "                                                  Q6  \\\n",
       "0  For how many years have you been writing code ...   \n",
       "\n",
       "                                           Q7_Part_1  \\\n",
       "0  What programming languages do you use on a reg...   \n",
       "\n",
       "                                           Q7_Part_2  \\\n",
       "0  What programming languages do you use on a reg...   \n",
       "\n",
       "                                           Q7_Part_3  ...  \\\n",
       "0  What programming languages do you use on a reg...  ...   \n",
       "\n",
       "                                        Q35_B_Part_2  \\\n",
       "0  In the next 2 years, do you hope to become mor...   \n",
       "\n",
       "                                        Q35_B_Part_3  \\\n",
       "0  In the next 2 years, do you hope to become mor...   \n",
       "\n",
       "                                        Q35_B_Part_4  \\\n",
       "0  In the next 2 years, do you hope to become mor...   \n",
       "\n",
       "                                        Q35_B_Part_5  \\\n",
       "0  In the next 2 years, do you hope to become mor...   \n",
       "\n",
       "                                        Q35_B_Part_6  \\\n",
       "0  In the next 2 years, do you hope to become mor...   \n",
       "\n",
       "                                        Q35_B_Part_7  \\\n",
       "0  In the next 2 years, do you hope to become mor...   \n",
       "\n",
       "                                        Q35_B_Part_8  \\\n",
       "0  In the next 2 years, do you hope to become mor...   \n",
       "\n",
       "                                        Q35_B_Part_9  \\\n",
       "0  In the next 2 years, do you hope to become mor...   \n",
       "\n",
       "                                       Q35_B_Part_10  \\\n",
       "0  In the next 2 years, do you hope to become mor...   \n",
       "\n",
       "                                         Q35_B_OTHER  \n",
       "0  In the next 2 years, do you hope to become mor...  \n",
       "\n",
       "[1 rows x 355 columns]"
      ]
     },
     "execution_count": 3,
     "metadata": {},
     "output_type": "execute_result"
    }
   ],
   "source": [
    "# We will load the questions as a separate dataset\n",
    "kaggle2020_qs = pd.read_csv('../data/kaggle_survey_2020_responses.csv', nrows = 1)\n",
    "kaggle2020_qs"
   ]
  },
  {
   "cell_type": "markdown",
   "id": "41f601c6",
   "metadata": {
    "slideshow": {
     "slide_type": "slide"
    }
   },
   "source": [
    "## Summarizing numeric variables\n",
    "\n",
    "- DataFrame methods in pandas can automatically handle (exclude) missing data (`NaN`)"
   ]
  },
  {
   "cell_type": "code",
   "execution_count": 4,
   "id": "8b7600f3",
   "metadata": {
    "slideshow": {
     "slide_type": "fragment"
    }
   },
   "outputs": [
    {
     "data": {
      "text/html": [
       "<div>\n",
       "<style scoped>\n",
       "    .dataframe tbody tr th:only-of-type {\n",
       "        vertical-align: middle;\n",
       "    }\n",
       "\n",
       "    .dataframe tbody tr th {\n",
       "        vertical-align: top;\n",
       "    }\n",
       "\n",
       "    .dataframe thead th {\n",
       "        text-align: right;\n",
       "    }\n",
       "</style>\n",
       "<table border=\"1\" class=\"dataframe\">\n",
       "  <thead>\n",
       "    <tr style=\"text-align: right;\">\n",
       "      <th></th>\n",
       "      <th>Time from Start to Finish (seconds)</th>\n",
       "    </tr>\n",
       "  </thead>\n",
       "  <tbody>\n",
       "    <tr>\n",
       "      <th>count</th>\n",
       "      <td>2.003600e+04</td>\n",
       "    </tr>\n",
       "    <tr>\n",
       "      <th>mean</th>\n",
       "      <td>9.155865e+03</td>\n",
       "    </tr>\n",
       "    <tr>\n",
       "      <th>std</th>\n",
       "      <td>6.136760e+04</td>\n",
       "    </tr>\n",
       "    <tr>\n",
       "      <th>min</th>\n",
       "      <td>2.000000e+01</td>\n",
       "    </tr>\n",
       "    <tr>\n",
       "      <th>25%</th>\n",
       "      <td>3.980000e+02</td>\n",
       "    </tr>\n",
       "    <tr>\n",
       "      <th>50%</th>\n",
       "      <td>6.260000e+02</td>\n",
       "    </tr>\n",
       "    <tr>\n",
       "      <th>75%</th>\n",
       "      <td>1.030250e+03</td>\n",
       "    </tr>\n",
       "    <tr>\n",
       "      <th>max</th>\n",
       "      <td>1.144493e+06</td>\n",
       "    </tr>\n",
       "  </tbody>\n",
       "</table>\n",
       "</div>"
      ],
      "text/plain": [
       "       Time from Start to Finish (seconds)\n",
       "count                         2.003600e+04\n",
       "mean                          9.155865e+03\n",
       "std                           6.136760e+04\n",
       "min                           2.000000e+01\n",
       "25%                           3.980000e+02\n",
       "50%                           6.260000e+02\n",
       "75%                           1.030250e+03\n",
       "max                           1.144493e+06"
      ]
     },
     "execution_count": 4,
     "metadata": {},
     "output_type": "execute_result"
    }
   ],
   "source": [
    "kaggle2020.describe() # DataFrame.describe() provides an range of summary statistics"
   ]
  },
  {
   "cell_type": "markdown",
   "id": "dc2a2872",
   "metadata": {
    "slideshow": {
     "slide_type": "slide"
    }
   },
   "source": [
    "## Methods for summarizing numeric variables"
   ]
  },
  {
   "cell_type": "code",
   "execution_count": 5,
   "id": "63139428",
   "metadata": {
    "slideshow": {
     "slide_type": "fragment"
    }
   },
   "outputs": [
    {
     "data": {
      "text/plain": [
       "9155.864843282092"
      ]
     },
     "execution_count": 5,
     "metadata": {},
     "output_type": "execute_result"
    }
   ],
   "source": [
    "kaggle2020.iloc[:,0].mean() # Rather than using describe(), we can apply individual methods"
   ]
  },
  {
   "cell_type": "code",
   "execution_count": 6,
   "id": "30c6a9a3",
   "metadata": {
    "slideshow": {
     "slide_type": "fragment"
    }
   },
   "outputs": [
    {
     "data": {
      "text/plain": [
       "626.0"
      ]
     },
     "execution_count": 6,
     "metadata": {},
     "output_type": "execute_result"
    }
   ],
   "source": [
    "kaggle2020.iloc[:,0].median() # Median"
   ]
  },
  {
   "cell_type": "code",
   "execution_count": 7,
   "id": "5060823c",
   "metadata": {
    "slideshow": {
     "slide_type": "fragment"
    }
   },
   "outputs": [
    {
     "data": {
      "text/plain": [
       "61367.59967471586"
      ]
     },
     "execution_count": 7,
     "metadata": {},
     "output_type": "execute_result"
    }
   ],
   "source": [
    "kaggle2020.iloc[:,0].std() # Standard deviation"
   ]
  },
  {
   "cell_type": "code",
   "execution_count": 8,
   "id": "c1d7f2a5",
   "metadata": {
    "slideshow": {
     "slide_type": "fragment"
    }
   },
   "outputs": [
    {
     "data": {
      "text/plain": [
       "61367.59967471586"
      ]
     },
     "execution_count": 8,
     "metadata": {},
     "output_type": "execute_result"
    }
   ],
   "source": [
    "import statistics ## We don't have to rely only on methods provided by `pandas`\n",
    "statistics.stdev(kaggle2020.iloc[:,0])"
   ]
  },
  {
   "cell_type": "markdown",
   "id": "148257f4",
   "metadata": {
    "slideshow": {
     "slide_type": "slide"
    }
   },
   "source": [
    "## Summarizing categorical variables"
   ]
  },
  {
   "cell_type": "code",
   "execution_count": 9,
   "id": "42a2dee1",
   "metadata": {
    "slideshow": {
     "slide_type": "fragment"
    }
   },
   "outputs": [
    {
     "data": {
      "text/html": [
       "<div>\n",
       "<style scoped>\n",
       "    .dataframe tbody tr th:only-of-type {\n",
       "        vertical-align: middle;\n",
       "    }\n",
       "\n",
       "    .dataframe tbody tr th {\n",
       "        vertical-align: top;\n",
       "    }\n",
       "\n",
       "    .dataframe thead th {\n",
       "        text-align: right;\n",
       "    }\n",
       "</style>\n",
       "<table border=\"1\" class=\"dataframe\">\n",
       "  <thead>\n",
       "    <tr style=\"text-align: right;\">\n",
       "      <th></th>\n",
       "      <th>Time from Start to Finish (seconds)</th>\n",
       "      <th>Q1</th>\n",
       "      <th>Q2</th>\n",
       "      <th>Q3</th>\n",
       "      <th>Q4</th>\n",
       "      <th>Q5</th>\n",
       "      <th>Q6</th>\n",
       "      <th>Q7_Part_1</th>\n",
       "      <th>Q7_Part_2</th>\n",
       "      <th>Q7_Part_3</th>\n",
       "      <th>...</th>\n",
       "      <th>Q35_B_Part_2</th>\n",
       "      <th>Q35_B_Part_3</th>\n",
       "      <th>Q35_B_Part_4</th>\n",
       "      <th>Q35_B_Part_5</th>\n",
       "      <th>Q35_B_Part_6</th>\n",
       "      <th>Q35_B_Part_7</th>\n",
       "      <th>Q35_B_Part_8</th>\n",
       "      <th>Q35_B_Part_9</th>\n",
       "      <th>Q35_B_Part_10</th>\n",
       "      <th>Q35_B_OTHER</th>\n",
       "    </tr>\n",
       "  </thead>\n",
       "  <tbody>\n",
       "    <tr>\n",
       "      <th>count</th>\n",
       "      <td>2.003600e+04</td>\n",
       "      <td>20036</td>\n",
       "      <td>20036</td>\n",
       "      <td>20036</td>\n",
       "      <td>19569</td>\n",
       "      <td>19277</td>\n",
       "      <td>19120</td>\n",
       "      <td>15530</td>\n",
       "      <td>4277</td>\n",
       "      <td>7535</td>\n",
       "      <td>...</td>\n",
       "      <td>1177</td>\n",
       "      <td>494</td>\n",
       "      <td>430</td>\n",
       "      <td>3199</td>\n",
       "      <td>557</td>\n",
       "      <td>480</td>\n",
       "      <td>846</td>\n",
       "      <td>519</td>\n",
       "      <td>3082</td>\n",
       "      <td>251</td>\n",
       "    </tr>\n",
       "    <tr>\n",
       "      <th>unique</th>\n",
       "      <td>NaN</td>\n",
       "      <td>11</td>\n",
       "      <td>5</td>\n",
       "      <td>55</td>\n",
       "      <td>7</td>\n",
       "      <td>13</td>\n",
       "      <td>7</td>\n",
       "      <td>1</td>\n",
       "      <td>1</td>\n",
       "      <td>1</td>\n",
       "      <td>...</td>\n",
       "      <td>1</td>\n",
       "      <td>1</td>\n",
       "      <td>1</td>\n",
       "      <td>1</td>\n",
       "      <td>1</td>\n",
       "      <td>1</td>\n",
       "      <td>1</td>\n",
       "      <td>1</td>\n",
       "      <td>1</td>\n",
       "      <td>1</td>\n",
       "    </tr>\n",
       "    <tr>\n",
       "      <th>top</th>\n",
       "      <td>NaN</td>\n",
       "      <td>25-29</td>\n",
       "      <td>Man</td>\n",
       "      <td>India</td>\n",
       "      <td>Master’s degree</td>\n",
       "      <td>Student</td>\n",
       "      <td>3-5 years</td>\n",
       "      <td>Python</td>\n",
       "      <td>R</td>\n",
       "      <td>SQL</td>\n",
       "      <td>...</td>\n",
       "      <td>Weights &amp; Biases</td>\n",
       "      <td>Comet.ml</td>\n",
       "      <td>Sacred + Omniboard</td>\n",
       "      <td>TensorBoard</td>\n",
       "      <td>Guild.ai</td>\n",
       "      <td>Polyaxon</td>\n",
       "      <td>Trains</td>\n",
       "      <td>Domino Model Monitor</td>\n",
       "      <td>None</td>\n",
       "      <td>Other</td>\n",
       "    </tr>\n",
       "    <tr>\n",
       "      <th>freq</th>\n",
       "      <td>NaN</td>\n",
       "      <td>4011</td>\n",
       "      <td>15789</td>\n",
       "      <td>5851</td>\n",
       "      <td>7859</td>\n",
       "      <td>5171</td>\n",
       "      <td>4546</td>\n",
       "      <td>15530</td>\n",
       "      <td>4277</td>\n",
       "      <td>7535</td>\n",
       "      <td>...</td>\n",
       "      <td>1177</td>\n",
       "      <td>494</td>\n",
       "      <td>430</td>\n",
       "      <td>3199</td>\n",
       "      <td>557</td>\n",
       "      <td>480</td>\n",
       "      <td>846</td>\n",
       "      <td>519</td>\n",
       "      <td>3082</td>\n",
       "      <td>251</td>\n",
       "    </tr>\n",
       "    <tr>\n",
       "      <th>mean</th>\n",
       "      <td>9.155865e+03</td>\n",
       "      <td>NaN</td>\n",
       "      <td>NaN</td>\n",
       "      <td>NaN</td>\n",
       "      <td>NaN</td>\n",
       "      <td>NaN</td>\n",
       "      <td>NaN</td>\n",
       "      <td>NaN</td>\n",
       "      <td>NaN</td>\n",
       "      <td>NaN</td>\n",
       "      <td>...</td>\n",
       "      <td>NaN</td>\n",
       "      <td>NaN</td>\n",
       "      <td>NaN</td>\n",
       "      <td>NaN</td>\n",
       "      <td>NaN</td>\n",
       "      <td>NaN</td>\n",
       "      <td>NaN</td>\n",
       "      <td>NaN</td>\n",
       "      <td>NaN</td>\n",
       "      <td>NaN</td>\n",
       "    </tr>\n",
       "    <tr>\n",
       "      <th>std</th>\n",
       "      <td>6.136760e+04</td>\n",
       "      <td>NaN</td>\n",
       "      <td>NaN</td>\n",
       "      <td>NaN</td>\n",
       "      <td>NaN</td>\n",
       "      <td>NaN</td>\n",
       "      <td>NaN</td>\n",
       "      <td>NaN</td>\n",
       "      <td>NaN</td>\n",
       "      <td>NaN</td>\n",
       "      <td>...</td>\n",
       "      <td>NaN</td>\n",
       "      <td>NaN</td>\n",
       "      <td>NaN</td>\n",
       "      <td>NaN</td>\n",
       "      <td>NaN</td>\n",
       "      <td>NaN</td>\n",
       "      <td>NaN</td>\n",
       "      <td>NaN</td>\n",
       "      <td>NaN</td>\n",
       "      <td>NaN</td>\n",
       "    </tr>\n",
       "    <tr>\n",
       "      <th>min</th>\n",
       "      <td>2.000000e+01</td>\n",
       "      <td>NaN</td>\n",
       "      <td>NaN</td>\n",
       "      <td>NaN</td>\n",
       "      <td>NaN</td>\n",
       "      <td>NaN</td>\n",
       "      <td>NaN</td>\n",
       "      <td>NaN</td>\n",
       "      <td>NaN</td>\n",
       "      <td>NaN</td>\n",
       "      <td>...</td>\n",
       "      <td>NaN</td>\n",
       "      <td>NaN</td>\n",
       "      <td>NaN</td>\n",
       "      <td>NaN</td>\n",
       "      <td>NaN</td>\n",
       "      <td>NaN</td>\n",
       "      <td>NaN</td>\n",
       "      <td>NaN</td>\n",
       "      <td>NaN</td>\n",
       "      <td>NaN</td>\n",
       "    </tr>\n",
       "    <tr>\n",
       "      <th>25%</th>\n",
       "      <td>3.980000e+02</td>\n",
       "      <td>NaN</td>\n",
       "      <td>NaN</td>\n",
       "      <td>NaN</td>\n",
       "      <td>NaN</td>\n",
       "      <td>NaN</td>\n",
       "      <td>NaN</td>\n",
       "      <td>NaN</td>\n",
       "      <td>NaN</td>\n",
       "      <td>NaN</td>\n",
       "      <td>...</td>\n",
       "      <td>NaN</td>\n",
       "      <td>NaN</td>\n",
       "      <td>NaN</td>\n",
       "      <td>NaN</td>\n",
       "      <td>NaN</td>\n",
       "      <td>NaN</td>\n",
       "      <td>NaN</td>\n",
       "      <td>NaN</td>\n",
       "      <td>NaN</td>\n",
       "      <td>NaN</td>\n",
       "    </tr>\n",
       "    <tr>\n",
       "      <th>50%</th>\n",
       "      <td>6.260000e+02</td>\n",
       "      <td>NaN</td>\n",
       "      <td>NaN</td>\n",
       "      <td>NaN</td>\n",
       "      <td>NaN</td>\n",
       "      <td>NaN</td>\n",
       "      <td>NaN</td>\n",
       "      <td>NaN</td>\n",
       "      <td>NaN</td>\n",
       "      <td>NaN</td>\n",
       "      <td>...</td>\n",
       "      <td>NaN</td>\n",
       "      <td>NaN</td>\n",
       "      <td>NaN</td>\n",
       "      <td>NaN</td>\n",
       "      <td>NaN</td>\n",
       "      <td>NaN</td>\n",
       "      <td>NaN</td>\n",
       "      <td>NaN</td>\n",
       "      <td>NaN</td>\n",
       "      <td>NaN</td>\n",
       "    </tr>\n",
       "    <tr>\n",
       "      <th>75%</th>\n",
       "      <td>1.030250e+03</td>\n",
       "      <td>NaN</td>\n",
       "      <td>NaN</td>\n",
       "      <td>NaN</td>\n",
       "      <td>NaN</td>\n",
       "      <td>NaN</td>\n",
       "      <td>NaN</td>\n",
       "      <td>NaN</td>\n",
       "      <td>NaN</td>\n",
       "      <td>NaN</td>\n",
       "      <td>...</td>\n",
       "      <td>NaN</td>\n",
       "      <td>NaN</td>\n",
       "      <td>NaN</td>\n",
       "      <td>NaN</td>\n",
       "      <td>NaN</td>\n",
       "      <td>NaN</td>\n",
       "      <td>NaN</td>\n",
       "      <td>NaN</td>\n",
       "      <td>NaN</td>\n",
       "      <td>NaN</td>\n",
       "    </tr>\n",
       "    <tr>\n",
       "      <th>max</th>\n",
       "      <td>1.144493e+06</td>\n",
       "      <td>NaN</td>\n",
       "      <td>NaN</td>\n",
       "      <td>NaN</td>\n",
       "      <td>NaN</td>\n",
       "      <td>NaN</td>\n",
       "      <td>NaN</td>\n",
       "      <td>NaN</td>\n",
       "      <td>NaN</td>\n",
       "      <td>NaN</td>\n",
       "      <td>...</td>\n",
       "      <td>NaN</td>\n",
       "      <td>NaN</td>\n",
       "      <td>NaN</td>\n",
       "      <td>NaN</td>\n",
       "      <td>NaN</td>\n",
       "      <td>NaN</td>\n",
       "      <td>NaN</td>\n",
       "      <td>NaN</td>\n",
       "      <td>NaN</td>\n",
       "      <td>NaN</td>\n",
       "    </tr>\n",
       "  </tbody>\n",
       "</table>\n",
       "<p>11 rows × 355 columns</p>\n",
       "</div>"
      ],
      "text/plain": [
       "        Time from Start to Finish (seconds)     Q1     Q2     Q3  \\\n",
       "count                          2.003600e+04  20036  20036  20036   \n",
       "unique                                  NaN     11      5     55   \n",
       "top                                     NaN  25-29    Man  India   \n",
       "freq                                    NaN   4011  15789   5851   \n",
       "mean                           9.155865e+03    NaN    NaN    NaN   \n",
       "std                            6.136760e+04    NaN    NaN    NaN   \n",
       "min                            2.000000e+01    NaN    NaN    NaN   \n",
       "25%                            3.980000e+02    NaN    NaN    NaN   \n",
       "50%                            6.260000e+02    NaN    NaN    NaN   \n",
       "75%                            1.030250e+03    NaN    NaN    NaN   \n",
       "max                            1.144493e+06    NaN    NaN    NaN   \n",
       "\n",
       "                     Q4       Q5         Q6 Q7_Part_1 Q7_Part_2 Q7_Part_3  \\\n",
       "count             19569    19277      19120     15530      4277      7535   \n",
       "unique                7       13          7         1         1         1   \n",
       "top     Master’s degree  Student  3-5 years    Python         R       SQL   \n",
       "freq               7859     5171       4546     15530      4277      7535   \n",
       "mean                NaN      NaN        NaN       NaN       NaN       NaN   \n",
       "std                 NaN      NaN        NaN       NaN       NaN       NaN   \n",
       "min                 NaN      NaN        NaN       NaN       NaN       NaN   \n",
       "25%                 NaN      NaN        NaN       NaN       NaN       NaN   \n",
       "50%                 NaN      NaN        NaN       NaN       NaN       NaN   \n",
       "75%                 NaN      NaN        NaN       NaN       NaN       NaN   \n",
       "max                 NaN      NaN        NaN       NaN       NaN       NaN   \n",
       "\n",
       "        ...        Q35_B_Part_2 Q35_B_Part_3          Q35_B_Part_4  \\\n",
       "count   ...                1177          494                   430   \n",
       "unique  ...                   1            1                     1   \n",
       "top     ...   Weights & Biases     Comet.ml    Sacred + Omniboard    \n",
       "freq    ...                1177          494                   430   \n",
       "mean    ...                 NaN          NaN                   NaN   \n",
       "std     ...                 NaN          NaN                   NaN   \n",
       "min     ...                 NaN          NaN                   NaN   \n",
       "25%     ...                 NaN          NaN                   NaN   \n",
       "50%     ...                 NaN          NaN                   NaN   \n",
       "75%     ...                 NaN          NaN                   NaN   \n",
       "max     ...                 NaN          NaN                   NaN   \n",
       "\n",
       "         Q35_B_Part_5 Q35_B_Part_6 Q35_B_Part_7 Q35_B_Part_8  \\\n",
       "count            3199          557          480          846   \n",
       "unique              1            1            1            1   \n",
       "top      TensorBoard     Guild.ai     Polyaxon       Trains    \n",
       "freq             3199          557          480          846   \n",
       "mean              NaN          NaN          NaN          NaN   \n",
       "std               NaN          NaN          NaN          NaN   \n",
       "min               NaN          NaN          NaN          NaN   \n",
       "25%               NaN          NaN          NaN          NaN   \n",
       "50%               NaN          NaN          NaN          NaN   \n",
       "75%               NaN          NaN          NaN          NaN   \n",
       "max               NaN          NaN          NaN          NaN   \n",
       "\n",
       "                  Q35_B_Part_9 Q35_B_Part_10 Q35_B_OTHER  \n",
       "count                      519          3082         251  \n",
       "unique                       1             1           1  \n",
       "top      Domino Model Monitor           None       Other  \n",
       "freq                       519          3082         251  \n",
       "mean                       NaN           NaN         NaN  \n",
       "std                        NaN           NaN         NaN  \n",
       "min                        NaN           NaN         NaN  \n",
       "25%                        NaN           NaN         NaN  \n",
       "50%                        NaN           NaN         NaN  \n",
       "75%                        NaN           NaN         NaN  \n",
       "max                        NaN           NaN         NaN  \n",
       "\n",
       "[11 rows x 355 columns]"
      ]
     },
     "execution_count": 9,
     "metadata": {},
     "output_type": "execute_result"
    }
   ],
   "source": [
    "kaggle2020.describe(include = 'all') # Adding include = 'all' tells pandas to summarize all variables"
   ]
  },
  {
   "cell_type": "markdown",
   "id": "bedd720f",
   "metadata": {
    "slideshow": {
     "slide_type": "slide"
    }
   },
   "source": [
    "## Methods for summarizing categorical variables"
   ]
  },
  {
   "cell_type": "code",
   "execution_count": 10,
   "id": "8abe71b7",
   "metadata": {
    "slideshow": {
     "slide_type": "fragment"
    }
   },
   "outputs": [
    {
     "data": {
      "text/plain": [
       "0    Man\n",
       "dtype: object"
      ]
     },
     "execution_count": 10,
     "metadata": {},
     "output_type": "execute_result"
    }
   ],
   "source": [
    "kaggle2020.iloc[:,2].mode() # Mode, most frequent value"
   ]
  },
  {
   "cell_type": "code",
   "execution_count": 11,
   "id": "88434a32",
   "metadata": {
    "slideshow": {
     "slide_type": "fragment"
    }
   },
   "outputs": [
    {
     "data": {
      "text/plain": [
       "Man                        15789\n",
       "Woman                       3878\n",
       "Prefer not to say            263\n",
       "Prefer to self-describe       54\n",
       "Nonbinary                     52\n",
       "Name: Q2, dtype: int64"
      ]
     },
     "execution_count": 11,
     "metadata": {},
     "output_type": "execute_result"
    }
   ],
   "source": [
    "kaggle2020.iloc[:,2].value_counts() # Counts of unique values"
   ]
  },
  {
   "cell_type": "code",
   "execution_count": 12,
   "id": "845eed06",
   "metadata": {
    "slideshow": {
     "slide_type": "fragment"
    }
   },
   "outputs": [
    {
     "data": {
      "text/plain": [
       "Man                        0.788032\n",
       "Woman                      0.193552\n",
       "Prefer not to say          0.013126\n",
       "Prefer to self-describe    0.002695\n",
       "Nonbinary                  0.002595\n",
       "Name: Q2, dtype: float64"
      ]
     },
     "execution_count": 12,
     "metadata": {},
     "output_type": "execute_result"
    }
   ],
   "source": [
    "kaggle2020.iloc[:,2].value_counts(normalize = True) # We can further normalize them by the number of rows"
   ]
  },
  {
   "cell_type": "markdown",
   "id": "b13853f5",
   "metadata": {
    "slideshow": {
     "slide_type": "slide"
    }
   },
   "source": [
    "## Summary of descriptive statistics methods\n",
    "\n",
    "| Method         | Numeric   | Categorical   | Description                                    |\n",
    "|:---------------|:----------|:--------------|:-----------------------------------------------|\n",
    "| `count`        | yes       | yes           | Number of non-NA observations                  |\n",
    "| `value_counts` | yes       | yes           | Number of unique observations by value         |\n",
    "| `describe`     | yes       | yes           | Set of summary statistics for Series/DataFrame |\n",
    "| `min`, `max`   | yes       | yes (caution) | Minimum and maximum values                     |\n",
    "| `quantile`     | yes       | no            | Sample quantile ranging from 0 to 1            |\n",
    "| `sum`          | yes       | yes (caution) | Sum of values                                  |\n",
    "| `prod`         | yes       | no            | Product of values                              |\n",
    "| `mean`         | yes       | no            | Mean                                           |\n",
    "| `median`       | yes       | no            | Median (50% quantile)                          |\n",
    "| `var`          | yes       | no            | Sample variance                                |\n",
    "| `std`          | yes       | no            | Sample standard deviation                      |\n",
    "| `skew`         | yes       | no            | Sample skewness (third moment)                 |\n",
    "| `kurt`         | yes       | no            | Sample kurtosis (fourth moment)                |"
   ]
  },
  {
   "cell_type": "markdown",
   "id": "75cb4846",
   "metadata": {
    "slideshow": {
     "slide_type": "slide"
    }
   },
   "source": [
    "## Crosstabulation\n",
    "\n",
    "- When working with survey data it is often useful to perform simple crosstabulations\n",
    "- Crosstabulation (or *crosstab* for short) is a computation of group frequencies\n",
    "- It is usually used for working with categorical variables that have a limited number of categories\n",
    "- In pandas `pd.crosstab()` method is a special case of `pd.pivot_table()`"
   ]
  },
  {
   "cell_type": "markdown",
   "id": "ccd67c5f",
   "metadata": {
    "slideshow": {
     "slide_type": "slide"
    }
   },
   "source": [
    "## Crosstabulation in pandas"
   ]
  },
  {
   "cell_type": "code",
   "execution_count": 13,
   "id": "4743bd54",
   "metadata": {
    "slideshow": {
     "slide_type": "fragment"
    }
   },
   "outputs": [
    {
     "data": {
      "text/html": [
       "<div>\n",
       "<style scoped>\n",
       "    .dataframe tbody tr th:only-of-type {\n",
       "        vertical-align: middle;\n",
       "    }\n",
       "\n",
       "    .dataframe tbody tr th {\n",
       "        vertical-align: top;\n",
       "    }\n",
       "\n",
       "    .dataframe thead th {\n",
       "        text-align: right;\n",
       "    }\n",
       "</style>\n",
       "<table border=\"1\" class=\"dataframe\">\n",
       "  <thead>\n",
       "    <tr style=\"text-align: right;\">\n",
       "      <th>Q2</th>\n",
       "      <th>Man</th>\n",
       "      <th>Nonbinary</th>\n",
       "      <th>Prefer not to say</th>\n",
       "      <th>Prefer to self-describe</th>\n",
       "      <th>Woman</th>\n",
       "    </tr>\n",
       "    <tr>\n",
       "      <th>Q1</th>\n",
       "      <th></th>\n",
       "      <th></th>\n",
       "      <th></th>\n",
       "      <th></th>\n",
       "      <th></th>\n",
       "    </tr>\n",
       "  </thead>\n",
       "  <tbody>\n",
       "    <tr>\n",
       "      <th>18-21</th>\n",
       "      <td>2611</td>\n",
       "      <td>8</td>\n",
       "      <td>42</td>\n",
       "      <td>12</td>\n",
       "      <td>796</td>\n",
       "    </tr>\n",
       "    <tr>\n",
       "      <th>22-24</th>\n",
       "      <td>2838</td>\n",
       "      <td>12</td>\n",
       "      <td>41</td>\n",
       "      <td>9</td>\n",
       "      <td>886</td>\n",
       "    </tr>\n",
       "    <tr>\n",
       "      <th>25-29</th>\n",
       "      <td>3128</td>\n",
       "      <td>13</td>\n",
       "      <td>42</td>\n",
       "      <td>9</td>\n",
       "      <td>819</td>\n",
       "    </tr>\n",
       "    <tr>\n",
       "      <th>30-34</th>\n",
       "      <td>2246</td>\n",
       "      <td>8</td>\n",
       "      <td>44</td>\n",
       "      <td>9</td>\n",
       "      <td>504</td>\n",
       "    </tr>\n",
       "    <tr>\n",
       "      <th>35-39</th>\n",
       "      <td>1581</td>\n",
       "      <td>7</td>\n",
       "      <td>33</td>\n",
       "      <td>2</td>\n",
       "      <td>368</td>\n",
       "    </tr>\n",
       "    <tr>\n",
       "      <th>40-44</th>\n",
       "      <td>1153</td>\n",
       "      <td>2</td>\n",
       "      <td>15</td>\n",
       "      <td>5</td>\n",
       "      <td>222</td>\n",
       "    </tr>\n",
       "    <tr>\n",
       "      <th>45-49</th>\n",
       "      <td>840</td>\n",
       "      <td>1</td>\n",
       "      <td>17</td>\n",
       "      <td>4</td>\n",
       "      <td>126</td>\n",
       "    </tr>\n",
       "    <tr>\n",
       "      <th>50-54</th>\n",
       "      <td>605</td>\n",
       "      <td>0</td>\n",
       "      <td>10</td>\n",
       "      <td>2</td>\n",
       "      <td>81</td>\n",
       "    </tr>\n",
       "    <tr>\n",
       "      <th>55-59</th>\n",
       "      <td>353</td>\n",
       "      <td>0</td>\n",
       "      <td>13</td>\n",
       "      <td>0</td>\n",
       "      <td>45</td>\n",
       "    </tr>\n",
       "    <tr>\n",
       "      <th>60-69</th>\n",
       "      <td>362</td>\n",
       "      <td>1</td>\n",
       "      <td>4</td>\n",
       "      <td>2</td>\n",
       "      <td>29</td>\n",
       "    </tr>\n",
       "    <tr>\n",
       "      <th>70+</th>\n",
       "      <td>72</td>\n",
       "      <td>0</td>\n",
       "      <td>2</td>\n",
       "      <td>0</td>\n",
       "      <td>2</td>\n",
       "    </tr>\n",
       "  </tbody>\n",
       "</table>\n",
       "</div>"
      ],
      "text/plain": [
       "Q2      Man  Nonbinary  Prefer not to say  Prefer to self-describe  Woman\n",
       "Q1                                                                       \n",
       "18-21  2611          8                 42                       12    796\n",
       "22-24  2838         12                 41                        9    886\n",
       "25-29  3128         13                 42                        9    819\n",
       "30-34  2246          8                 44                        9    504\n",
       "35-39  1581          7                 33                        2    368\n",
       "40-44  1153          2                 15                        5    222\n",
       "45-49   840          1                 17                        4    126\n",
       "50-54   605          0                 10                        2     81\n",
       "55-59   353          0                 13                        0     45\n",
       "60-69   362          1                  4                        2     29\n",
       "70+      72          0                  2                        0      2"
      ]
     },
     "execution_count": 13,
     "metadata": {},
     "output_type": "execute_result"
    }
   ],
   "source": [
    "# Calculate crosstabulation between 'Age group' (Q1) and 'Gender' (Q2)\n",
    "pd.crosstab(kaggle2020['Q1'], kaggle2020['Q2'])"
   ]
  },
  {
   "cell_type": "markdown",
   "id": "e719960e",
   "metadata": {
    "slideshow": {
     "slide_type": "slide"
    }
   },
   "source": [
    "## Margins in crosstab"
   ]
  },
  {
   "cell_type": "code",
   "execution_count": 14,
   "id": "d5cbf8bf",
   "metadata": {
    "slideshow": {
     "slide_type": "fragment"
    }
   },
   "outputs": [
    {
     "data": {
      "text/html": [
       "<div>\n",
       "<style scoped>\n",
       "    .dataframe tbody tr th:only-of-type {\n",
       "        vertical-align: middle;\n",
       "    }\n",
       "\n",
       "    .dataframe tbody tr th {\n",
       "        vertical-align: top;\n",
       "    }\n",
       "\n",
       "    .dataframe thead th {\n",
       "        text-align: right;\n",
       "    }\n",
       "</style>\n",
       "<table border=\"1\" class=\"dataframe\">\n",
       "  <thead>\n",
       "    <tr style=\"text-align: right;\">\n",
       "      <th>Q2</th>\n",
       "      <th>Man</th>\n",
       "      <th>Nonbinary</th>\n",
       "      <th>Prefer not to say</th>\n",
       "      <th>Prefer to self-describe</th>\n",
       "      <th>Woman</th>\n",
       "    </tr>\n",
       "    <tr>\n",
       "      <th>Q1</th>\n",
       "      <th></th>\n",
       "      <th></th>\n",
       "      <th></th>\n",
       "      <th></th>\n",
       "      <th></th>\n",
       "    </tr>\n",
       "  </thead>\n",
       "  <tbody>\n",
       "    <tr>\n",
       "      <th>18-21</th>\n",
       "      <td>0.165368</td>\n",
       "      <td>0.153846</td>\n",
       "      <td>0.159696</td>\n",
       "      <td>0.222222</td>\n",
       "      <td>0.205260</td>\n",
       "    </tr>\n",
       "    <tr>\n",
       "      <th>22-24</th>\n",
       "      <td>0.179745</td>\n",
       "      <td>0.230769</td>\n",
       "      <td>0.155894</td>\n",
       "      <td>0.166667</td>\n",
       "      <td>0.228468</td>\n",
       "    </tr>\n",
       "    <tr>\n",
       "      <th>25-29</th>\n",
       "      <td>0.198113</td>\n",
       "      <td>0.250000</td>\n",
       "      <td>0.159696</td>\n",
       "      <td>0.166667</td>\n",
       "      <td>0.211191</td>\n",
       "    </tr>\n",
       "    <tr>\n",
       "      <th>30-34</th>\n",
       "      <td>0.142251</td>\n",
       "      <td>0.153846</td>\n",
       "      <td>0.167300</td>\n",
       "      <td>0.166667</td>\n",
       "      <td>0.129964</td>\n",
       "    </tr>\n",
       "    <tr>\n",
       "      <th>35-39</th>\n",
       "      <td>0.100133</td>\n",
       "      <td>0.134615</td>\n",
       "      <td>0.125475</td>\n",
       "      <td>0.037037</td>\n",
       "      <td>0.094894</td>\n",
       "    </tr>\n",
       "    <tr>\n",
       "      <th>40-44</th>\n",
       "      <td>0.073026</td>\n",
       "      <td>0.038462</td>\n",
       "      <td>0.057034</td>\n",
       "      <td>0.092593</td>\n",
       "      <td>0.057246</td>\n",
       "    </tr>\n",
       "    <tr>\n",
       "      <th>45-49</th>\n",
       "      <td>0.053202</td>\n",
       "      <td>0.019231</td>\n",
       "      <td>0.064639</td>\n",
       "      <td>0.074074</td>\n",
       "      <td>0.032491</td>\n",
       "    </tr>\n",
       "    <tr>\n",
       "      <th>50-54</th>\n",
       "      <td>0.038318</td>\n",
       "      <td>0.000000</td>\n",
       "      <td>0.038023</td>\n",
       "      <td>0.037037</td>\n",
       "      <td>0.020887</td>\n",
       "    </tr>\n",
       "    <tr>\n",
       "      <th>55-59</th>\n",
       "      <td>0.022357</td>\n",
       "      <td>0.000000</td>\n",
       "      <td>0.049430</td>\n",
       "      <td>0.000000</td>\n",
       "      <td>0.011604</td>\n",
       "    </tr>\n",
       "    <tr>\n",
       "      <th>60-69</th>\n",
       "      <td>0.022927</td>\n",
       "      <td>0.019231</td>\n",
       "      <td>0.015209</td>\n",
       "      <td>0.037037</td>\n",
       "      <td>0.007478</td>\n",
       "    </tr>\n",
       "    <tr>\n",
       "      <th>70+</th>\n",
       "      <td>0.004560</td>\n",
       "      <td>0.000000</td>\n",
       "      <td>0.007605</td>\n",
       "      <td>0.000000</td>\n",
       "      <td>0.000516</td>\n",
       "    </tr>\n",
       "  </tbody>\n",
       "</table>\n",
       "</div>"
      ],
      "text/plain": [
       "Q2          Man  Nonbinary  Prefer not to say  Prefer to self-describe  \\\n",
       "Q1                                                                       \n",
       "18-21  0.165368   0.153846           0.159696                 0.222222   \n",
       "22-24  0.179745   0.230769           0.155894                 0.166667   \n",
       "25-29  0.198113   0.250000           0.159696                 0.166667   \n",
       "30-34  0.142251   0.153846           0.167300                 0.166667   \n",
       "35-39  0.100133   0.134615           0.125475                 0.037037   \n",
       "40-44  0.073026   0.038462           0.057034                 0.092593   \n",
       "45-49  0.053202   0.019231           0.064639                 0.074074   \n",
       "50-54  0.038318   0.000000           0.038023                 0.037037   \n",
       "55-59  0.022357   0.000000           0.049430                 0.000000   \n",
       "60-69  0.022927   0.019231           0.015209                 0.037037   \n",
       "70+    0.004560   0.000000           0.007605                 0.000000   \n",
       "\n",
       "Q2        Woman  \n",
       "Q1               \n",
       "18-21  0.205260  \n",
       "22-24  0.228468  \n",
       "25-29  0.211191  \n",
       "30-34  0.129964  \n",
       "35-39  0.094894  \n",
       "40-44  0.057246  \n",
       "45-49  0.032491  \n",
       "50-54  0.020887  \n",
       "55-59  0.011604  \n",
       "60-69  0.007478  \n",
       "70+    0.000516  "
      ]
     },
     "execution_count": 14,
     "metadata": {},
     "output_type": "execute_result"
    }
   ],
   "source": [
    "# It is often useful to see the proportions/percentages rather than raw counts\n",
    "pd.crosstab(kaggle2020['Q1'], kaggle2020['Q2'], normalize = 'columns')"
   ]
  },
  {
   "cell_type": "markdown",
   "id": "60e7360e",
   "metadata": {
    "slideshow": {
     "slide_type": "slide"
    }
   },
   "source": [
    "## Crosstabulation in pandas with `pivot_table`"
   ]
  },
  {
   "cell_type": "code",
   "execution_count": 15,
   "id": "e130c8b5",
   "metadata": {
    "slideshow": {
     "slide_type": "fragment"
    }
   },
   "outputs": [
    {
     "data": {
      "text/html": [
       "<div>\n",
       "<style scoped>\n",
       "    .dataframe tbody tr th:only-of-type {\n",
       "        vertical-align: middle;\n",
       "    }\n",
       "\n",
       "    .dataframe tbody tr th {\n",
       "        vertical-align: top;\n",
       "    }\n",
       "\n",
       "    .dataframe thead th {\n",
       "        text-align: right;\n",
       "    }\n",
       "</style>\n",
       "<table border=\"1\" class=\"dataframe\">\n",
       "  <thead>\n",
       "    <tr style=\"text-align: right;\">\n",
       "      <th>Q2</th>\n",
       "      <th>Man</th>\n",
       "      <th>Nonbinary</th>\n",
       "      <th>Prefer not to say</th>\n",
       "      <th>Prefer to self-describe</th>\n",
       "      <th>Woman</th>\n",
       "    </tr>\n",
       "    <tr>\n",
       "      <th>Q1</th>\n",
       "      <th></th>\n",
       "      <th></th>\n",
       "      <th></th>\n",
       "      <th></th>\n",
       "      <th></th>\n",
       "    </tr>\n",
       "  </thead>\n",
       "  <tbody>\n",
       "    <tr>\n",
       "      <th>18-21</th>\n",
       "      <td>2611</td>\n",
       "      <td>8</td>\n",
       "      <td>42</td>\n",
       "      <td>12</td>\n",
       "      <td>796</td>\n",
       "    </tr>\n",
       "    <tr>\n",
       "      <th>22-24</th>\n",
       "      <td>2838</td>\n",
       "      <td>12</td>\n",
       "      <td>41</td>\n",
       "      <td>9</td>\n",
       "      <td>886</td>\n",
       "    </tr>\n",
       "    <tr>\n",
       "      <th>25-29</th>\n",
       "      <td>3128</td>\n",
       "      <td>13</td>\n",
       "      <td>42</td>\n",
       "      <td>9</td>\n",
       "      <td>819</td>\n",
       "    </tr>\n",
       "    <tr>\n",
       "      <th>30-34</th>\n",
       "      <td>2246</td>\n",
       "      <td>8</td>\n",
       "      <td>44</td>\n",
       "      <td>9</td>\n",
       "      <td>504</td>\n",
       "    </tr>\n",
       "    <tr>\n",
       "      <th>35-39</th>\n",
       "      <td>1581</td>\n",
       "      <td>7</td>\n",
       "      <td>33</td>\n",
       "      <td>2</td>\n",
       "      <td>368</td>\n",
       "    </tr>\n",
       "    <tr>\n",
       "      <th>40-44</th>\n",
       "      <td>1153</td>\n",
       "      <td>2</td>\n",
       "      <td>15</td>\n",
       "      <td>5</td>\n",
       "      <td>222</td>\n",
       "    </tr>\n",
       "    <tr>\n",
       "      <th>45-49</th>\n",
       "      <td>840</td>\n",
       "      <td>1</td>\n",
       "      <td>17</td>\n",
       "      <td>4</td>\n",
       "      <td>126</td>\n",
       "    </tr>\n",
       "    <tr>\n",
       "      <th>50-54</th>\n",
       "      <td>605</td>\n",
       "      <td>0</td>\n",
       "      <td>10</td>\n",
       "      <td>2</td>\n",
       "      <td>81</td>\n",
       "    </tr>\n",
       "    <tr>\n",
       "      <th>55-59</th>\n",
       "      <td>353</td>\n",
       "      <td>0</td>\n",
       "      <td>13</td>\n",
       "      <td>0</td>\n",
       "      <td>45</td>\n",
       "    </tr>\n",
       "    <tr>\n",
       "      <th>60-69</th>\n",
       "      <td>362</td>\n",
       "      <td>1</td>\n",
       "      <td>4</td>\n",
       "      <td>2</td>\n",
       "      <td>29</td>\n",
       "    </tr>\n",
       "    <tr>\n",
       "      <th>70+</th>\n",
       "      <td>72</td>\n",
       "      <td>0</td>\n",
       "      <td>2</td>\n",
       "      <td>0</td>\n",
       "      <td>2</td>\n",
       "    </tr>\n",
       "  </tbody>\n",
       "</table>\n",
       "</div>"
      ],
      "text/plain": [
       "Q2      Man  Nonbinary  Prefer not to say  Prefer to self-describe  Woman\n",
       "Q1                                                                       \n",
       "18-21  2611          8                 42                       12    796\n",
       "22-24  2838         12                 41                        9    886\n",
       "25-29  3128         13                 42                        9    819\n",
       "30-34  2246          8                 44                        9    504\n",
       "35-39  1581          7                 33                        2    368\n",
       "40-44  1153          2                 15                        5    222\n",
       "45-49   840          1                 17                        4    126\n",
       "50-54   605          0                 10                        2     81\n",
       "55-59   353          0                 13                        0     45\n",
       "60-69   362          1                  4                        2     29\n",
       "70+      72          0                  2                        0      2"
      ]
     },
     "execution_count": 15,
     "metadata": {},
     "output_type": "execute_result"
    }
   ],
   "source": [
    "# For `values` variable we use `Q3`, but any other would work equally well \n",
    "pd.pivot_table(kaggle2020, index = 'Q1', columns = 'Q2', values = 'Q3', aggfunc = 'count', fill_value = 0)"
   ]
  },
  {
   "cell_type": "markdown",
   "id": "3bf0d749",
   "metadata": {
    "slideshow": {
     "slide_type": "slide"
    }
   },
   "source": [
    "## Data visualization\n",
    "\n",
    "<div style=\"text-align: center;\">\n",
    "    <img width=\"700\" height=\"400\" src=\"imgs/Tufte2001_napoleon.png\">\n",
    "</div>\n",
    "\n",
    "Source: [Tufte (2001)](https://www.edwardtufte.com/tufte/books_vdqi), based on Marey (1885)"
   ]
  },
  {
   "cell_type": "markdown",
   "id": "f3e3ff6c",
   "metadata": {
    "slideshow": {
     "slide_type": "slide"
    }
   },
   "source": [
    "## Data visualization in Python\n",
    "\n",
    "- As with dealing with data, Python has no in-built, 'base' plotting functionality\n",
    "- `matplotlib` has become the one of standard solutions\n",
    "- It is often used [in combination with `pandas`](https://pandas.pydata.org/pandas-docs/stable/user_guide/visualization.html)\n",
    "- Other popular alternative include `seaborn` and `plotnine`\n",
    "- Also `pandas` itself has some limited plotting facilities"
   ]
  },
  {
   "cell_type": "markdown",
   "id": "f90988d8",
   "metadata": {
    "slideshow": {
     "slide_type": "slide"
    }
   },
   "source": [
    "## `plotnine` - `ggplot` for Python\n",
    "\n",
    "- `plotnine` implements Grammar of Graphics data visualisation scheme [(Wilkinson, 2005)](https://doi.org/10.1007/0-387-28695-0)\n",
    "- It mimics the syntax of a well-known R library `ggplot2`syntax [(Wickham, 2010)](https://doi.org/10.1198/jcgs.2009.07098)\n",
    "- In doing so, it makes the code (almost) seamlessly portable between the two languages"
   ]
  },
  {
   "cell_type": "markdown",
   "id": "28ecfc34",
   "metadata": {
    "slideshow": {
     "slide_type": "slide"
    }
   },
   "source": [
    "## Grammar of graphics\n",
    "\n",
    "- Grammar of Graphics is a powerful conceptualization of plotting\n",
    "- Graphs are broken into multiple layers\n",
    "- Layers can be recycled across multiple plots"
   ]
  },
  {
   "cell_type": "markdown",
   "id": "fc764645",
   "metadata": {
    "slideshow": {
     "slide_type": "slide"
    }
   },
   "source": [
    "## Structure of ggplot calls in `plotnine`\n",
    "\n",
    "- Creation of ggplot objects in `plotline` has the following structure:\n",
    "\n",
    "```\n",
    "ggplot(data = <DATA>) +\\\n",
    "    <GEOM_FUNCTION>(mapping = aes(<MAPPINGS>))\n",
    "```\n",
    "\n",
    "- If the *mappings* are re-used across geometric objects (e.g. scatterplot and line):\n",
    "\n",
    "```\n",
    "ggplot(data = <DATA>, mapping = aes(<MAPPINGS>)) +\\\n",
    "    <GEOM_FUNCTION>() +\\\n",
    "    <GEOM_FUNCTION>()\n",
    "```"
   ]
  },
  {
   "cell_type": "markdown",
   "id": "5cdfd83c",
   "metadata": {
    "slideshow": {
     "slide_type": "slide"
    }
   },
   "source": [
    "## Creating a ggplot in `plotnine`"
   ]
  },
  {
   "cell_type": "code",
   "execution_count": 16,
   "id": "21c9f729",
   "metadata": {
    "slideshow": {
     "slide_type": "fragment"
    }
   },
   "outputs": [],
   "source": [
    "from plotnine import *"
   ]
  },
  {
   "cell_type": "code",
   "execution_count": 17,
   "id": "0ceac275",
   "metadata": {
    "slideshow": {
     "slide_type": "fragment"
    }
   },
   "outputs": [
    {
     "data": {
      "image/png": "[encoded data removed]",
      "text/plain": [
       "<Figure size 640x480 with 1 Axes>"
      ]
     },
     "metadata": {},
     "output_type": "display_data"
    },
    {
     "data": {
      "text/plain": [
       "<ggplot: (8726572320898)>"
      ]
     },
     "execution_count": 17,
     "metadata": {},
     "output_type": "execute_result"
    }
   ],
   "source": [
    "q1_plot = ggplot(data = kaggle2020) + geom_bar(aes(x = 'Q1')) # Basic 'Age group' (Q1) bar chart\n",
    "q1_plot"
   ]
  },
  {
   "cell_type": "markdown",
   "id": "d862a353",
   "metadata": {
    "slideshow": {
     "slide_type": "slide"
    }
   },
   "source": [
    "## Compare to base `pandas`"
   ]
  },
  {
   "cell_type": "code",
   "execution_count": 18,
   "id": "4d0a3f35",
   "metadata": {},
   "outputs": [
    {
     "data": {
      "text/plain": [
       "Q1\n",
       "18-21    3469\n",
       "22-24    3786\n",
       "25-29    4011\n",
       "dtype: int64"
      ]
     },
     "execution_count": 18,
     "metadata": {},
     "output_type": "execute_result"
    }
   ],
   "source": [
    "# First we need to group dataset by 'Age group' (Q1) and summarize it with `size()`\n",
    "kaggle2020_q1_grouped = kaggle2020.groupby(['Q1']).size() \n",
    "kaggle2020_q1_grouped.head(n = 3)"
   ]
  },
  {
   "cell_type": "code",
   "execution_count": 19,
   "id": "cd6abf4f",
   "metadata": {
    "slideshow": {
     "slide_type": "fragment"
    }
   },
   "outputs": [
    {
     "data": {
      "text/plain": [
       "<AxesSubplot:xlabel='Q1'>"
      ]
     },
     "execution_count": 19,
     "metadata": {},
     "output_type": "execute_result"
    },
    {
     "data": {
      "image/png": "[encoded data removed]",
      "text/plain": [
       "<Figure size 432x288 with 1 Axes>"
      ]
     },
     "metadata": {
      "needs_background": "light"
     },
     "output_type": "display_data"
    }
   ],
   "source": [
    "kaggle2020_q1_grouped.plot(kind = 'bar')"
   ]
  },
  {
   "cell_type": "markdown",
   "id": "4888d8d3",
   "metadata": {
    "slideshow": {
     "slide_type": "slide"
    }
   },
   "source": [
    "## Compare to `matplotlib`"
   ]
  },
  {
   "cell_type": "code",
   "execution_count": 20,
   "id": "c99c6605",
   "metadata": {
    "slideshow": {
     "slide_type": "fragment"
    }
   },
   "outputs": [],
   "source": [
    "import matplotlib.pyplot as plt"
   ]
  },
  {
   "cell_type": "code",
   "execution_count": 21,
   "id": "972ec8ef",
   "metadata": {
    "slideshow": {
     "slide_type": "fragment"
    }
   },
   "outputs": [
    {
     "data": {
      "text/plain": [
       "<BarContainer object of 11 artists>"
      ]
     },
     "execution_count": 21,
     "metadata": {},
     "output_type": "execute_result"
    },
    {
     "data": {
      "image/png": "[encoded data removed]",
      "text/plain": [
       "<Figure size 432x288 with 1 Axes>"
      ]
     },
     "metadata": {
      "needs_background": "light"
     },
     "output_type": "display_data"
    }
   ],
   "source": [
    "# `matplotlib` is more low-level library\n",
    "# plots would need more work to be 'prettified'\n",
    "plt.bar(x = kaggle2020_q1_grouped.index, height = kaggle2020_q1_grouped.values)"
   ]
  },
  {
   "cell_type": "markdown",
   "id": "db19c31f",
   "metadata": {
    "slideshow": {
     "slide_type": "slide"
    }
   },
   "source": [
    "## Prettifying ggplot in `plotnine`"
   ]
  },
  {
   "cell_type": "code",
   "execution_count": 22,
   "id": "2190512c",
   "metadata": {
    "slideshow": {
     "slide_type": "fragment"
    }
   },
   "outputs": [
    {
     "data": {
      "image/png": "[encoded data removed]",
      "text/plain": [
       "<Figure size 640x480 with 1 Axes>"
      ]
     },
     "metadata": {},
     "output_type": "display_data"
    },
    {
     "data": {
      "text/plain": [
       "<ggplot: (8726570041393)>"
      ]
     },
     "execution_count": 22,
     "metadata": {},
     "output_type": "execute_result"
    }
   ],
   "source": [
    "# Here we change default axes' labels and then apply B&W theme\n",
    "q1_plot_pretty = q1_plot +\\\n",
    "    labs(x = 'Age group', y = 'respondents') +\\\n",
    "    theme_bw()\n",
    "q1_plot_pretty"
   ]
  },
  {
   "cell_type": "markdown",
   "id": "40dcece5",
   "metadata": {
    "slideshow": {
     "slide_type": "slide"
    }
   },
   "source": [
    "## Other geometric objects (`geom_`)\n",
    "\n",
    "| Method                       | Description                |\n",
    "|:-----------------------------|:---------------------------|\n",
    "| `geom_bar()`, `geom_col()`   | Bar charts                 |\n",
    "| `geom_boxplot()`             | Box and whisker plot       |\n",
    "| `geom_histogram()`           | Histogram                  |\n",
    "| `geom_point()`               | Scatterplot                |\n",
    "| `geom_line()`, `geom_path()` | Lines                      |\n",
    "| `geom_map()`                 | Geographic areas           |\n",
    "| `geom_smooth()`              | Smoothed conditional means |\n",
    "| `geom_violin()`              | Violin plots               |\n"
   ]
  },
  {
   "cell_type": "markdown",
   "id": "dd46f01f",
   "metadata": {
    "slideshow": {
     "slide_type": "slide"
    }
   },
   "source": [
    "## Writing plots out in `plotnine`\n",
    "\n",
    "- Output format is automatically determined from write-out file extension\n",
    "- Commonly used formats are PDF, PNG and EPS"
   ]
  },
  {
   "cell_type": "code",
   "execution_count": 23,
   "id": "50f3e97a",
   "metadata": {
    "slideshow": {
     "slide_type": "fragment"
    }
   },
   "outputs": [
    {
     "name": "stderr",
     "output_type": "stream",
     "text": [
      "/home/tpaskhalis/Decrypted/Git/RECSM_2021/venv/lib/python3.8/site-packages/plotnine/ggplot.py:719: PlotnineWarning: Saving 6.4 x 4.8 in image.\n",
      "/home/tpaskhalis/Decrypted/Git/RECSM_2021/venv/lib/python3.8/site-packages/plotnine/ggplot.py:722: PlotnineWarning: Filename: ../temp/q1_plot_pretty.pdf\n"
     ]
    }
   ],
   "source": [
    "q1_plot_pretty.save('../temp/q1_plot_pretty.pdf')"
   ]
  },
  {
   "cell_type": "markdown",
   "id": "38ed0abd",
   "metadata": {
    "slideshow": {
     "slide_type": "slide"
    }
   },
   "source": [
    "## Additional visualization materials\n",
    "\n",
    "Books:\n",
    "\n",
    "- Hieran, Kiely. 2019. *Data Visualization: A Practical Introduction*. Princeton, NJ: Princeton University Press\n",
    "- Tufte, Edward. 2001. *The Visual Display of Quantitative Information*. 2nd ed. Cheshire, CT: Graphics Press\n",
    "\n",
    "Online:\n",
    "\n",
    "- [Plotnine: Grammar of Graphics for Python](https://datascienceworkshops.com/blog/plotnine-grammar-of-graphics-for-python/)\n",
    "- [Plotnine Documentation](https://plotnine.readthedocs.io/en/stable/index.html)\n",
    "- [Ggplot2 Documentation](https://ggplot2.tidyverse.org/)"
   ]
  },
  {
   "cell_type": "markdown",
   "id": "b2ffdafa",
   "metadata": {
    "slideshow": {
     "slide_type": "slide"
    }
   },
   "source": [
    "## Next\n",
    "\n",
    "- Linear regression\n",
    "- Communicating results"
   ]
  }
 ],
 "metadata": {
  "celltoolbar": "Slideshow",
  "kernelspec": {
   "display_name": "Python 3",
   "language": "python",
   "name": "python3"
  },
  "language_info": {
   "codemirror_mode": {
    "name": "ipython",
    "version": 3
   },
   "file_extension": ".py",
   "mimetype": "text/x-python",
   "name": "python",
   "nbconvert_exporter": "python",
   "pygments_lexer": "ipython3",
   "version": "3.8.5"
  }
 },
 "nbformat": 4,
 "nbformat_minor": 5
}
