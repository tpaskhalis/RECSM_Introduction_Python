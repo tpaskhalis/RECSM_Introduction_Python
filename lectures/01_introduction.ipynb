{
 "cells": [
  {
   "cell_type": "markdown",
   "id": "c0eebe33",
   "metadata": {
    "slideshow": {
     "slide_type": "slide"
    }
   },
   "source": [
    "# Day 1, Part 1: Introduction\n",
    "\n",
    "## Introduction to Python\n",
    "\n",
    "### [Tom Paskhalis](https://tom.paskhal.is/)\n",
    "\n",
    "##### [RECSM Summer School 2023](https://www.upf.edu/web/survey/summer-school-2023)"
   ]
  },
  {
   "cell_type": "markdown",
   "id": "33ae2156",
   "metadata": {
    "slideshow": {
     "slide_type": "slide"
    }
   },
   "source": [
    "<table>\n",
    "    <tr>\n",
    "        <td><img width=\"500\" src='../imgs/python_snake.jpg'></td>\n",
    "        <td><img width=\"500\" src='../imgs/python_monty.png'></td>\n",
    "    </tr>\n",
    "</table>"
   ]
  },
  {
   "cell_type": "markdown",
   "id": "ed1d823e",
   "metadata": {
    "slideshow": {
     "slide_type": "slide"
    }
   },
   "source": [
    "<div style=\"text-align: center;\">\n",
    "    <img width=\"500\" height=\"300\" src=\"../imgs/xkcd_353.png\">\n",
    "</div>\n",
    "\n",
    "Source: [https://xkcd.com/353/](https://xkcd.com/353/)"
   ]
  },
  {
   "cell_type": "markdown",
   "id": "a5335583",
   "metadata": {
    "slideshow": {
     "slide_type": "slide"
    }
   },
   "source": [
    "<div style=\"text-align: center;\">\n",
    "    <img width=\"700\" height=\"400\" src=\"../imgs/stats_languages.jpg\">\n",
    "</div>"
   ]
  },
  {
   "cell_type": "markdown",
   "id": "c6cb304c",
   "metadata": {
    "slideshow": {
     "slide_type": "slide"
    }
   },
   "source": [
    "## About me\n",
    "\n",
    "- Assistant Professor in Political Science and Data Science, [Trinity College Dublin](https://www.tcd.ie/)\n",
    "    - Before: Postdoctoral Fellow, [New York University](https://www.nyu.edu/)\n",
    "    - PhD in Social Research Methods, [London School of Economics and Political Science](http://www.lse.ac.uk/)\n",
    "- My research:\n",
    "    - Political communication, social media, interest groups\n",
    "    - Text analysis, machine learning, record linkage, data visualization\n",
    "- Contact\n",
    "    - [tom@paskhal.is](mailto:tom@paskhal.is)\n",
    "    - [tom.paskhal.is](https://tom.paskhal.is/)\n",
    "    - [@tpaskhalis](https://twitter.com/tpaskhalis/)"
   ]
  },
  {
   "cell_type": "markdown",
   "id": "ff57a346",
   "metadata": {
    "slideshow": {
     "slide_type": "slide"
    }
   },
   "source": [
    "## About you\n",
    "\n",
    "<table>\n",
    "    <tr>\n",
    "        <td><img width=\"500\" src=\"../imgs/michael_scott.jpg\"></td>\n",
    "        <td style=\"width: 500px; text-align: left; font-size:120%;\">\n",
    "            <ul>\n",
    "                <li>Name?</li>\n",
    "                <li>Affiliation?</li>\n",
    "                <li>Research interests?</li>\n",
    "                <li>Previous Experience with Python?</li>\n",
    "                <li>Why are you interested in this course?</li>\n",
    "            </ul>\n",
    "        </td>\n",
    "    </tr>\n",
    "</table>"
   ]
  },
  {
   "cell_type": "markdown",
   "id": "83fccfc1",
   "metadata": {
    "slideshow": {
     "slide_type": "slide"
    }
   },
   "source": [
    "## R/Stata/SPSS is great, why learn Python?\n",
    "\n",
    "- [Python is free and open source](https://github.com/python/cpython)\n",
    "- [Python is a truly versatile programming language](https://github.com/readme/nasa-ingenuity-helicopter)\n",
    "- [Python offers a great library ecosystem (>300K)](https://pypi.org/)\n",
    "- [Python is widely used in the industry](https://www.tiobe.com/tiobe-index/)\n",
    "- [Python is well-known outside academia/data science](https://www.economist.com/science-and-technology/2018/07/19/python-has-brought-computer-programming-to-a-vast-new-audience)"
   ]
  },
  {
   "cell_type": "markdown",
   "id": "abfe3136",
   "metadata": {
    "slideshow": {
     "slide_type": "slide"
    }
   },
   "source": [
    "## Popularity of programming languages\n",
    "\n",
    "<div style=\"text-align: center;\">\n",
    "    <img width=\"700\" height=\"500\" src='../imgs/tiobe_index.png'>\n",
    "</div>\n",
    "    \n",
    "Source: [https://www.tiobe.com/tiobe-index/](https://www.tiobe.com/tiobe-index/)"
   ]
  },
  {
   "cell_type": "markdown",
   "id": "fd915d56",
   "metadata": {
    "slideshow": {
     "slide_type": "slide"
    }
   },
   "source": [
    "## Popularity of data analysis software\n",
    "\n",
    "<div style=\"text-align: center;\">\n",
    "    <img width=\"600\" height=\"400\" src=\"../imgs/kaggle_ide.png\">\n",
    "</div>\n",
    "\n",
    "Source: [https://www.kaggle.com/kaggle-survey-2021](https://www.kaggle.com/kaggle-survey-2021)"
   ]
  },
  {
   "cell_type": "markdown",
   "id": "c890b62b",
   "metadata": {
    "slideshow": {
     "slide_type": "slide"
    }
   },
   "source": [
    "## Python and Development Enviroments\n",
    "\n",
    "- There is a number of integrated development environments (*IDE*s) available for Python (IDLE, Spyder, PyCharm)\n",
    "- As well code editors with Python-specific extensions (Visual Studio Code, Atom, Sublime Text, Vim)\n",
    "- Try different ones and choose what works best for you!"
   ]
  },
  {
   "cell_type": "markdown",
   "id": "6222a9ec",
   "metadata": {
    "slideshow": {
     "slide_type": "slide"
    }
   },
   "source": [
    "## Python and Jupyter Notebook\n",
    "\n",
    "- [Jupyter Notebook](https://jupyter-notebook.readthedocs.io/en/latest/) is language-agnostic web-based interactive computational environment\n",
    "- Is available with backends (*kernels*) for different programming languages (**Ju**lia, **Py**thon, **R** = **Jupy**te**r**)\n",
    "- Can be used both locally and remotely\n",
    "- Good for ad-hoc data analysis and visualization "
   ]
  },
  {
   "cell_type": "markdown",
   "id": "70fa677c",
   "metadata": {
    "slideshow": {
     "slide_type": "slide"
    }
   },
   "source": [
    "## Jupyter Notebook\n",
    "\n",
    "- Notebooks allow writing, executing and viewing the output of Python code within the same environment\n",
    "- All notebook files have `.ipynb` extension for **i**nteractive **py**thon **n**ote**b**ook\n",
    "- The main unit of notebook is *cell*, a text input field (Python, Markdown, HTML)\n",
    "- Output of a cell can include text, table or figure"
   ]
  },
  {
   "cell_type": "markdown",
   "id": "305be843",
   "metadata": {
    "slideshow": {
     "slide_type": "slide"
    }
   },
   "source": [
    "## Jupyter Notebook online\n",
    "\n",
    "- For this workshop I recommend using one of the online platforms for working with Jupyter Notebooks:\n",
    "  - [Google Colab](https://colab.research.google.com/notebooks/intro.ipynb), a cloud platform for hosting Jupyter Notebooks. You need to have a Google account, but it does not require any local installations.\n",
    "  - [Kaggle Code](https://www.kaggle.com/code), a platform for sharing and exploring data-science-focussed Jupyter Notebooks. Although technically owned by Google, you can register just for Kaggle website."
   ]
  },
  {
   "cell_type": "markdown",
   "id": "c8a286fd",
   "metadata": {
    "slideshow": {
     "slide_type": "slide"
    }
   },
   "source": [
    "## Jupyter Notebook installation\n",
    "\n",
    "- If you would prefer to install Jupyter Notebook on your local machine, there are two main ways to do this: \n",
    "    - [pip](https://jupyter.readthedocs.io/en/latest/install/notebook-classic.html#alternative-for-experienced-python-users-installing-jupyter-with-pip)\n",
    "    - [conda](https://jupyter.readthedocs.io/en/latest/install/notebook-classic.html#installing-jupyter-using-anaconda-and-conda)\n",
    "- Unless you have prior experience with Python, I recommend installing [Anaconda](https://www.anaconda.com/products/individual) distribution, which contains all the packages required for this course."
   ]
  },
  {
   "cell_type": "markdown",
   "id": "6a79ef57",
   "metadata": {
    "slideshow": {
     "slide_type": "slide"
    }
   },
   "source": [
    "## Jupyter Notebook demonstration\n",
    "\n",
    "![Jupyter Notebook 1](../imgs/jupyter_notebook_1.png)"
   ]
  },
  {
   "cell_type": "markdown",
   "id": "881ba5e7",
   "metadata": {
    "slideshow": {
     "slide_type": "slide"
    }
   },
   "source": [
    "## Jupyter Notebook demonstration\n",
    "\n",
    "![Jupyter Notebook 2](../imgs/jupyter_notebook_2.png)"
   ]
  },
  {
   "cell_type": "markdown",
   "id": "94829a20",
   "metadata": {
    "slideshow": {
     "slide_type": "slide"
    }
   },
   "source": [
    "## Course outline\n",
    "\n",
    "| Date    | Time (CEST)   | Topic                                         |\n",
    "|:--------|:--------------|:----------------------------------------------|\n",
    "| 26 June | 09:00-10:45   | Introduction to Python objects and data types |\n",
    "|         | 10:45-11:15   | Break                                         |\n",
    "|         | 11:15-13:00   | Pandas, data input/output                     |\n",
    "| 27 June | 09:00-10:45   | Exploratory data analysis, data visualization |\n",
    "|         | 10:45-11:15   | Break                                         |\n",
    "|         | 11:15-13:00   | Regression analysis, communicating results    |\n"
   ]
  },
  {
   "cell_type": "markdown",
   "id": "a53a487e",
   "metadata": {
    "slideshow": {
     "slide_type": "slide"
    }
   },
   "source": [
    "## Materials\n",
    "\n",
    "- All materials for this workshop can be found: \n",
    "    - In this GitHub repository: [github.com/tpaskhalis/RECSM_Introduction_Python](https://github.com/tpaskhalis/RECSM_Introduction_Python)\n",
    "    - Alternative shortlink: [bit.ly/RECSM_Python](https://bit.ly/RECSM_Python)\n",
    "- For your convenience you might want to choose to clone this repository to your local macihine.\n",
    "- All slides and exercises were created using Python and Jupyter Notebooks."
   ]
  },
  {
   "cell_type": "markdown",
   "id": "f46c4cbb",
   "metadata": {
    "slideshow": {
     "slide_type": "slide"
    }
   },
   "source": [
    "## Additional materials\n",
    "\n",
    "- There are many great online resources and published books on programming in Python.\n",
    "- Some of them also provide a good coverage of using Python for data analysis.\n",
    "- Here are some pointers to start from."
   ]
  },
  {
   "cell_type": "markdown",
   "id": "1b9bf824",
   "metadata": {
    "slideshow": {
     "slide_type": "slide"
    }
   },
   "source": [
    "## Books\n",
    "\n",
    "- Guttag, John. 2021 *Introduction to Computation and Programming Using Python: With Application to Computational Modeling and Understanding Data*. 3rd ed. Cambridge, MA: The MIT Press\n",
    "\n",
    "- McKinney, Wes. 2022. *Python for Data Analysis: Data Wrangling with pandas, NumPy, and\n",
    "Jupyter*. 3rd ed. Sebastopol, CA: O'Reilly Media\n",
    "\n",
    "- Sweigart, Al. 2019. *Automate the Boring Stuff with Python*. 2nd ed. San Francisco, CA: No Starch Press"
   ]
  },
  {
   "cell_type": "markdown",
   "id": "07508e09",
   "metadata": {
    "slideshow": {
     "slide_type": "slide"
    }
   },
   "source": [
    "## Online\n",
    "\n",
    "- [The Hitchhiker’s Guide to Python](https://docs.python-guide.org/)\n",
    "\n",
    "- [Python For You and Me](https://pymbook.readthedocs.io/en/latest/)\n",
    "\n",
    "- [Python Wikibook](https://en.wikibooks.org/wiki/Python_Programming)\n",
    "\n",
    "- [Python 3 Documentation](https://docs.python.org/3/) (intermediate and advanced)"
   ]
  },
  {
   "cell_type": "markdown",
   "id": "f3e355d4",
   "metadata": {
    "slideshow": {
     "slide_type": "slide"
    }
   },
   "source": [
    "## Next\n",
    "\n",
    "- Basic Python types\n",
    "- Operations\n",
    "- Object manipulations"
   ]
  }
 ],
 "metadata": {
  "celltoolbar": "Slideshow",
  "kernelspec": {
   "display_name": "Python 3 (ipykernel)",
   "language": "python",
   "name": "python3"
  },
  "language_info": {
   "codemirror_mode": {
    "name": "ipython",
    "version": 3
   },
   "file_extension": ".py",
   "mimetype": "text/x-python",
   "name": "python",
   "nbconvert_exporter": "python",
   "pygments_lexer": "ipython3",
   "version": "3.10.6"
  }
 },
 "nbformat": 4,
 "nbformat_minor": 5
}
