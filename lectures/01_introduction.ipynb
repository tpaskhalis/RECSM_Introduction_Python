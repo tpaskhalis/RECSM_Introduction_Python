{
 "cells": [
  {
   "cell_type": "markdown",
   "id": "c0eebe33",
   "metadata": {
    "slideshow": {
     "slide_type": "slide"
    }
   },
   "source": [
    "# [__Introduction to Python__](https://eventum.upf.edu/64915/section/30365/recsm-summer-methods-school-2021.html)\n",
    "\n",
    "### [Tom Paskhalis](https://tom.paskhal.is/)\n",
    "\n",
    "### [RECSM Summer School 2021](https://eventum.upf.edu/64915/detail/recsm-summer-methods-school-2021.html), Introduction, Part 1, Day 1"
   ]
  },
  {
   "cell_type": "markdown",
   "id": "33ae2156",
   "metadata": {
    "slideshow": {
     "slide_type": "slide"
    }
   },
   "source": [
    "<table>\n",
    "    <tr>\n",
    "        <td><img width=\"500\" src='imgs/python_snake.jpg'></td>\n",
    "        <td><img width=\"500\" src='imgs/python_monty.png'></td>\n",
    "    </tr>\n",
    "</table>"
   ]
  },
  {
   "cell_type": "markdown",
   "id": "ed1d823e",
   "metadata": {
    "slideshow": {
     "slide_type": "slide"
    }
   },
   "source": [
    "<div style=\"text-align: center;\">\n",
    "    <img width=\"500\" height=\"300\" src=\"imgs/xkcd_353.png\">\n",
    "</div>\n",
    "\n",
    "Source: [https://xkcd.com/353/](https://xkcd.com/353/)"
   ]
  },
  {
   "cell_type": "markdown",
   "id": "a5335583",
   "metadata": {
    "slideshow": {
     "slide_type": "slide"
    }
   },
   "source": [
    "<div style=\"text-align: center;\">\n",
    "    <img width=\"700\" height=\"400\" src=\"imgs/stats_languages.jpg\">\n",
    "</div>"
   ]
  },
  {
   "cell_type": "markdown",
   "id": "c6cb304c",
   "metadata": {
    "slideshow": {
     "slide_type": "slide"
    }
   },
   "source": [
    "## About me\n",
    "\n",
    "- Postdoctoral Fellow, [New York University](https://www.nyu.edu/)\n",
    "    - Before: PhD in Social Research Methods, [London School of Economics and Political Science](http://www.lse.ac.uk/)\n",
    "    - Soon: Assistant Professor in Political Science and Data Science, [Trinity College Dublin](https://www.tcd.ie/)\n",
    "- My research:\n",
    "    - Political communication, social media, interest groups\n",
    "    - Text analysis, machine learning, record linkage, data visualization\n",
    "- Contact\n",
    "    - [tom.paskhalis@nyu.edu](tom.paskhalis@nyu.edu)\n",
    "    - [tom.paskhal.is](https://tom.paskhal.is/)\n",
    "    - [@tpaskhalis](https://twitter.com/tpaskhalis/)"
   ]
  },
  {
   "cell_type": "markdown",
   "id": "ff57a346",
   "metadata": {
    "slideshow": {
     "slide_type": "slide"
    }
   },
   "source": [
    "## About you\n",
    "\n",
    "<table>\n",
    "    <tr>\n",
    "        <td><img width=\"500\" src=\"imgs/michael_scott.jpg\"></td>\n",
    "        <td style=\"width: 500px; text-align: left; font-size:120%;\">\n",
    "            <ul>\n",
    "                <li>Name?</li>\n",
    "                <li>Affiliation?</li>\n",
    "                <li>Research interests?</li>\n",
    "                <li>Previous Experience with Python?</li>\n",
    "                <li>Why are you interested in this course?</li>\n",
    "            </ul>\n",
    "        </td>\n",
    "    </tr>\n",
    "</table>"
   ]
  },
  {
   "cell_type": "markdown",
   "id": "83fccfc1",
   "metadata": {
    "slideshow": {
     "slide_type": "slide"
    }
   },
   "source": [
    "## R/Stata/SPSS is great, why learn Python?\n",
    "\n",
    "- [Python is free and open source](https://github.com/python/cpython)\n",
    "- [Python is a truly versatile programming language](https://github.com/readme/nasa-ingenuity-helicopter)\n",
    "- [Python offers a great library ecosystem (>300K)](https://pypi.org/)\n",
    "- [Python is widely used in the industry](https://www.tiobe.com/tiobe-index/)\n",
    "- [Python is well-known outside academia/data science](https://www.economist.com/science-and-technology/2018/07/19/python-has-brought-computer-programming-to-a-vast-new-audience)"
   ]
  },
  {
   "cell_type": "markdown",
   "id": "abfe3136",
   "metadata": {
    "slideshow": {
     "slide_type": "slide"
    }
   },
   "source": [
    "## Popularity of programming languages\n",
    "\n",
    "<div style=\"text-align: center;\">\n",
    "    <img width=\"600\" height=\"400\" src='imgs/tiobe_index.png'>\n",
    "</div>\n",
    "    \n",
    "Source: [https://www.tiobe.com/tiobe-index/](https://www.tiobe.com/tiobe-index/)"
   ]
  },
  {
   "cell_type": "markdown",
   "id": "fd915d56",
   "metadata": {
    "slideshow": {
     "slide_type": "slide"
    }
   },
   "source": [
    "## Popularity of data analysis software\n",
    "\n",
    "<div style=\"text-align: center;\">\n",
    "    <img width=\"600\" height=\"400\" src=\"imgs/kaggle_ide.png\">\n",
    "</div>\n",
    "\n",
    "Source: [https://www.kaggle.com/kaggle-survey-2020](https://www.kaggle.com/kaggle-survey-2020)"
   ]
  },
  {
   "cell_type": "markdown",
   "id": "c890b62b",
   "metadata": {
    "slideshow": {
     "slide_type": "slide"
    }
   },
   "source": [
    "## Python and Development Enviroments\n",
    "\n",
    "- There is a number of integrated development environments (*IDE*s) available for Python (IDLE, Spyder, PyCharm)\n",
    "- As well code editors with Python-specific extensions (Vim, Atom, Sublime Text, Visual Studio Code)\n",
    "- Try different ones and choose what works best for you!"
   ]
  },
  {
   "cell_type": "markdown",
   "id": "6222a9ec",
   "metadata": {
    "slideshow": {
     "slide_type": "slide"
    }
   },
   "source": [
    "## Python and Jupyter Notebook\n",
    "\n",
    "- [Jupyter Notebook](https://jupyter-notebook.readthedocs.io/en/latest/) is language-agnostic web-based interactive computational environment\n",
    "- Is available with backends (*kernels*) for different programming languages (**Ju**lia, **Py**thon, **R** = **Jupy**te**r**)\n",
    "- Can be used both locally and remotely\n",
    "- Good for ad-hoc data analysis and visualization "
   ]
  },
  {
   "cell_type": "markdown",
   "id": "70fa677c",
   "metadata": {
    "slideshow": {
     "slide_type": "slide"
    }
   },
   "source": [
    "## Jupyter Notebook\n",
    "\n",
    "- Notebooks allow writing, executing and viewing the output of Python code within the same environment\n",
    "- All notebook files have `.ipynb` extension for **i**nteractive **py**thon **n**ote**b**ook\n",
    "- The main unit of notebook is *cell*, a text input field (Python, Markdown, HTML)\n",
    "- Output of a cell can include text, table or figure"
   ]
  },
  {
   "cell_type": "markdown",
   "id": "c8a286fd",
   "metadata": {
    "slideshow": {
     "slide_type": "slide"
    }
   },
   "source": [
    "## Jupyter Notebook Installation\n",
    "\n",
    "- There are two main ways to install Jupyter Notebook: [pip](https://jupyter.readthedocs.io/en/latest/install/notebook-classic.html#alternative-for-experienced-python-users-installing-jupyter-with-pip) and [conda](https://jupyter.readthedocs.io/en/latest/install/notebook-classic.html#installing-jupyter-using-anaconda-and-conda). Unless you have prior experience with Python, I recommend installing [Anaconda](https://www.anaconda.com/products/individual) distribution, which contains all the packages required for this course.\n",
    "- Alternatively, you may choose to use [Google Colab](https://colab.research.google.com/notebooks/intro.ipynb), a cloud platform for hosting Jupyter Notebooks. Its interface is slightly different and you need to have a Google account, but it does not require any local installations."
   ]
  },
  {
   "cell_type": "markdown",
   "id": "6a79ef57",
   "metadata": {
    "slideshow": {
     "slide_type": "slide"
    }
   },
   "source": [
    "## Jupyter Notebook Demonstration\n",
    "\n",
    "![Jupyter Notebook 1](imgs/jupyter_notebook_1.png)"
   ]
  },
  {
   "cell_type": "markdown",
   "id": "881ba5e7",
   "metadata": {
    "slideshow": {
     "slide_type": "slide"
    }
   },
   "source": [
    "## Jupyter Notebook Demonstration\n",
    "\n",
    "![Jupyter Notebook 2](imgs/jupyter_notebook_2.png)"
   ]
  },
  {
   "cell_type": "markdown",
   "id": "94829a20",
   "metadata": {
    "slideshow": {
     "slide_type": "slide"
    }
   },
   "source": [
    "## Course Outline\n",
    "\n",
    "| Date    | Time (CEST)   | Topic                                         |\n",
    "|:--------|:--------------|:----------------------------------------------|\n",
    "| 28 June | 16:00-17:50   | Introduction to Python objects and data types |\n",
    "|         | 17:50-18:10   | Break                                         |\n",
    "|         | 18:10-20:00   | Pandas, data input/output                     |\n",
    "| 29 June | 16:00-17:50   | Exploratory data analysis, data visualization |\n",
    "|         | 17:50-18:10   | Break                                         |\n",
    "|         | 18:10-20:00   | Regression analysis, communicating results    |\n"
   ]
  },
  {
   "cell_type": "markdown",
   "id": "a53a487e",
   "metadata": {
    "slideshow": {
     "slide_type": "slide"
    }
   },
   "source": [
    "## Materials\n",
    "\n",
    "- All materials for this workshop can be found in this GitHub repository: [github.com/tpaskhalis/RECSM_Introduction_Python](https://github.com/tpaskhalis/RECSM_Introduction_Python)\n",
    "- For your convenience you might want to choose to clone this repoistory to your local macihine.\n",
    "- It is worth noting that all slides and exercises were created using Python and Jupyter Notebooks."
   ]
  },
  {
   "cell_type": "markdown",
   "id": "f46c4cbb",
   "metadata": {
    "slideshow": {
     "slide_type": "slide"
    }
   },
   "source": [
    "## Additional Materials\n",
    "\n",
    "There are many great online resources and published books on programming in Python. Some of them also provide a good coverage of using Python for data analysis. Here are some pointers to start from:\n",
    "\n",
    "Books:\n",
    "\n",
    "- Guttag, John. 2021 *Introduction to Computation and Programming Using Python: With Application to Computational Modeling and Understanding Data*. 3rd ed. Cambridge, MA: The MIT Press\n",
    "\n",
    "- McKinney, Wes. 2017. *Python for Data Analysis: Data Wrangling with Pandas, NumPy, and IPython*. 2nd ed. Sebastopol, CA: O'Reilly Media\n",
    "\n",
    "Online:\n",
    "\n",
    "- [Python For You and Me](https://pymbook.readthedocs.io/en/latest/)\n",
    "\n",
    "- [Python Wikibook](https://en.wikibooks.org/wiki/Python_Programming)\n",
    "\n",
    "- [Python 3 Documentation](https://docs.python.org/3/) (intermediate and advanced)"
   ]
  },
  {
   "cell_type": "markdown",
   "id": "f3e355d4",
   "metadata": {
    "slideshow": {
     "slide_type": "slide"
    }
   },
   "source": [
    "## Next\n",
    "\n",
    "- Basic Python types\n",
    "- Operations\n",
    "- Object manipulations"
   ]
  }
 ],
 "metadata": {
  "celltoolbar": "Slideshow",
  "kernelspec": {
   "display_name": "Python 3",
   "language": "python",
   "name": "python3"
  },
  "language_info": {
   "codemirror_mode": {
    "name": "ipython",
    "version": 3
   },
   "file_extension": ".py",
   "mimetype": "text/x-python",
   "name": "python",
   "nbconvert_exporter": "python",
   "pygments_lexer": "ipython3",
   "version": "3.8.5"
  }
 },
 "nbformat": 4,
 "nbformat_minor": 5
}
