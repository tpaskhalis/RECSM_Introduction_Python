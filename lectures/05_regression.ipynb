{
 "cells": [
  {
   "cell_type": "markdown",
   "id": "37e8c8b7",
   "metadata": {
    "slideshow": {
     "slide_type": "slide"
    }
   },
   "source": [
    "# Day 2, Part 5: Linear Regression & Communicating Results\n",
    "\n",
    "## Introduction to Python\n",
    "\n",
    "### [Tom Paskhalis](https://tom.paskhal.is/)\n",
    "\n",
    "##### [RECSM Summer School 2023](https://www.upf.edu/web/survey/summer-school-2023)"
   ]
  },
  {
   "cell_type": "markdown",
   "id": "85055710",
   "metadata": {
    "slideshow": {
     "slide_type": "slide"
    }
   },
   "source": [
    "## Anscombe's quartet\n",
    "\n",
    "- 4 artificial datasets constructed by [Anscombe (1973)](https://doi.org/10.1080/00031305.1973.10478966)\n",
    "- All of them have nearly identical summary statistics\n",
    "- But show dramatically different relationships between variables\n",
    "- Designed to illustrate the importance of data visualization"
   ]
  },
  {
   "cell_type": "markdown",
   "id": "e06fb48f",
   "metadata": {
    "slideshow": {
     "slide_type": "slide"
    }
   },
   "source": [
    "## Data for Anscombe's quartet"
   ]
  },
  {
   "cell_type": "code",
   "execution_count": 1,
   "id": "958e35ae",
   "metadata": {
    "slideshow": {
     "slide_type": "fragment"
    }
   },
   "outputs": [],
   "source": [
    "import pandas as pd\n",
    "anscombe_quartet = pd.read_csv('../data/anscombes_quartet.csv')"
   ]
  },
  {
   "cell_type": "code",
   "execution_count": 2,
   "id": "696d4b67",
   "metadata": {
    "slideshow": {
     "slide_type": "fragment"
    }
   },
   "outputs": [
    {
     "data": {
      "text/html": [
       "<div>\n",
       "<style scoped>\n",
       "    .dataframe tbody tr th:only-of-type {\n",
       "        vertical-align: middle;\n",
       "    }\n",
       "\n",
       "    .dataframe tbody tr th {\n",
       "        vertical-align: top;\n",
       "    }\n",
       "\n",
       "    .dataframe thead th {\n",
       "        text-align: right;\n",
       "    }\n",
       "</style>\n",
       "<table border=\"1\" class=\"dataframe\">\n",
       "  <thead>\n",
       "    <tr style=\"text-align: right;\">\n",
       "      <th></th>\n",
       "      <th>dataset</th>\n",
       "      <th>x</th>\n",
       "      <th>y</th>\n",
       "    </tr>\n",
       "  </thead>\n",
       "  <tbody>\n",
       "    <tr>\n",
       "      <th>0</th>\n",
       "      <td>I</td>\n",
       "      <td>10</td>\n",
       "      <td>8.04</td>\n",
       "    </tr>\n",
       "    <tr>\n",
       "      <th>1</th>\n",
       "      <td>I</td>\n",
       "      <td>8</td>\n",
       "      <td>6.95</td>\n",
       "    </tr>\n",
       "    <tr>\n",
       "      <th>2</th>\n",
       "      <td>I</td>\n",
       "      <td>13</td>\n",
       "      <td>7.58</td>\n",
       "    </tr>\n",
       "    <tr>\n",
       "      <th>3</th>\n",
       "      <td>I</td>\n",
       "      <td>9</td>\n",
       "      <td>8.81</td>\n",
       "    </tr>\n",
       "    <tr>\n",
       "      <th>4</th>\n",
       "      <td>I</td>\n",
       "      <td>11</td>\n",
       "      <td>8.33</td>\n",
       "    </tr>\n",
       "  </tbody>\n",
       "</table>\n",
       "</div>"
      ],
      "text/plain": [
       "  dataset   x     y\n",
       "0       I  10  8.04\n",
       "1       I   8  6.95\n",
       "2       I  13  7.58\n",
       "3       I   9  8.81\n",
       "4       I  11  8.33"
      ]
     },
     "execution_count": 2,
     "metadata": {},
     "output_type": "execute_result"
    }
   ],
   "source": [
    "anscombe_quartet.head()"
   ]
  },
  {
   "cell_type": "markdown",
   "id": "b1206a43",
   "metadata": {
    "slideshow": {
     "slide_type": "slide"
    }
   },
   "source": [
    "## Summary statistics for Anscombe's quartet"
   ]
  },
  {
   "cell_type": "code",
   "execution_count": 3,
   "id": "0dc62368",
   "metadata": {
    "slideshow": {
     "slide_type": "fragment"
    }
   },
   "outputs": [
    {
     "data": {
      "text/html": [
       "<div>\n",
       "<style scoped>\n",
       "    .dataframe tbody tr th:only-of-type {\n",
       "        vertical-align: middle;\n",
       "    }\n",
       "\n",
       "    .dataframe tbody tr th {\n",
       "        vertical-align: top;\n",
       "    }\n",
       "\n",
       "    .dataframe thead tr th {\n",
       "        text-align: left;\n",
       "    }\n",
       "\n",
       "    .dataframe thead tr:last-of-type th {\n",
       "        text-align: right;\n",
       "    }\n",
       "</style>\n",
       "<table border=\"1\" class=\"dataframe\">\n",
       "  <thead>\n",
       "    <tr>\n",
       "      <th></th>\n",
       "      <th colspan=\"8\" halign=\"left\">x</th>\n",
       "      <th colspan=\"8\" halign=\"left\">y</th>\n",
       "    </tr>\n",
       "    <tr>\n",
       "      <th></th>\n",
       "      <th>count</th>\n",
       "      <th>mean</th>\n",
       "      <th>std</th>\n",
       "      <th>min</th>\n",
       "      <th>25%</th>\n",
       "      <th>50%</th>\n",
       "      <th>75%</th>\n",
       "      <th>max</th>\n",
       "      <th>count</th>\n",
       "      <th>mean</th>\n",
       "      <th>std</th>\n",
       "      <th>min</th>\n",
       "      <th>25%</th>\n",
       "      <th>50%</th>\n",
       "      <th>75%</th>\n",
       "      <th>max</th>\n",
       "    </tr>\n",
       "    <tr>\n",
       "      <th>dataset</th>\n",
       "      <th></th>\n",
       "      <th></th>\n",
       "      <th></th>\n",
       "      <th></th>\n",
       "      <th></th>\n",
       "      <th></th>\n",
       "      <th></th>\n",
       "      <th></th>\n",
       "      <th></th>\n",
       "      <th></th>\n",
       "      <th></th>\n",
       "      <th></th>\n",
       "      <th></th>\n",
       "      <th></th>\n",
       "      <th></th>\n",
       "      <th></th>\n",
       "    </tr>\n",
       "  </thead>\n",
       "  <tbody>\n",
       "    <tr>\n",
       "      <th>I</th>\n",
       "      <td>11.0</td>\n",
       "      <td>9.0</td>\n",
       "      <td>3.316625</td>\n",
       "      <td>4.0</td>\n",
       "      <td>6.5</td>\n",
       "      <td>9.0</td>\n",
       "      <td>11.5</td>\n",
       "      <td>14.0</td>\n",
       "      <td>11.0</td>\n",
       "      <td>7.500909</td>\n",
       "      <td>2.031568</td>\n",
       "      <td>4.26</td>\n",
       "      <td>6.315</td>\n",
       "      <td>7.58</td>\n",
       "      <td>8.57</td>\n",
       "      <td>10.84</td>\n",
       "    </tr>\n",
       "    <tr>\n",
       "      <th>II</th>\n",
       "      <td>11.0</td>\n",
       "      <td>9.0</td>\n",
       "      <td>3.316625</td>\n",
       "      <td>4.0</td>\n",
       "      <td>6.5</td>\n",
       "      <td>9.0</td>\n",
       "      <td>11.5</td>\n",
       "      <td>14.0</td>\n",
       "      <td>11.0</td>\n",
       "      <td>7.500909</td>\n",
       "      <td>2.031657</td>\n",
       "      <td>3.10</td>\n",
       "      <td>6.695</td>\n",
       "      <td>8.14</td>\n",
       "      <td>8.95</td>\n",
       "      <td>9.26</td>\n",
       "    </tr>\n",
       "    <tr>\n",
       "      <th>III</th>\n",
       "      <td>11.0</td>\n",
       "      <td>9.0</td>\n",
       "      <td>3.316625</td>\n",
       "      <td>4.0</td>\n",
       "      <td>6.5</td>\n",
       "      <td>9.0</td>\n",
       "      <td>11.5</td>\n",
       "      <td>14.0</td>\n",
       "      <td>11.0</td>\n",
       "      <td>7.500000</td>\n",
       "      <td>2.030424</td>\n",
       "      <td>5.39</td>\n",
       "      <td>6.250</td>\n",
       "      <td>7.11</td>\n",
       "      <td>7.98</td>\n",
       "      <td>12.74</td>\n",
       "    </tr>\n",
       "    <tr>\n",
       "      <th>IV</th>\n",
       "      <td>11.0</td>\n",
       "      <td>9.0</td>\n",
       "      <td>3.316625</td>\n",
       "      <td>8.0</td>\n",
       "      <td>8.0</td>\n",
       "      <td>8.0</td>\n",
       "      <td>8.0</td>\n",
       "      <td>19.0</td>\n",
       "      <td>11.0</td>\n",
       "      <td>7.500909</td>\n",
       "      <td>2.030579</td>\n",
       "      <td>5.25</td>\n",
       "      <td>6.170</td>\n",
       "      <td>7.04</td>\n",
       "      <td>8.19</td>\n",
       "      <td>12.50</td>\n",
       "    </tr>\n",
       "  </tbody>\n",
       "</table>\n",
       "</div>"
      ],
      "text/plain": [
       "            x                                               y            \\\n",
       "        count mean       std  min  25%  50%   75%   max count      mean   \n",
       "dataset                                                                   \n",
       "I        11.0  9.0  3.316625  4.0  6.5  9.0  11.5  14.0  11.0  7.500909   \n",
       "II       11.0  9.0  3.316625  4.0  6.5  9.0  11.5  14.0  11.0  7.500909   \n",
       "III      11.0  9.0  3.316625  4.0  6.5  9.0  11.5  14.0  11.0  7.500000   \n",
       "IV       11.0  9.0  3.316625  8.0  8.0  8.0   8.0  19.0  11.0  7.500909   \n",
       "\n",
       "                                                   \n",
       "              std   min    25%   50%   75%    max  \n",
       "dataset                                            \n",
       "I        2.031568  4.26  6.315  7.58  8.57  10.84  \n",
       "II       2.031657  3.10  6.695  8.14  8.95   9.26  \n",
       "III      2.030424  5.39  6.250  7.11  7.98  12.74  \n",
       "IV       2.030579  5.25  6.170  7.04  8.19  12.50  "
      ]
     },
     "execution_count": 3,
     "metadata": {},
     "output_type": "execute_result"
    }
   ],
   "source": [
    "# Here we use `groupby` method to create summary by a variable ('dataset')\n",
    "anscombe_quartet.groupby(['dataset']).describe()"
   ]
  },
  {
   "cell_type": "markdown",
   "id": "196371ae",
   "metadata": {
    "slideshow": {
     "slide_type": "slide"
    }
   },
   "source": [
    "## Plotting Anscombe's quartet"
   ]
  },
  {
   "cell_type": "code",
   "execution_count": 4,
   "id": "518cefb8",
   "metadata": {
    "slideshow": {
     "slide_type": "fragment"
    }
   },
   "outputs": [
    {
     "name": "stderr",
     "output_type": "stream",
     "text": [
      "/home/tpaskhalis/Decrypted/Git/RECSM/venv/lib/python3.8/site-packages/plotnine/utils.py:371: FutureWarning: The frame.append method is deprecated and will be removed from pandas in a future version. Use pandas.concat instead.\n",
      "/home/tpaskhalis/Decrypted/Git/RECSM/venv/lib/python3.8/site-packages/plotnine/utils.py:371: FutureWarning: The frame.append method is deprecated and will be removed from pandas in a future version. Use pandas.concat instead.\n"
     ]
    },
    {
     "data": {
      "image/png": "[encoded data removed]",
      "text/plain": [
       "<Figure size 432x288 with 4 Axes>"
      ]
     },
     "metadata": {},
     "output_type": "display_data"
    },
    {
     "data": {
      "text/plain": [
       "<ggplot: (8774988838066)>"
      ]
     },
     "execution_count": 4,
     "metadata": {},
     "output_type": "execute_result"
    }
   ],
   "source": [
    "from plotnine import *\n",
    "\n",
    "ggplot(anscombe_quartet, aes(x = 'x', y = 'y')) +\\\n",
    "    geom_point(colour = 'red') +\\\n",
    "    geom_smooth(method = 'lm', se = False, fullrange = True) +\\\n",
    "    facet_wrap('dataset') +\\\n",
    "    theme_bw()                                     "
   ]
  },
  {
   "cell_type": "markdown",
   "id": "f415553d",
   "metadata": {
    "slideshow": {
     "slide_type": "slide"
    }
   },
   "source": [
    "## Linear regression\n",
    "\n",
    "- Linear regression is the classical tool of statistical analysis\n",
    "- It allows to estimate the degree of association between variables\n",
    "- Typically, it is the association between one or more independent variables (IV) and one dependent variable (DV)\n",
    "- The main quantities of interest usually are direction, magnitude of association and its statistical significance"
   ]
  },
  {
   "cell_type": "markdown",
   "id": "03a16f11",
   "metadata": {
    "slideshow": {
     "slide_type": "slide"
    }
   },
   "source": [
    "## Linear regression in Python\n",
    "\n",
    "- As for tabular data and visualization we need external libraries for running regression\n",
    "- `statsmodels` library provides tools for estimating many statistical models\n",
    "- Another useful library is `scikit-learn`\n",
    "- It is more focussed on machine-learning applications"
   ]
  },
  {
   "cell_type": "code",
   "execution_count": 5,
   "id": "9af91660",
   "metadata": {
    "slideshow": {
     "slide_type": "fragment"
    }
   },
   "outputs": [],
   "source": [
    "import statsmodels.api as sm\n",
    "import statsmodels.formula.api as smf # Formula API provides R-style formula specification"
   ]
  },
  {
   "cell_type": "markdown",
   "id": "04b77a5a",
   "metadata": {
    "slideshow": {
     "slide_type": "slide"
    }
   },
   "source": [
    "## Data transformation"
   ]
  },
  {
   "cell_type": "code",
   "execution_count": 6,
   "id": "268ee01d",
   "metadata": {
    "slideshow": {
     "slide_type": "fragment"
    }
   },
   "outputs": [
    {
     "name": "stderr",
     "output_type": "stream",
     "text": [
      "/tmp/ipykernel_24423/2749400638.py:1: DtypeWarning: Columns (195,201) have mixed types. Specify dtype option on import or set low_memory=False.\n"
     ]
    }
   ],
   "source": [
    "kaggle2021 = pd.read_csv('../data/kaggle_survey_2021_responses.csv', skiprows = [1])"
   ]
  },
  {
   "cell_type": "code",
   "execution_count": 7,
   "id": "9568b8f3",
   "metadata": {
    "slideshow": {
     "slide_type": "fragment"
    }
   },
   "outputs": [],
   "source": [
    "# Let's give more intuitive names to out variables\n",
    "kaggle2021 = kaggle2021.rename(columns = {\n",
    "                'Q1': 'age',\n",
    "                'Q2': 'gender',\n",
    "                'Q3': 'country',\n",
    "                'Q4': 'education',\n",
    "                'Q25': 'compensation'})"
   ]
  },
  {
   "cell_type": "code",
   "execution_count": 8,
   "id": "ffd82b9c",
   "metadata": {
    "slideshow": {
     "slide_type": "fragment"
    }
   },
   "outputs": [
    {
     "data": {
      "text/plain": [
       "0    25,000-29,999\n",
       "1    60,000-69,999\n",
       "Name: compensation, dtype: object"
      ]
     },
     "execution_count": 8,
     "metadata": {},
     "output_type": "execute_result"
    }
   ],
   "source": [
    "kaggle2021['compensation'].head(n = 2)"
   ]
  },
  {
   "cell_type": "code",
   "execution_count": 9,
   "id": "72b45386",
   "metadata": {
    "slideshow": {
     "slide_type": "fragment"
    }
   },
   "outputs": [],
   "source": [
    "from statistics import mean\n",
    "# Here we are replacing the compensation range by its midpoint (i.e. 112499.5 for $100,000-$124,999)\n",
    "# This variable requires substantial cleaning before transformation\n",
    "# Such as extraneous symbols ('$', ',', '>') have to be removed\n",
    "kaggle2021['compensation'] = kaggle2021['compensation'].map(\n",
    "    lambda x: mean([float(x.replace(',','').replace('$','').replace('>','')) for x in str(x).split('-')])\n",
    ")"
   ]
  },
  {
   "cell_type": "markdown",
   "id": "86f23592",
   "metadata": {
    "slideshow": {
     "slide_type": "slide"
    }
   },
   "source": [
    "## Pandas and linear regression"
   ]
  },
  {
   "cell_type": "code",
   "execution_count": 10,
   "id": "5f437b76",
   "metadata": {
    "slideshow": {
     "slide_type": "fragment"
    }
   },
   "outputs": [
    {
     "data": {
      "text/plain": [
       "0        27499.5\n",
       "1        64999.5\n",
       "2          499.5\n",
       "3        34999.5\n",
       "4        34999.5\n",
       "          ...   \n",
       "25968    17499.5\n",
       "25969        NaN\n",
       "25970      499.5\n",
       "25971        NaN\n",
       "25972      499.5\n",
       "Name: compensation, Length: 25973, dtype: float64"
      ]
     },
     "execution_count": 10,
     "metadata": {},
     "output_type": "execute_result"
    }
   ],
   "source": [
    "kaggle2021['compensation'] # Level of compensation (in USD) - our DV"
   ]
  },
  {
   "cell_type": "code",
   "execution_count": 11,
   "id": "e0f3e456",
   "metadata": {
    "slideshow": {
     "slide_type": "fragment"
    }
   },
   "outputs": [
    {
     "data": {
      "text/plain": [
       "Man                        20598\n",
       "Woman                       4890\n",
       "Prefer not to say            355\n",
       "Nonbinary                     88\n",
       "Prefer to self-describe       42\n",
       "Name: gender, dtype: int64"
      ]
     },
     "execution_count": 11,
     "metadata": {},
     "output_type": "execute_result"
    }
   ],
   "source": [
    "kaggle2021['gender'].value_counts() # Frequencies of gender categories - our IV"
   ]
  },
  {
   "cell_type": "code",
   "execution_count": 12,
   "id": "28e78bb4",
   "metadata": {
    "slideshow": {
     "slide_type": "fragment"
    }
   },
   "outputs": [],
   "source": [
    "# Formula specification allows to write 'DV ~ IV_1 + IV_2 + ... + IV_N' as model specification\n",
    "fit1 = smf.ols('compensation ~ gender', data = kaggle2021).fit()"
   ]
  },
  {
   "cell_type": "markdown",
   "id": "ab99a2d1",
   "metadata": {
    "slideshow": {
     "slide_type": "slide"
    }
   },
   "source": [
    "## Model summary"
   ]
  },
  {
   "cell_type": "code",
   "execution_count": 13,
   "id": "2a7e47b9",
   "metadata": {
    "slideshow": {
     "slide_type": "fragment"
    }
   },
   "outputs": [
    {
     "data": {
      "text/html": [
       "<table class=\"simpletable\">\n",
       "<caption>OLS Regression Results</caption>\n",
       "<tr>\n",
       "  <th>Dep. Variable:</th>      <td>compensation</td>   <th>  R-squared:         </th>  <td>   0.007</td>  \n",
       "</tr>\n",
       "<tr>\n",
       "  <th>Model:</th>                   <td>OLS</td>       <th>  Adj. R-squared:    </th>  <td>   0.007</td>  \n",
       "</tr>\n",
       "<tr>\n",
       "  <th>Method:</th>             <td>Least Squares</td>  <th>  F-statistic:       </th>  <td>   26.46</td>  \n",
       "</tr>\n",
       "<tr>\n",
       "  <th>Date:</th>             <td>Mon, 27 Jun 2022</td> <th>  Prob (F-statistic):</th>  <td>6.64e-22</td>  \n",
       "</tr>\n",
       "<tr>\n",
       "  <th>Time:</th>                 <td>22:08:46</td>     <th>  Log-Likelihood:    </th> <td>-1.9707e+05</td>\n",
       "</tr>\n",
       "<tr>\n",
       "  <th>No. Observations:</th>      <td> 15391</td>      <th>  AIC:               </th>  <td>3.941e+05</td> \n",
       "</tr>\n",
       "<tr>\n",
       "  <th>Df Residuals:</th>          <td> 15386</td>      <th>  BIC:               </th>  <td>3.942e+05</td> \n",
       "</tr>\n",
       "<tr>\n",
       "  <th>Df Model:</th>              <td>     4</td>      <th>                     </th>      <td> </td>     \n",
       "</tr>\n",
       "<tr>\n",
       "  <th>Covariance Type:</th>      <td>nonrobust</td>    <th>                     </th>      <td> </td>     \n",
       "</tr>\n",
       "</table>\n",
       "<table class=\"simpletable\">\n",
       "<tr>\n",
       "                  <td></td>                     <th>coef</th>     <th>std err</th>      <th>t</th>      <th>P>|t|</th>  <th>[0.025</th>    <th>0.975]</th>  \n",
       "</tr>\n",
       "<tr>\n",
       "  <th>Intercept</th>                         <td> 4.593e+04</td> <td>  782.805</td> <td>   58.672</td> <td> 0.000</td> <td> 4.44e+04</td> <td> 4.75e+04</td>\n",
       "</tr>\n",
       "<tr>\n",
       "  <th>gender[T.Nonbinary]</th>               <td> 7.016e+04</td> <td> 1.29e+04</td> <td>    5.455</td> <td> 0.000</td> <td> 4.49e+04</td> <td> 9.54e+04</td>\n",
       "</tr>\n",
       "<tr>\n",
       "  <th>gender[T.Prefer not to say]</th>       <td> 2.166e+04</td> <td> 6335.402</td> <td>    3.419</td> <td> 0.001</td> <td> 9242.046</td> <td> 3.41e+04</td>\n",
       "</tr>\n",
       "<tr>\n",
       "  <th>gender[T.Prefer to self-describe]</th> <td> 2.498e+04</td> <td>  1.8e+04</td> <td>    1.389</td> <td> 0.165</td> <td>-1.03e+04</td> <td> 6.02e+04</td>\n",
       "</tr>\n",
       "<tr>\n",
       "  <th>gender[T.Woman]</th>                   <td>-1.466e+04</td> <td> 1932.351</td> <td>   -7.588</td> <td> 0.000</td> <td>-1.84e+04</td> <td>-1.09e+04</td>\n",
       "</tr>\n",
       "</table>\n",
       "<table class=\"simpletable\">\n",
       "<tr>\n",
       "  <th>Omnibus:</th>       <td>18458.954</td> <th>  Durbin-Watson:     </th>  <td>   2.001</td>  \n",
       "</tr>\n",
       "<tr>\n",
       "  <th>Prob(Omnibus):</th>  <td> 0.000</td>   <th>  Jarque-Bera (JB):  </th> <td>2343660.164</td>\n",
       "</tr>\n",
       "<tr>\n",
       "  <th>Skew:</th>           <td> 6.472</td>   <th>  Prob(JB):          </th>  <td>    0.00</td>  \n",
       "</tr>\n",
       "<tr>\n",
       "  <th>Kurtosis:</th>       <td>62.051</td>   <th>  Cond. No.          </th>  <td>    25.7</td>  \n",
       "</tr>\n",
       "</table><br/><br/>Notes:<br/>[1] Standard Errors assume that the covariance matrix of the errors is correctly specified."
      ],
      "text/plain": [
       "<class 'statsmodels.iolib.summary.Summary'>\n",
       "\"\"\"\n",
       "                            OLS Regression Results                            \n",
       "==============================================================================\n",
       "Dep. Variable:           compensation   R-squared:                       0.007\n",
       "Model:                            OLS   Adj. R-squared:                  0.007\n",
       "Method:                 Least Squares   F-statistic:                     26.46\n",
       "Date:                Mon, 27 Jun 2022   Prob (F-statistic):           6.64e-22\n",
       "Time:                        22:08:46   Log-Likelihood:            -1.9707e+05\n",
       "No. Observations:               15391   AIC:                         3.941e+05\n",
       "Df Residuals:                   15386   BIC:                         3.942e+05\n",
       "Df Model:                           4                                         \n",
       "Covariance Type:            nonrobust                                         \n",
       "=====================================================================================================\n",
       "                                        coef    std err          t      P>|t|      [0.025      0.975]\n",
       "-----------------------------------------------------------------------------------------------------\n",
       "Intercept                          4.593e+04    782.805     58.672      0.000    4.44e+04    4.75e+04\n",
       "gender[T.Nonbinary]                7.016e+04   1.29e+04      5.455      0.000    4.49e+04    9.54e+04\n",
       "gender[T.Prefer not to say]        2.166e+04   6335.402      3.419      0.001    9242.046    3.41e+04\n",
       "gender[T.Prefer to self-describe]  2.498e+04    1.8e+04      1.389      0.165   -1.03e+04    6.02e+04\n",
       "gender[T.Woman]                   -1.466e+04   1932.351     -7.588      0.000   -1.84e+04   -1.09e+04\n",
       "==============================================================================\n",
       "Omnibus:                    18458.954   Durbin-Watson:                   2.001\n",
       "Prob(Omnibus):                  0.000   Jarque-Bera (JB):          2343660.164\n",
       "Skew:                           6.472   Prob(JB):                         0.00\n",
       "Kurtosis:                      62.051   Cond. No.                         25.7\n",
       "==============================================================================\n",
       "\n",
       "Notes:\n",
       "[1] Standard Errors assume that the covariance matrix of the errors is correctly specified.\n",
       "\"\"\""
      ]
     },
     "execution_count": 13,
     "metadata": {},
     "output_type": "execute_result"
    }
   ],
   "source": [
    "fit1.summary()"
   ]
  },
  {
   "cell_type": "markdown",
   "id": "ac6d831d",
   "metadata": {
    "slideshow": {
     "slide_type": "slide"
    }
   },
   "source": [
    "## Multiple linear regression"
   ]
  },
  {
   "cell_type": "code",
   "execution_count": 14,
   "id": "bd41739a",
   "metadata": {
    "slideshow": {
     "slide_type": "fragment"
    }
   },
   "outputs": [],
   "source": [
    "# Let's now also control for age and education\n",
    "fit2 = smf.ols('compensation ~ gender + age + education', data = kaggle2021).fit()"
   ]
  },
  {
   "cell_type": "code",
   "execution_count": 15,
   "id": "5b265d3d",
   "metadata": {
    "slideshow": {
     "slide_type": "fragment"
    }
   },
   "outputs": [
    {
     "data": {
      "text/html": [
       "<table class=\"simpletable\">\n",
       "<caption>OLS Regression Results</caption>\n",
       "<tr>\n",
       "  <th>Dep. Variable:</th>      <td>compensation</td>   <th>  R-squared:         </th>  <td>   0.068</td>  \n",
       "</tr>\n",
       "<tr>\n",
       "  <th>Model:</th>                   <td>OLS</td>       <th>  Adj. R-squared:    </th>  <td>   0.067</td>  \n",
       "</tr>\n",
       "<tr>\n",
       "  <th>Method:</th>             <td>Least Squares</td>  <th>  F-statistic:       </th>  <td>   55.98</td>  \n",
       "</tr>\n",
       "<tr>\n",
       "  <th>Date:</th>             <td>Mon, 27 Jun 2022</td> <th>  Prob (F-statistic):</th>  <td>1.77e-216</td> \n",
       "</tr>\n",
       "<tr>\n",
       "  <th>Time:</th>                 <td>22:08:46</td>     <th>  Log-Likelihood:    </th> <td>-1.9658e+05</td>\n",
       "</tr>\n",
       "<tr>\n",
       "  <th>No. Observations:</th>      <td> 15391</td>      <th>  AIC:               </th>  <td>3.932e+05</td> \n",
       "</tr>\n",
       "<tr>\n",
       "  <th>Df Residuals:</th>          <td> 15370</td>      <th>  BIC:               </th>  <td>3.934e+05</td> \n",
       "</tr>\n",
       "<tr>\n",
       "  <th>Df Model:</th>              <td>    20</td>      <th>                     </th>      <td> </td>     \n",
       "</tr>\n",
       "<tr>\n",
       "  <th>Covariance Type:</th>      <td>nonrobust</td>    <th>                     </th>      <td> </td>     \n",
       "</tr>\n",
       "</table>\n",
       "<table class=\"simpletable\">\n",
       "<tr>\n",
       "                                         <td></td>                                           <th>coef</th>     <th>std err</th>      <th>t</th>      <th>P>|t|</th>  <th>[0.025</th>    <th>0.975]</th>  \n",
       "</tr>\n",
       "<tr>\n",
       "  <th>Intercept</th>                                                                      <td> 1.483e+04</td> <td> 2910.746</td> <td>    5.093</td> <td> 0.000</td> <td> 9120.353</td> <td> 2.05e+04</td>\n",
       "</tr>\n",
       "<tr>\n",
       "  <th>gender[T.Nonbinary]</th>                                                            <td> 6.443e+04</td> <td> 1.25e+04</td> <td>    5.163</td> <td> 0.000</td> <td>    4e+04</td> <td> 8.89e+04</td>\n",
       "</tr>\n",
       "<tr>\n",
       "  <th>gender[T.Prefer not to say]</th>                                                    <td> 2.033e+04</td> <td> 6157.104</td> <td>    3.302</td> <td> 0.001</td> <td> 8261.253</td> <td> 3.24e+04</td>\n",
       "</tr>\n",
       "<tr>\n",
       "  <th>gender[T.Prefer to self-describe]</th>                                              <td> 3.486e+04</td> <td> 1.74e+04</td> <td>    1.998</td> <td> 0.046</td> <td>  667.732</td> <td> 6.91e+04</td>\n",
       "</tr>\n",
       "<tr>\n",
       "  <th>gender[T.Woman]</th>                                                                <td>  -1.1e+04</td> <td> 1884.889</td> <td>   -5.838</td> <td> 0.000</td> <td>-1.47e+04</td> <td>-7309.568</td>\n",
       "</tr>\n",
       "<tr>\n",
       "  <th>age[T.22-24]</th>                                                                   <td> 2313.5562</td> <td> 3387.043</td> <td>    0.683</td> <td> 0.495</td> <td>-4325.450</td> <td> 8952.562</td>\n",
       "</tr>\n",
       "<tr>\n",
       "  <th>age[T.25-29]</th>                                                                   <td> 8811.2235</td> <td> 3235.996</td> <td>    2.723</td> <td> 0.006</td> <td> 2468.289</td> <td> 1.52e+04</td>\n",
       "</tr>\n",
       "<tr>\n",
       "  <th>age[T.30-34]</th>                                                                   <td> 2.427e+04</td> <td> 3347.112</td> <td>    7.251</td> <td> 0.000</td> <td> 1.77e+04</td> <td> 3.08e+04</td>\n",
       "</tr>\n",
       "<tr>\n",
       "  <th>age[T.35-39]</th>                                                                   <td> 3.405e+04</td> <td> 3485.133</td> <td>    9.770</td> <td> 0.000</td> <td> 2.72e+04</td> <td> 4.09e+04</td>\n",
       "</tr>\n",
       "<tr>\n",
       "  <th>age[T.40-44]</th>                                                                   <td> 4.192e+04</td> <td> 3656.035</td> <td>   11.465</td> <td> 0.000</td> <td> 3.48e+04</td> <td> 4.91e+04</td>\n",
       "</tr>\n",
       "<tr>\n",
       "  <th>age[T.45-49]</th>                                                                   <td> 5.368e+04</td> <td> 3872.345</td> <td>   13.862</td> <td> 0.000</td> <td> 4.61e+04</td> <td> 6.13e+04</td>\n",
       "</tr>\n",
       "<tr>\n",
       "  <th>age[T.50-54]</th>                                                                   <td> 5.354e+04</td> <td> 4211.610</td> <td>   12.713</td> <td> 0.000</td> <td> 4.53e+04</td> <td> 6.18e+04</td>\n",
       "</tr>\n",
       "<tr>\n",
       "  <th>age[T.55-59]</th>                                                                   <td> 6.666e+04</td> <td> 4792.714</td> <td>   13.910</td> <td> 0.000</td> <td> 5.73e+04</td> <td> 7.61e+04</td>\n",
       "</tr>\n",
       "<tr>\n",
       "  <th>age[T.60-69]</th>                                                                   <td> 5.718e+04</td> <td> 4971.283</td> <td>   11.502</td> <td> 0.000</td> <td> 4.74e+04</td> <td> 6.69e+04</td>\n",
       "</tr>\n",
       "<tr>\n",
       "  <th>age[T.70+]</th>                                                                     <td> 6.918e+04</td> <td> 9180.635</td> <td>    7.535</td> <td> 0.000</td> <td> 5.12e+04</td> <td> 8.72e+04</td>\n",
       "</tr>\n",
       "<tr>\n",
       "  <th>education[T.Doctoral degree]</th>                                                   <td> 1.187e+04</td> <td> 2322.458</td> <td>    5.111</td> <td> 0.000</td> <td> 7318.325</td> <td> 1.64e+04</td>\n",
       "</tr>\n",
       "<tr>\n",
       "  <th>education[T.I prefer not to answer]</th>                                            <td>-1.029e+04</td> <td> 4857.239</td> <td>   -2.118</td> <td> 0.034</td> <td>-1.98e+04</td> <td> -769.130</td>\n",
       "</tr>\n",
       "<tr>\n",
       "  <th>education[T.Master’s degree]</th>                                                   <td> 7168.1892</td> <td> 1666.521</td> <td>    4.301</td> <td> 0.000</td> <td> 3901.611</td> <td> 1.04e+04</td>\n",
       "</tr>\n",
       "<tr>\n",
       "  <th>education[T.No formal education past high school]</th>                              <td>-1.059e+04</td> <td> 5801.400</td> <td>   -1.825</td> <td> 0.068</td> <td> -2.2e+04</td> <td>  782.116</td>\n",
       "</tr>\n",
       "<tr>\n",
       "  <th>education[T.Professional doctorate]</th>                                            <td> 8857.2561</td> <td> 5216.498</td> <td>    1.698</td> <td> 0.090</td> <td>-1367.698</td> <td> 1.91e+04</td>\n",
       "</tr>\n",
       "<tr>\n",
       "  <th>education[T.Some college/university study without earning a bachelor’s degree]</th> <td> -912.0023</td> <td> 3378.159</td> <td>   -0.270</td> <td> 0.787</td> <td>-7533.593</td> <td> 5709.588</td>\n",
       "</tr>\n",
       "</table>\n",
       "<table class=\"simpletable\">\n",
       "<tr>\n",
       "  <th>Omnibus:</th>       <td>19216.780</td> <th>  Durbin-Watson:     </th>  <td>   2.008</td>  \n",
       "</tr>\n",
       "<tr>\n",
       "  <th>Prob(Omnibus):</th>  <td> 0.000</td>   <th>  Jarque-Bera (JB):  </th> <td>2958551.621</td>\n",
       "</tr>\n",
       "<tr>\n",
       "  <th>Skew:</th>           <td> 6.892</td>   <th>  Prob(JB):          </th>  <td>    0.00</td>  \n",
       "</tr>\n",
       "<tr>\n",
       "  <th>Kurtosis:</th>       <td>69.509</td>   <th>  Cond. No.          </th>  <td>    30.2</td>  \n",
       "</tr>\n",
       "</table><br/><br/>Notes:<br/>[1] Standard Errors assume that the covariance matrix of the errors is correctly specified."
      ],
      "text/plain": [
       "<class 'statsmodels.iolib.summary.Summary'>\n",
       "\"\"\"\n",
       "                            OLS Regression Results                            \n",
       "==============================================================================\n",
       "Dep. Variable:           compensation   R-squared:                       0.068\n",
       "Model:                            OLS   Adj. R-squared:                  0.067\n",
       "Method:                 Least Squares   F-statistic:                     55.98\n",
       "Date:                Mon, 27 Jun 2022   Prob (F-statistic):          1.77e-216\n",
       "Time:                        22:08:46   Log-Likelihood:            -1.9658e+05\n",
       "No. Observations:               15391   AIC:                         3.932e+05\n",
       "Df Residuals:                   15370   BIC:                         3.934e+05\n",
       "Df Model:                          20                                         \n",
       "Covariance Type:            nonrobust                                         \n",
       "==================================================================================================================================================\n",
       "                                                                                     coef    std err          t      P>|t|      [0.025      0.975]\n",
       "--------------------------------------------------------------------------------------------------------------------------------------------------\n",
       "Intercept                                                                       1.483e+04   2910.746      5.093      0.000    9120.353    2.05e+04\n",
       "gender[T.Nonbinary]                                                             6.443e+04   1.25e+04      5.163      0.000       4e+04    8.89e+04\n",
       "gender[T.Prefer not to say]                                                     2.033e+04   6157.104      3.302      0.001    8261.253    3.24e+04\n",
       "gender[T.Prefer to self-describe]                                               3.486e+04   1.74e+04      1.998      0.046     667.732    6.91e+04\n",
       "gender[T.Woman]                                                                  -1.1e+04   1884.889     -5.838      0.000   -1.47e+04   -7309.568\n",
       "age[T.22-24]                                                                    2313.5562   3387.043      0.683      0.495   -4325.450    8952.562\n",
       "age[T.25-29]                                                                    8811.2235   3235.996      2.723      0.006    2468.289    1.52e+04\n",
       "age[T.30-34]                                                                    2.427e+04   3347.112      7.251      0.000    1.77e+04    3.08e+04\n",
       "age[T.35-39]                                                                    3.405e+04   3485.133      9.770      0.000    2.72e+04    4.09e+04\n",
       "age[T.40-44]                                                                    4.192e+04   3656.035     11.465      0.000    3.48e+04    4.91e+04\n",
       "age[T.45-49]                                                                    5.368e+04   3872.345     13.862      0.000    4.61e+04    6.13e+04\n",
       "age[T.50-54]                                                                    5.354e+04   4211.610     12.713      0.000    4.53e+04    6.18e+04\n",
       "age[T.55-59]                                                                    6.666e+04   4792.714     13.910      0.000    5.73e+04    7.61e+04\n",
       "age[T.60-69]                                                                    5.718e+04   4971.283     11.502      0.000    4.74e+04    6.69e+04\n",
       "age[T.70+]                                                                      6.918e+04   9180.635      7.535      0.000    5.12e+04    8.72e+04\n",
       "education[T.Doctoral degree]                                                    1.187e+04   2322.458      5.111      0.000    7318.325    1.64e+04\n",
       "education[T.I prefer not to answer]                                            -1.029e+04   4857.239     -2.118      0.034   -1.98e+04    -769.130\n",
       "education[T.Master’s degree]                                                    7168.1892   1666.521      4.301      0.000    3901.611    1.04e+04\n",
       "education[T.No formal education past high school]                              -1.059e+04   5801.400     -1.825      0.068    -2.2e+04     782.116\n",
       "education[T.Professional doctorate]                                             8857.2561   5216.498      1.698      0.090   -1367.698    1.91e+04\n",
       "education[T.Some college/university study without earning a bachelor’s degree]  -912.0023   3378.159     -0.270      0.787   -7533.593    5709.588\n",
       "==============================================================================\n",
       "Omnibus:                    19216.780   Durbin-Watson:                   2.008\n",
       "Prob(Omnibus):                  0.000   Jarque-Bera (JB):          2958551.621\n",
       "Skew:                           6.892   Prob(JB):                         0.00\n",
       "Kurtosis:                      69.509   Cond. No.                         30.2\n",
       "==============================================================================\n",
       "\n",
       "Notes:\n",
       "[1] Standard Errors assume that the covariance matrix of the errors is correctly specified.\n",
       "\"\"\""
      ]
     },
     "execution_count": 15,
     "metadata": {},
     "output_type": "execute_result"
    }
   ],
   "source": [
    "fit2.summary()"
   ]
  },
  {
   "cell_type": "markdown",
   "id": "4613032a",
   "metadata": {
    "slideshow": {
     "slide_type": "slide"
    }
   },
   "source": [
    "## Markdown - a language of reports\n",
    "\n",
    "- Markdown is a markup language for formatting text with simple syntax\n",
    "- The key goal of Markdown is readability\n",
    "- Only a limited set of formatting options is supported\n",
    "- Markdown is used in online documentation, blogging and instant messaging"
   ]
  },
  {
   "cell_type": "markdown",
   "id": "41f4cc39",
   "metadata": {
    "slideshow": {
     "slide_type": "slide"
    }
   },
   "source": [
    "## Formatting text in Markdown\n",
    "\n",
    "- For *italics* ```*one star on each side*```\n",
    "- For **bold** ```**two stars on each side**```\n",
    "- For ~~strikethrough~~ ```~~two tildes on each side~~```"
   ]
  },
  {
   "cell_type": "markdown",
   "id": "fdf3ec4b",
   "metadata": {
    "slideshow": {
     "slide_type": "slide"
    }
   },
   "source": [
    "## Lists in Markdown\n",
    "\n",
    "For bulleted or unordered list of items:\n",
    "\n",
    "```\n",
    "- Just add a dash first and then write a text.\n",
    "- If you add another dash in the following line, you will have another item in the list.\n",
    "  - If you add four spaces or use a tab key, you will create an indented list.\n",
    "```\n",
    "\n",
    "For numbered or ordered list of items:\n",
    "\n",
    "```\n",
    "1. Just type a number and then write a text.\n",
    "2. If you want to add a second item, just type in another number.\n",
    "1. If you make a mistake when typing numbers, fear not, Markdown will correct it for you.\n",
    "    1. If you press a tab key or type four spaces, you will get an indented list and the numbering\n",
    "    will start from scratch.\n",
    "```"
   ]
  },
  {
   "cell_type": "markdown",
   "id": "988376ab",
   "metadata": {
    "slideshow": {
     "slide_type": "slide"
    }
   },
   "source": [
    "## Headers in Markdown\n",
    "\n",
    "Headers or section titles are created with hashes(```#```)\n",
    "\n",
    "```# This is a first-tier header```\n",
    "\n",
    "```## This is a second-tier header```\n",
    "\n",
    "```### This is a third-tier header```"
   ]
  },
  {
   "cell_type": "markdown",
   "id": "8c610424",
   "metadata": {
    "slideshow": {
     "slide_type": "slide"
    }
   },
   "source": [
    "## Images and links in Markdown\n",
    "\n",
    "- To add an image you can write ```![some text](image_path)```\n",
    "- To add a link you can write ```[some text](URL)```\n",
    "- For more complex cases HTML code can be used"
   ]
  },
  {
   "cell_type": "markdown",
   "id": "266943e4",
   "metadata": {
    "slideshow": {
     "slide_type": "slide"
    }
   },
   "source": [
    "## Tables in Markdown\n",
    "\n",
    "- Tables in Markdown can be created using the following syntax (there are a few variants)\n",
    "\n",
    "```\n",
    "| Header1 | Header2 |\n",
    "|:--------|:--------|\n",
    "| content | content |\n",
    "```\n",
    "\n",
    "- ```:---``` produces left-aligned text in cells\n",
    "- ```---:``` produces right-aligned text in cells\n",
    "- ```:--:``` produces centered text in cells"
   ]
  },
  {
   "cell_type": "markdown",
   "id": "cf6628c9",
   "metadata": {
    "slideshow": {
     "slide_type": "slide"
    }
   },
   "source": [
    "## Markdown tables in pandas\n",
    "\n",
    "- Pandas can generate Markdown tables from DataFrame"
   ]
  },
  {
   "cell_type": "code",
   "execution_count": 16,
   "id": "956712dd",
   "metadata": {
    "slideshow": {
     "slide_type": "fragment"
    }
   },
   "outputs": [
    {
     "data": {
      "text/html": [
       "<div>\n",
       "<style scoped>\n",
       "    .dataframe tbody tr th:only-of-type {\n",
       "        vertical-align: middle;\n",
       "    }\n",
       "\n",
       "    .dataframe tbody tr th {\n",
       "        vertical-align: top;\n",
       "    }\n",
       "\n",
       "    .dataframe thead tr th {\n",
       "        text-align: left;\n",
       "    }\n",
       "\n",
       "    .dataframe thead tr:last-of-type th {\n",
       "        text-align: right;\n",
       "    }\n",
       "</style>\n",
       "<table border=\"1\" class=\"dataframe\">\n",
       "  <thead>\n",
       "    <tr>\n",
       "      <th></th>\n",
       "      <th colspan=\"3\" halign=\"left\">x</th>\n",
       "    </tr>\n",
       "    <tr>\n",
       "      <th></th>\n",
       "      <th>count</th>\n",
       "      <th>mean</th>\n",
       "      <th>std</th>\n",
       "    </tr>\n",
       "    <tr>\n",
       "      <th>dataset</th>\n",
       "      <th></th>\n",
       "      <th></th>\n",
       "      <th></th>\n",
       "    </tr>\n",
       "  </thead>\n",
       "  <tbody>\n",
       "    <tr>\n",
       "      <th>I</th>\n",
       "      <td>11.0</td>\n",
       "      <td>9.0</td>\n",
       "      <td>3.316625</td>\n",
       "    </tr>\n",
       "    <tr>\n",
       "      <th>II</th>\n",
       "      <td>11.0</td>\n",
       "      <td>9.0</td>\n",
       "      <td>3.316625</td>\n",
       "    </tr>\n",
       "    <tr>\n",
       "      <th>III</th>\n",
       "      <td>11.0</td>\n",
       "      <td>9.0</td>\n",
       "      <td>3.316625</td>\n",
       "    </tr>\n",
       "    <tr>\n",
       "      <th>IV</th>\n",
       "      <td>11.0</td>\n",
       "      <td>9.0</td>\n",
       "      <td>3.316625</td>\n",
       "    </tr>\n",
       "  </tbody>\n",
       "</table>\n",
       "</div>"
      ],
      "text/plain": [
       "            x               \n",
       "        count mean       std\n",
       "dataset                     \n",
       "I        11.0  9.0  3.316625\n",
       "II       11.0  9.0  3.316625\n",
       "III      11.0  9.0  3.316625\n",
       "IV       11.0  9.0  3.316625"
      ]
     },
     "execution_count": 16,
     "metadata": {},
     "output_type": "execute_result"
    }
   ],
   "source": [
    "# Let's revisit the summary statistics of Anscombe's quartet\n",
    "anscombe_quartet.groupby(['dataset']).describe().iloc[:,0:3]"
   ]
  },
  {
   "cell_type": "code",
   "execution_count": 17,
   "id": "52d72f6c",
   "metadata": {
    "slideshow": {
     "slide_type": "fragment"
    }
   },
   "outputs": [
    {
     "name": "stdout",
     "output_type": "stream",
     "text": [
      "|   ('x', 'count') |   ('x', 'mean') |   ('x', 'std') |\n",
      "|-----------------:|----------------:|---------------:|\n",
      "|               11 |               9 |        3.31662 |\n",
      "|               11 |               9 |        3.31662 |\n",
      "|               11 |               9 |        3.31662 |\n",
      "|               11 |               9 |        3.31662 |\n"
     ]
    }
   ],
   "source": [
    "print(anscombe_quartet.groupby(['dataset']).describe().iloc[:,0:3].to_markdown(index = False))"
   ]
  },
  {
   "cell_type": "markdown",
   "id": "407b31c7",
   "metadata": {
    "slideshow": {
     "slide_type": "slide"
    }
   },
   "source": [
    "## The end\n",
    "\n",
    "<div style=\"text-align: center;\">\n",
    "    <img width=\"500\" height=\"300\" src=\"../imgs/butterfly_meme.jpg\">\n",
    "</div>"
   ]
  }
 ],
 "metadata": {
  "celltoolbar": "Slideshow",
  "kernelspec": {
   "display_name": "Python 3 (ipykernel)",
   "language": "python",
   "name": "python3"
  },
  "language_info": {
   "codemirror_mode": {
    "name": "ipython",
    "version": 3
   },
   "file_extension": ".py",
   "mimetype": "text/x-python",
   "name": "python",
   "nbconvert_exporter": "python",
   "pygments_lexer": "ipython3",
   "version": "3.10.6"
  }
 },
 "nbformat": 4,
 "nbformat_minor": 5
}
