{
 "cells": [
  {
   "cell_type": "markdown",
   "id": "8c2cb2e7",
   "metadata": {
    "slideshow": {
     "slide_type": "slide"
    }
   },
   "source": [
    "# [__Introduction to Python__](https://eventum.upf.edu/64915/section/30365/recsm-summer-methods-school-2021.html)\n",
    "\n",
    "### [Tom Paskhalis](https://tom.paskhal.is/)\n",
    "\n",
    "### [RECSM Summer School 2021](https://eventum.upf.edu/64915/detail/recsm-summer-methods-school-2021.html), Linear Regression & Communicating Results, Part 5, Day 2"
   ]
  },
  {
   "cell_type": "markdown",
   "id": "54fc7cc1",
   "metadata": {
    "slideshow": {
     "slide_type": "slide"
    }
   },
   "source": [
    "## Anscombe's quartet\n",
    "\n",
    "- 4 artificial datasets constructed by [Anscombe (1973)](https://doi.org/10.1080/00031305.1973.10478966)\n",
    "- All of them have nearly identical summary statistics\n",
    "- But show dramatically different relationships between variables\n",
    "- Designed to illustrate the importance of data visualization"
   ]
  },
  {
   "cell_type": "markdown",
   "id": "5ab38eec",
   "metadata": {
    "slideshow": {
     "slide_type": "slide"
    }
   },
   "source": [
    "## Data for Anscombe's quartet"
   ]
  },
  {
   "cell_type": "code",
   "execution_count": 1,
   "id": "17fd005c",
   "metadata": {
    "slideshow": {
     "slide_type": "fragment"
    }
   },
   "outputs": [],
   "source": [
    "import pandas as pd\n",
    "anscombe_quartet = pd.read_csv('../data/anscombes_quartet.csv')"
   ]
  },
  {
   "cell_type": "code",
   "execution_count": 2,
   "id": "165b6eca",
   "metadata": {
    "slideshow": {
     "slide_type": "fragment"
    }
   },
   "outputs": [
    {
     "data": {
      "text/html": [
       "<div>\n",
       "<style scoped>\n",
       "    .dataframe tbody tr th:only-of-type {\n",
       "        vertical-align: middle;\n",
       "    }\n",
       "\n",
       "    .dataframe tbody tr th {\n",
       "        vertical-align: top;\n",
       "    }\n",
       "\n",
       "    .dataframe thead th {\n",
       "        text-align: right;\n",
       "    }\n",
       "</style>\n",
       "<table border=\"1\" class=\"dataframe\">\n",
       "  <thead>\n",
       "    <tr style=\"text-align: right;\">\n",
       "      <th></th>\n",
       "      <th>dataset</th>\n",
       "      <th>x</th>\n",
       "      <th>y</th>\n",
       "    </tr>\n",
       "  </thead>\n",
       "  <tbody>\n",
       "    <tr>\n",
       "      <th>0</th>\n",
       "      <td>I</td>\n",
       "      <td>10</td>\n",
       "      <td>8.04</td>\n",
       "    </tr>\n",
       "    <tr>\n",
       "      <th>1</th>\n",
       "      <td>I</td>\n",
       "      <td>8</td>\n",
       "      <td>6.95</td>\n",
       "    </tr>\n",
       "    <tr>\n",
       "      <th>2</th>\n",
       "      <td>I</td>\n",
       "      <td>13</td>\n",
       "      <td>7.58</td>\n",
       "    </tr>\n",
       "    <tr>\n",
       "      <th>3</th>\n",
       "      <td>I</td>\n",
       "      <td>9</td>\n",
       "      <td>8.81</td>\n",
       "    </tr>\n",
       "    <tr>\n",
       "      <th>4</th>\n",
       "      <td>I</td>\n",
       "      <td>11</td>\n",
       "      <td>8.33</td>\n",
       "    </tr>\n",
       "  </tbody>\n",
       "</table>\n",
       "</div>"
      ],
      "text/plain": [
       "  dataset   x     y\n",
       "0       I  10  8.04\n",
       "1       I   8  6.95\n",
       "2       I  13  7.58\n",
       "3       I   9  8.81\n",
       "4       I  11  8.33"
      ]
     },
     "execution_count": 2,
     "metadata": {},
     "output_type": "execute_result"
    }
   ],
   "source": [
    "anscombe_quartet.head()"
   ]
  },
  {
   "cell_type": "markdown",
   "id": "e3d48fc7",
   "metadata": {
    "slideshow": {
     "slide_type": "slide"
    }
   },
   "source": [
    "## Summary statistics for Anscombe's quartet"
   ]
  },
  {
   "cell_type": "code",
   "execution_count": 3,
   "id": "37cf1d0c",
   "metadata": {
    "slideshow": {
     "slide_type": "fragment"
    }
   },
   "outputs": [
    {
     "data": {
      "text/html": [
       "<div>\n",
       "<style scoped>\n",
       "    .dataframe tbody tr th:only-of-type {\n",
       "        vertical-align: middle;\n",
       "    }\n",
       "\n",
       "    .dataframe tbody tr th {\n",
       "        vertical-align: top;\n",
       "    }\n",
       "\n",
       "    .dataframe thead tr th {\n",
       "        text-align: left;\n",
       "    }\n",
       "\n",
       "    .dataframe thead tr:last-of-type th {\n",
       "        text-align: right;\n",
       "    }\n",
       "</style>\n",
       "<table border=\"1\" class=\"dataframe\">\n",
       "  <thead>\n",
       "    <tr>\n",
       "      <th></th>\n",
       "      <th colspan=\"8\" halign=\"left\">x</th>\n",
       "      <th colspan=\"8\" halign=\"left\">y</th>\n",
       "    </tr>\n",
       "    <tr>\n",
       "      <th></th>\n",
       "      <th>count</th>\n",
       "      <th>mean</th>\n",
       "      <th>std</th>\n",
       "      <th>min</th>\n",
       "      <th>25%</th>\n",
       "      <th>50%</th>\n",
       "      <th>75%</th>\n",
       "      <th>max</th>\n",
       "      <th>count</th>\n",
       "      <th>mean</th>\n",
       "      <th>std</th>\n",
       "      <th>min</th>\n",
       "      <th>25%</th>\n",
       "      <th>50%</th>\n",
       "      <th>75%</th>\n",
       "      <th>max</th>\n",
       "    </tr>\n",
       "    <tr>\n",
       "      <th>dataset</th>\n",
       "      <th></th>\n",
       "      <th></th>\n",
       "      <th></th>\n",
       "      <th></th>\n",
       "      <th></th>\n",
       "      <th></th>\n",
       "      <th></th>\n",
       "      <th></th>\n",
       "      <th></th>\n",
       "      <th></th>\n",
       "      <th></th>\n",
       "      <th></th>\n",
       "      <th></th>\n",
       "      <th></th>\n",
       "      <th></th>\n",
       "      <th></th>\n",
       "    </tr>\n",
       "  </thead>\n",
       "  <tbody>\n",
       "    <tr>\n",
       "      <th>I</th>\n",
       "      <td>11.0</td>\n",
       "      <td>9.0</td>\n",
       "      <td>3.316625</td>\n",
       "      <td>4.0</td>\n",
       "      <td>6.5</td>\n",
       "      <td>9.0</td>\n",
       "      <td>11.5</td>\n",
       "      <td>14.0</td>\n",
       "      <td>11.0</td>\n",
       "      <td>7.500909</td>\n",
       "      <td>2.031568</td>\n",
       "      <td>4.26</td>\n",
       "      <td>6.315</td>\n",
       "      <td>7.58</td>\n",
       "      <td>8.57</td>\n",
       "      <td>10.84</td>\n",
       "    </tr>\n",
       "    <tr>\n",
       "      <th>II</th>\n",
       "      <td>11.0</td>\n",
       "      <td>9.0</td>\n",
       "      <td>3.316625</td>\n",
       "      <td>4.0</td>\n",
       "      <td>6.5</td>\n",
       "      <td>9.0</td>\n",
       "      <td>11.5</td>\n",
       "      <td>14.0</td>\n",
       "      <td>11.0</td>\n",
       "      <td>7.500909</td>\n",
       "      <td>2.031657</td>\n",
       "      <td>3.10</td>\n",
       "      <td>6.695</td>\n",
       "      <td>8.14</td>\n",
       "      <td>8.95</td>\n",
       "      <td>9.26</td>\n",
       "    </tr>\n",
       "    <tr>\n",
       "      <th>III</th>\n",
       "      <td>11.0</td>\n",
       "      <td>9.0</td>\n",
       "      <td>3.316625</td>\n",
       "      <td>4.0</td>\n",
       "      <td>6.5</td>\n",
       "      <td>9.0</td>\n",
       "      <td>11.5</td>\n",
       "      <td>14.0</td>\n",
       "      <td>11.0</td>\n",
       "      <td>7.500000</td>\n",
       "      <td>2.030424</td>\n",
       "      <td>5.39</td>\n",
       "      <td>6.250</td>\n",
       "      <td>7.11</td>\n",
       "      <td>7.98</td>\n",
       "      <td>12.74</td>\n",
       "    </tr>\n",
       "    <tr>\n",
       "      <th>IV</th>\n",
       "      <td>11.0</td>\n",
       "      <td>9.0</td>\n",
       "      <td>3.316625</td>\n",
       "      <td>8.0</td>\n",
       "      <td>8.0</td>\n",
       "      <td>8.0</td>\n",
       "      <td>8.0</td>\n",
       "      <td>19.0</td>\n",
       "      <td>11.0</td>\n",
       "      <td>7.500909</td>\n",
       "      <td>2.030579</td>\n",
       "      <td>5.25</td>\n",
       "      <td>6.170</td>\n",
       "      <td>7.04</td>\n",
       "      <td>8.19</td>\n",
       "      <td>12.50</td>\n",
       "    </tr>\n",
       "  </tbody>\n",
       "</table>\n",
       "</div>"
      ],
      "text/plain": [
       "            x                                               y            \\\n",
       "        count mean       std  min  25%  50%   75%   max count      mean   \n",
       "dataset                                                                   \n",
       "I        11.0  9.0  3.316625  4.0  6.5  9.0  11.5  14.0  11.0  7.500909   \n",
       "II       11.0  9.0  3.316625  4.0  6.5  9.0  11.5  14.0  11.0  7.500909   \n",
       "III      11.0  9.0  3.316625  4.0  6.5  9.0  11.5  14.0  11.0  7.500000   \n",
       "IV       11.0  9.0  3.316625  8.0  8.0  8.0   8.0  19.0  11.0  7.500909   \n",
       "\n",
       "                                                   \n",
       "              std   min    25%   50%   75%    max  \n",
       "dataset                                            \n",
       "I        2.031568  4.26  6.315  7.58  8.57  10.84  \n",
       "II       2.031657  3.10  6.695  8.14  8.95   9.26  \n",
       "III      2.030424  5.39  6.250  7.11  7.98  12.74  \n",
       "IV       2.030579  5.25  6.170  7.04  8.19  12.50  "
      ]
     },
     "execution_count": 3,
     "metadata": {},
     "output_type": "execute_result"
    }
   ],
   "source": [
    "# Here we use `groupby` method to create summary by a variable ('dataset')\n",
    "anscombe_quartet.groupby(['dataset']).describe()"
   ]
  },
  {
   "cell_type": "markdown",
   "id": "e7237dce",
   "metadata": {
    "slideshow": {
     "slide_type": "slide"
    }
   },
   "source": [
    "## Plotting Anscombe's quartet"
   ]
  },
  {
   "cell_type": "code",
   "execution_count": 4,
   "id": "202ac71e",
   "metadata": {
    "slideshow": {
     "slide_type": "fragment"
    }
   },
   "outputs": [
    {
     "data": {
      "image/png": "[encoded data removed]",
      "text/plain": [
       "<Figure size 640x480 with 4 Axes>"
      ]
     },
     "metadata": {},
     "output_type": "display_data"
    },
    {
     "data": {
      "text/plain": [
       "<ggplot: (8776537551011)>"
      ]
     },
     "execution_count": 4,
     "metadata": {},
     "output_type": "execute_result"
    }
   ],
   "source": [
    "from plotnine import *\n",
    "\n",
    "ggplot(anscombe_quartet, aes(x = 'x', y = 'y')) +\\\n",
    "    geom_point(colour = 'red') +\\\n",
    "    geom_smooth(method = 'lm', se = False) +\\\n",
    "    facet_wrap('dataset') +\\\n",
    "    theme_bw()                                     "
   ]
  },
  {
   "cell_type": "markdown",
   "id": "475345ee",
   "metadata": {
    "slideshow": {
     "slide_type": "slide"
    }
   },
   "source": [
    "## Linear regression\n",
    "\n",
    "- Linear regression is the classical tool of statistical analysis\n",
    "- It allows to estimate the degree of association between variables\n",
    "- Typically, it is the association between one or more independent variables (IV) and one dependent variable (DV)\n",
    "- The main quantities of interest usually are direction, magnitude of association and its statistical significance"
   ]
  },
  {
   "cell_type": "markdown",
   "id": "386d7c16",
   "metadata": {
    "slideshow": {
     "slide_type": "slide"
    }
   },
   "source": [
    "## Linear regression in Python\n",
    "\n",
    "- As for tabular data and visualization we need external libraries for running regression\n",
    "- `statsmodels` library provides tools for estimating many statistical models\n",
    "- Another useful library is `scikit-learn`\n",
    "- It is more focussed on machine-learning applications"
   ]
  },
  {
   "cell_type": "code",
   "execution_count": 5,
   "id": "40728175",
   "metadata": {
    "slideshow": {
     "slide_type": "fragment"
    }
   },
   "outputs": [],
   "source": [
    "import statsmodels.api as sm\n",
    "import statsmodels.formula.api as smf # Formula API provides R-style formula specification"
   ]
  },
  {
   "cell_type": "markdown",
   "id": "f19934c5",
   "metadata": {
    "slideshow": {
     "slide_type": "slide"
    }
   },
   "source": [
    "## Data transformation"
   ]
  },
  {
   "cell_type": "code",
   "execution_count": 6,
   "id": "fb71c9ed",
   "metadata": {
    "slideshow": {
     "slide_type": "fragment"
    }
   },
   "outputs": [],
   "source": [
    "kaggle2020 = pd.read_csv('../data/kaggle_survey_2020_responses.csv', skiprows = [1])"
   ]
  },
  {
   "cell_type": "code",
   "execution_count": 7,
   "id": "dfa31fd6",
   "metadata": {
    "slideshow": {
     "slide_type": "fragment"
    }
   },
   "outputs": [],
   "source": [
    "# Let's give more intuitive names to out variables\n",
    "kaggle2020 = kaggle2020.rename(columns = {\n",
    "                'Q1': 'age',\n",
    "                'Q2': 'gender',\n",
    "                'Q3': 'country',\n",
    "                'Q4': 'education',\n",
    "                'Q24': 'compensation'})"
   ]
  },
  {
   "cell_type": "code",
   "execution_count": 8,
   "id": "652045a0",
   "metadata": {
    "slideshow": {
     "slide_type": "fragment"
    }
   },
   "outputs": [
    {
     "data": {
      "text/plain": [
       "0                NaN\n",
       "1    100,000-124,999\n",
       "2      15,000-19,999\n",
       "3    125,000-149,999\n",
       "4                NaN\n",
       "Name: compensation, dtype: object"
      ]
     },
     "execution_count": 8,
     "metadata": {},
     "output_type": "execute_result"
    }
   ],
   "source": [
    "kaggle2020['compensation'].head()"
   ]
  },
  {
   "cell_type": "code",
   "execution_count": 9,
   "id": "e4d6ae72",
   "metadata": {
    "slideshow": {
     "slide_type": "fragment"
    }
   },
   "outputs": [],
   "source": [
    "from statistics import mean\n",
    "# Here we are replacing the compensation range by its midpoint (i.e. 112499.5 for $100,000-$124,999)\n",
    "# This variable requires substantial cleaning before transformation\n",
    "# Such as extraneous symbols ('$', ',', '>') have to ver removed\n",
    "kaggle2020['compensation'] = kaggle2020['compensation'].map(\n",
    "    lambda x: mean([float(x.replace(',','').replace('$','').replace('>','')) for x in str(x).split('-')])\n",
    ")"
   ]
  },
  {
   "cell_type": "markdown",
   "id": "81d64fb6",
   "metadata": {
    "slideshow": {
     "slide_type": "slide"
    }
   },
   "source": [
    "## Pandas and linear regression"
   ]
  },
  {
   "cell_type": "code",
   "execution_count": 10,
   "id": "31980b1a",
   "metadata": {
    "slideshow": {
     "slide_type": "fragment"
    }
   },
   "outputs": [
    {
     "data": {
      "text/plain": [
       "0             NaN\n",
       "1        112499.5\n",
       "2         17499.5\n",
       "3        137499.5\n",
       "4             NaN\n",
       "           ...   \n",
       "20031         NaN\n",
       "20032         NaN\n",
       "20033       499.5\n",
       "20034       499.5\n",
       "20035       499.5\n",
       "Name: compensation, Length: 20036, dtype: float64"
      ]
     },
     "execution_count": 10,
     "metadata": {},
     "output_type": "execute_result"
    }
   ],
   "source": [
    "kaggle2020['compensation'] # Level of compensation (in USD) - our DV"
   ]
  },
  {
   "cell_type": "code",
   "execution_count": 11,
   "id": "c064f2cb",
   "metadata": {
    "slideshow": {
     "slide_type": "fragment"
    }
   },
   "outputs": [],
   "source": [
    "# Formula specification allows to write 'DV ~ IV_1 + IV_2 + ... + IV_N' as model specification\n",
    "results = smf.ols('compensation ~ age + gender + education', data = kaggle2020).fit()"
   ]
  },
  {
   "cell_type": "markdown",
   "id": "583d52f4",
   "metadata": {
    "slideshow": {
     "slide_type": "slide"
    }
   },
   "source": [
    "## Model summary"
   ]
  },
  {
   "cell_type": "code",
   "execution_count": 12,
   "id": "ff7a5a30",
   "metadata": {
    "slideshow": {
     "slide_type": "fragment"
    }
   },
   "outputs": [
    {
     "data": {
      "text/html": [
       "<table class=\"simpletable\">\n",
       "<caption>OLS Regression Results</caption>\n",
       "<tr>\n",
       "  <th>Dep. Variable:</th>      <td>compensation</td>   <th>  R-squared:         </th>  <td>   0.116</td>  \n",
       "</tr>\n",
       "<tr>\n",
       "  <th>Model:</th>                   <td>OLS</td>       <th>  Adj. R-squared:    </th>  <td>   0.115</td>  \n",
       "</tr>\n",
       "<tr>\n",
       "  <th>Method:</th>             <td>Least Squares</td>  <th>  F-statistic:       </th>  <td>   70.41</td>  \n",
       "</tr>\n",
       "<tr>\n",
       "  <th>Date:</th>             <td>Tue, 29 Jun 2021</td> <th>  Prob (F-statistic):</th>  <td>1.98e-268</td> \n",
       "</tr>\n",
       "<tr>\n",
       "  <th>Time:</th>                 <td>02:49:14</td>     <th>  Log-Likelihood:    </th> <td>-1.3352e+05</td>\n",
       "</tr>\n",
       "<tr>\n",
       "  <th>No. Observations:</th>      <td> 10729</td>      <th>  AIC:               </th>  <td>2.671e+05</td> \n",
       "</tr>\n",
       "<tr>\n",
       "  <th>Df Residuals:</th>          <td> 10708</td>      <th>  BIC:               </th>  <td>2.672e+05</td> \n",
       "</tr>\n",
       "<tr>\n",
       "  <th>Df Model:</th>              <td>    20</td>      <th>                     </th>      <td> </td>     \n",
       "</tr>\n",
       "<tr>\n",
       "  <th>Covariance Type:</th>      <td>nonrobust</td>    <th>                     </th>      <td> </td>     \n",
       "</tr>\n",
       "</table>\n",
       "<table class=\"simpletable\">\n",
       "<tr>\n",
       "                                         <td></td>                                           <th>coef</th>     <th>std err</th>      <th>t</th>      <th>P>|t|</th>  <th>[0.025</th>    <th>0.975]</th>  \n",
       "</tr>\n",
       "<tr>\n",
       "  <th>Intercept</th>                                                                      <td> 1.536e+04</td> <td> 2847.115</td> <td>    5.396</td> <td> 0.000</td> <td> 9781.101</td> <td> 2.09e+04</td>\n",
       "</tr>\n",
       "<tr>\n",
       "  <th>age[T.22-24]</th>                                                                   <td>-1016.3138</td> <td> 3232.489</td> <td>   -0.314</td> <td> 0.753</td> <td>-7352.593</td> <td> 5319.965</td>\n",
       "</tr>\n",
       "<tr>\n",
       "  <th>age[T.25-29]</th>                                                                   <td> 9158.0382</td> <td> 3101.900</td> <td>    2.952</td> <td> 0.003</td> <td> 3077.739</td> <td> 1.52e+04</td>\n",
       "</tr>\n",
       "<tr>\n",
       "  <th>age[T.30-34]</th>                                                                   <td> 2.694e+04</td> <td> 3173.713</td> <td>    8.489</td> <td> 0.000</td> <td> 2.07e+04</td> <td> 3.32e+04</td>\n",
       "</tr>\n",
       "<tr>\n",
       "  <th>age[T.35-39]</th>                                                                   <td> 3.526e+04</td> <td> 3285.667</td> <td>   10.731</td> <td> 0.000</td> <td> 2.88e+04</td> <td> 4.17e+04</td>\n",
       "</tr>\n",
       "<tr>\n",
       "  <th>age[T.40-44]</th>                                                                   <td> 4.699e+04</td> <td> 3449.386</td> <td>   13.624</td> <td> 0.000</td> <td> 4.02e+04</td> <td> 5.38e+04</td>\n",
       "</tr>\n",
       "<tr>\n",
       "  <th>age[T.45-49]</th>                                                                   <td> 4.988e+04</td> <td> 3622.541</td> <td>   13.769</td> <td> 0.000</td> <td> 4.28e+04</td> <td>  5.7e+04</td>\n",
       "</tr>\n",
       "<tr>\n",
       "  <th>age[T.50-54]</th>                                                                   <td> 5.813e+04</td> <td> 3920.439</td> <td>   14.829</td> <td> 0.000</td> <td> 5.04e+04</td> <td> 6.58e+04</td>\n",
       "</tr>\n",
       "<tr>\n",
       "  <th>age[T.55-59]</th>                                                                   <td> 6.231e+04</td> <td> 4567.852</td> <td>   13.642</td> <td> 0.000</td> <td> 5.34e+04</td> <td> 7.13e+04</td>\n",
       "</tr>\n",
       "<tr>\n",
       "  <th>age[T.60-69]</th>                                                                   <td>  5.02e+04</td> <td> 4539.192</td> <td>   11.060</td> <td> 0.000</td> <td> 4.13e+04</td> <td> 5.91e+04</td>\n",
       "</tr>\n",
       "<tr>\n",
       "  <th>age[T.70+]</th>                                                                     <td> 4.281e+04</td> <td> 9023.409</td> <td>    4.744</td> <td> 0.000</td> <td> 2.51e+04</td> <td> 6.05e+04</td>\n",
       "</tr>\n",
       "<tr>\n",
       "  <th>gender[T.Nonbinary]</th>                                                            <td> 5.813e+04</td> <td> 1.38e+04</td> <td>    4.220</td> <td> 0.000</td> <td> 3.11e+04</td> <td> 8.51e+04</td>\n",
       "</tr>\n",
       "<tr>\n",
       "  <th>gender[T.Prefer not to say]</th>                                                    <td> 1.365e+04</td> <td> 5429.547</td> <td>    2.515</td> <td> 0.012</td> <td> 3010.097</td> <td> 2.43e+04</td>\n",
       "</tr>\n",
       "<tr>\n",
       "  <th>gender[T.Prefer to self-describe]</th>                                              <td> 1.189e+04</td> <td> 1.29e+04</td> <td>    0.924</td> <td> 0.355</td> <td>-1.33e+04</td> <td> 3.71e+04</td>\n",
       "</tr>\n",
       "<tr>\n",
       "  <th>gender[T.Woman]</th>                                                                <td>-9039.3914</td> <td> 1647.938</td> <td>   -5.485</td> <td> 0.000</td> <td>-1.23e+04</td> <td>-5809.127</td>\n",
       "</tr>\n",
       "<tr>\n",
       "  <th>education[T.Doctoral degree]</th>                                                   <td> 1.213e+04</td> <td> 1971.507</td> <td>    6.153</td> <td> 0.000</td> <td> 8265.229</td> <td>  1.6e+04</td>\n",
       "</tr>\n",
       "<tr>\n",
       "  <th>education[T.I prefer not to answer]</th>                                            <td>-1.507e+04</td> <td> 5047.604</td> <td>   -2.986</td> <td> 0.003</td> <td> -2.5e+04</td> <td>-5178.948</td>\n",
       "</tr>\n",
       "<tr>\n",
       "  <th>education[T.Master’s degree]</th>                                                   <td> 6841.4159</td> <td> 1471.853</td> <td>    4.648</td> <td> 0.000</td> <td> 3956.312</td> <td> 9726.520</td>\n",
       "</tr>\n",
       "<tr>\n",
       "  <th>education[T.No formal education past high school]</th>                              <td>-1.845e+04</td> <td> 6105.520</td> <td>   -3.022</td> <td> 0.003</td> <td>-3.04e+04</td> <td>-6481.797</td>\n",
       "</tr>\n",
       "<tr>\n",
       "  <th>education[T.Professional degree]</th>                                               <td>-8479.2702</td> <td> 3090.830</td> <td>   -2.743</td> <td> 0.006</td> <td>-1.45e+04</td> <td>-2420.670</td>\n",
       "</tr>\n",
       "<tr>\n",
       "  <th>education[T.Some college/university study without earning a bachelor’s degree]</th> <td>-4329.4427</td> <td> 3348.951</td> <td>   -1.293</td> <td> 0.196</td> <td>-1.09e+04</td> <td> 2235.122</td>\n",
       "</tr>\n",
       "</table>\n",
       "<table class=\"simpletable\">\n",
       "<tr>\n",
       "  <th>Omnibus:</th>       <td>7665.889</td> <th>  Durbin-Watson:     </th>  <td>   1.994</td> \n",
       "</tr>\n",
       "<tr>\n",
       "  <th>Prob(Omnibus):</th>  <td> 0.000</td>  <th>  Jarque-Bera (JB):  </th> <td>150729.803</td>\n",
       "</tr>\n",
       "<tr>\n",
       "  <th>Skew:</th>           <td> 3.243</td>  <th>  Prob(JB):          </th>  <td>    0.00</td> \n",
       "</tr>\n",
       "<tr>\n",
       "  <th>Kurtosis:</th>       <td>20.179</td>  <th>  Cond. No.          </th>  <td>    27.9</td> \n",
       "</tr>\n",
       "</table><br/><br/>Notes:<br/>[1] Standard Errors assume that the covariance matrix of the errors is correctly specified."
      ],
      "text/plain": [
       "<class 'statsmodels.iolib.summary.Summary'>\n",
       "\"\"\"\n",
       "                            OLS Regression Results                            \n",
       "==============================================================================\n",
       "Dep. Variable:           compensation   R-squared:                       0.116\n",
       "Model:                            OLS   Adj. R-squared:                  0.115\n",
       "Method:                 Least Squares   F-statistic:                     70.41\n",
       "Date:                Tue, 29 Jun 2021   Prob (F-statistic):          1.98e-268\n",
       "Time:                        02:49:14   Log-Likelihood:            -1.3352e+05\n",
       "No. Observations:               10729   AIC:                         2.671e+05\n",
       "Df Residuals:                   10708   BIC:                         2.672e+05\n",
       "Df Model:                          20                                         \n",
       "Covariance Type:            nonrobust                                         \n",
       "==================================================================================================================================================\n",
       "                                                                                     coef    std err          t      P>|t|      [0.025      0.975]\n",
       "--------------------------------------------------------------------------------------------------------------------------------------------------\n",
       "Intercept                                                                       1.536e+04   2847.115      5.396      0.000    9781.101    2.09e+04\n",
       "age[T.22-24]                                                                   -1016.3138   3232.489     -0.314      0.753   -7352.593    5319.965\n",
       "age[T.25-29]                                                                    9158.0382   3101.900      2.952      0.003    3077.739    1.52e+04\n",
       "age[T.30-34]                                                                    2.694e+04   3173.713      8.489      0.000    2.07e+04    3.32e+04\n",
       "age[T.35-39]                                                                    3.526e+04   3285.667     10.731      0.000    2.88e+04    4.17e+04\n",
       "age[T.40-44]                                                                    4.699e+04   3449.386     13.624      0.000    4.02e+04    5.38e+04\n",
       "age[T.45-49]                                                                    4.988e+04   3622.541     13.769      0.000    4.28e+04     5.7e+04\n",
       "age[T.50-54]                                                                    5.813e+04   3920.439     14.829      0.000    5.04e+04    6.58e+04\n",
       "age[T.55-59]                                                                    6.231e+04   4567.852     13.642      0.000    5.34e+04    7.13e+04\n",
       "age[T.60-69]                                                                     5.02e+04   4539.192     11.060      0.000    4.13e+04    5.91e+04\n",
       "age[T.70+]                                                                      4.281e+04   9023.409      4.744      0.000    2.51e+04    6.05e+04\n",
       "gender[T.Nonbinary]                                                             5.813e+04   1.38e+04      4.220      0.000    3.11e+04    8.51e+04\n",
       "gender[T.Prefer not to say]                                                     1.365e+04   5429.547      2.515      0.012    3010.097    2.43e+04\n",
       "gender[T.Prefer to self-describe]                                               1.189e+04   1.29e+04      0.924      0.355   -1.33e+04    3.71e+04\n",
       "gender[T.Woman]                                                                -9039.3914   1647.938     -5.485      0.000   -1.23e+04   -5809.127\n",
       "education[T.Doctoral degree]                                                    1.213e+04   1971.507      6.153      0.000    8265.229     1.6e+04\n",
       "education[T.I prefer not to answer]                                            -1.507e+04   5047.604     -2.986      0.003    -2.5e+04   -5178.948\n",
       "education[T.Master’s degree]                                                    6841.4159   1471.853      4.648      0.000    3956.312    9726.520\n",
       "education[T.No formal education past high school]                              -1.845e+04   6105.520     -3.022      0.003   -3.04e+04   -6481.797\n",
       "education[T.Professional degree]                                               -8479.2702   3090.830     -2.743      0.006   -1.45e+04   -2420.670\n",
       "education[T.Some college/university study without earning a bachelor’s degree] -4329.4427   3348.951     -1.293      0.196   -1.09e+04    2235.122\n",
       "==============================================================================\n",
       "Omnibus:                     7665.889   Durbin-Watson:                   1.994\n",
       "Prob(Omnibus):                  0.000   Jarque-Bera (JB):           150729.803\n",
       "Skew:                           3.243   Prob(JB):                         0.00\n",
       "Kurtosis:                      20.179   Cond. No.                         27.9\n",
       "==============================================================================\n",
       "\n",
       "Notes:\n",
       "[1] Standard Errors assume that the covariance matrix of the errors is correctly specified.\n",
       "\"\"\""
      ]
     },
     "execution_count": 12,
     "metadata": {},
     "output_type": "execute_result"
    }
   ],
   "source": [
    "results.summary()"
   ]
  },
  {
   "cell_type": "markdown",
   "id": "2826ad50",
   "metadata": {
    "slideshow": {
     "slide_type": "slide"
    }
   },
   "source": [
    "## Markdown - a language of reports\n",
    "\n",
    "- Markdown is a markup language for formatting text with simple syntax\n",
    "- The key goal of Markdown is readability\n",
    "- Only a limited set of formatting options is supported\n",
    "- Markdown is used in online documentation, blogging and instant messaging"
   ]
  },
  {
   "cell_type": "markdown",
   "id": "aa5b7abb",
   "metadata": {
    "slideshow": {
     "slide_type": "slide"
    }
   },
   "source": [
    "## Formatting text in Markdown\n",
    "\n",
    "- For *italics* ```*one star on each side*```\n",
    "- For **bold** ```**two stars on each side**```\n",
    "- For ~~strikethrough~~ ```~~two tildes on each side~~```"
   ]
  },
  {
   "cell_type": "markdown",
   "id": "6c310718",
   "metadata": {
    "slideshow": {
     "slide_type": "slide"
    }
   },
   "source": [
    "## Lists in Markdown\n",
    "\n",
    "For bulleted or unordered list of items:\n",
    "\n",
    "```\n",
    "- Just add a dash first and then write a text.\n",
    "- If you add another dash in the following line, you will have another item in the list.\n",
    "  - If you add four spaces or use a tab key, you will create an indented list.\n",
    "```\n",
    "\n",
    "For numbered or ordered list of items:\n",
    "\n",
    "```\n",
    "1. Just type a number and then write a text.\n",
    "2. If you want to add a second item, just type in another number.\n",
    "1. If you make a mistake when typing numbers, fear not, Markdown will correct it for you.\n",
    "    1. If you press a tab key or type four spaces, you will get an indented list and the numbering\n",
    "    will start from scratch.\n",
    "```"
   ]
  },
  {
   "cell_type": "markdown",
   "id": "eabee907",
   "metadata": {
    "slideshow": {
     "slide_type": "slide"
    }
   },
   "source": [
    "## Headers in Markdown\n",
    "\n",
    "Headers or section titles are created with hashes(```#```)\n",
    "\n",
    "```# This is a first-tier header```\n",
    "\n",
    "```## This is a second-tier header```\n",
    "\n",
    "```### This is a third-tier header```"
   ]
  },
  {
   "cell_type": "markdown",
   "id": "3d53382a",
   "metadata": {
    "slideshow": {
     "slide_type": "slide"
    }
   },
   "source": [
    "## Images and links in Markdown\n",
    "\n",
    "- To add an image you can write ```![some text](image_path)```\n",
    "- To add a link you can write ```[some text](URL)```\n",
    "- For more complex cases HTML code can be used"
   ]
  },
  {
   "cell_type": "markdown",
   "id": "c7dd209d",
   "metadata": {
    "slideshow": {
     "slide_type": "slide"
    }
   },
   "source": [
    "## Tables in Markdown\n",
    "\n",
    "- Tables in Markdown can be created using the following syntax (there are a few variants)\n",
    "\n",
    "```\n",
    "| Header1 | Header2 |\n",
    "|:--------|:--------|\n",
    "| content | content |\n",
    "```\n",
    "\n",
    "- ```:---``` produces left-aligned text in cells\n",
    "- ```---:``` produces right-aligned text in cells\n",
    "- ```:--:``` produces centered text in cells"
   ]
  },
  {
   "cell_type": "markdown",
   "id": "109bb51b",
   "metadata": {
    "slideshow": {
     "slide_type": "slide"
    }
   },
   "source": [
    "## Markdown tables in pandas\n",
    "\n",
    "- Pandas can generate Markdown tables from DataFrame"
   ]
  },
  {
   "cell_type": "code",
   "execution_count": 13,
   "id": "fa2e0d0a",
   "metadata": {
    "slideshow": {
     "slide_type": "fragment"
    }
   },
   "outputs": [
    {
     "data": {
      "text/html": [
       "<div>\n",
       "<style scoped>\n",
       "    .dataframe tbody tr th:only-of-type {\n",
       "        vertical-align: middle;\n",
       "    }\n",
       "\n",
       "    .dataframe tbody tr th {\n",
       "        vertical-align: top;\n",
       "    }\n",
       "\n",
       "    .dataframe thead tr th {\n",
       "        text-align: left;\n",
       "    }\n",
       "\n",
       "    .dataframe thead tr:last-of-type th {\n",
       "        text-align: right;\n",
       "    }\n",
       "</style>\n",
       "<table border=\"1\" class=\"dataframe\">\n",
       "  <thead>\n",
       "    <tr>\n",
       "      <th></th>\n",
       "      <th colspan=\"3\" halign=\"left\">x</th>\n",
       "    </tr>\n",
       "    <tr>\n",
       "      <th></th>\n",
       "      <th>count</th>\n",
       "      <th>mean</th>\n",
       "      <th>std</th>\n",
       "    </tr>\n",
       "    <tr>\n",
       "      <th>dataset</th>\n",
       "      <th></th>\n",
       "      <th></th>\n",
       "      <th></th>\n",
       "    </tr>\n",
       "  </thead>\n",
       "  <tbody>\n",
       "    <tr>\n",
       "      <th>I</th>\n",
       "      <td>11.0</td>\n",
       "      <td>9.0</td>\n",
       "      <td>3.316625</td>\n",
       "    </tr>\n",
       "    <tr>\n",
       "      <th>II</th>\n",
       "      <td>11.0</td>\n",
       "      <td>9.0</td>\n",
       "      <td>3.316625</td>\n",
       "    </tr>\n",
       "    <tr>\n",
       "      <th>III</th>\n",
       "      <td>11.0</td>\n",
       "      <td>9.0</td>\n",
       "      <td>3.316625</td>\n",
       "    </tr>\n",
       "    <tr>\n",
       "      <th>IV</th>\n",
       "      <td>11.0</td>\n",
       "      <td>9.0</td>\n",
       "      <td>3.316625</td>\n",
       "    </tr>\n",
       "  </tbody>\n",
       "</table>\n",
       "</div>"
      ],
      "text/plain": [
       "            x               \n",
       "        count mean       std\n",
       "dataset                     \n",
       "I        11.0  9.0  3.316625\n",
       "II       11.0  9.0  3.316625\n",
       "III      11.0  9.0  3.316625\n",
       "IV       11.0  9.0  3.316625"
      ]
     },
     "execution_count": 13,
     "metadata": {},
     "output_type": "execute_result"
    }
   ],
   "source": [
    "# Let's revisit the summary statistics of Anscombe's quartet\n",
    "anscombe_quartet.groupby(['dataset']).describe().iloc[:,0:3]"
   ]
  },
  {
   "cell_type": "code",
   "execution_count": 14,
   "id": "aad171aa",
   "metadata": {
    "slideshow": {
     "slide_type": "fragment"
    }
   },
   "outputs": [
    {
     "name": "stdout",
     "output_type": "stream",
     "text": [
      "|   ('x', 'count') |   ('x', 'mean') |   ('x', 'std') |\n",
      "|-----------------:|----------------:|---------------:|\n",
      "|               11 |               9 |        3.31662 |\n",
      "|               11 |               9 |        3.31662 |\n",
      "|               11 |               9 |        3.31662 |\n",
      "|               11 |               9 |        3.31662 |\n"
     ]
    }
   ],
   "source": [
    "print(anscombe_quartet.groupby(['dataset']).describe().iloc[:,0:3].to_markdown(index = False))"
   ]
  },
  {
   "cell_type": "markdown",
   "id": "b3db821e",
   "metadata": {
    "slideshow": {
     "slide_type": "slide"
    }
   },
   "source": [
    "## The end\n",
    "\n",
    "<div style=\"text-align: center;\">\n",
    "    <img width=\"500\" height=\"300\" src=\"imgs/butterfly_meme.jpg\">\n",
    "</div>"
   ]
  }
 ],
 "metadata": {
  "celltoolbar": "Slideshow",
  "kernelspec": {
   "display_name": "Python 3",
   "language": "python",
   "name": "python3"
  },
  "language_info": {
   "codemirror_mode": {
    "name": "ipython",
    "version": 3
   },
   "file_extension": ".py",
   "mimetype": "text/x-python",
   "name": "python",
   "nbconvert_exporter": "python",
   "pygments_lexer": "ipython3",
   "version": "3.8.5"
  }
 },
 "nbformat": 4,
 "nbformat_minor": 5
}
