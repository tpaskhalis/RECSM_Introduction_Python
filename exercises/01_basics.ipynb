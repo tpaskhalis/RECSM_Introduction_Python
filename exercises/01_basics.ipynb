{
 "cells": [
  {
   "cell_type": "markdown",
   "id": "0c732118",
   "metadata": {},
   "source": [
    "## Exercise 1 - Python basics"
   ]
  },
  {
   "cell_type": "markdown",
   "id": "d4c5b464",
   "metadata": {},
   "source": [
    "### Task 1: Slicing (Indexing)\n",
    "\n",
    "Using only slicing operations create words 'dish', 'wash', 'he' and 'saw' out of the word 'dishwasher'. Finally, reverse the order of letters in the word (spell it backwards). Print the results."
   ]
  },
  {
   "cell_type": "code",
   "execution_count": 1,
   "id": "09113bcd",
   "metadata": {},
   "outputs": [],
   "source": [
    "dishwasher = 'dishwasher'"
   ]
  },
  {
   "cell_type": "code",
   "execution_count": 2,
   "id": "869c6a46",
   "metadata": {},
   "outputs": [],
   "source": [
    "## Add you code here"
   ]
  },
  {
   "cell_type": "markdown",
   "id": "8eff1c1d",
   "metadata": {},
   "source": [
    "### Task 2: Sets\n",
    "\n",
    "Create a set called `visegrad`, which includes all the countries from the Visegrád Group\n",
    "\n",
    "Tip: If any flags are unfamiliar, check the interactive version of the diagram [here](https://upload.wikimedia.org/wikipedia/commons/6/6a/Supranational_European_Bodies.svg)"
   ]
  },
  {
   "cell_type": "markdown",
   "id": "3bef15d4",
   "metadata": {},
   "source": [
    "![europe_diagram](https://upload.wikimedia.org/wikipedia/commons/thumb/6/6a/Supranational_European_Bodies.svg/800px-Supranational_European_Bodies.svg.png)\n",
    "\n",
    "Source: [Wikipedia](https://en.wikipedia.org/w/index.php?title=File:Supranational_European_Bodies-en.svg)"
   ]
  },
  {
   "cell_type": "code",
   "execution_count": 3,
   "id": "96b78d0b",
   "metadata": {},
   "outputs": [],
   "source": [
    "## Add you code here"
   ]
  },
  {
   "cell_type": "markdown",
   "id": "e144dc01",
   "metadata": {},
   "source": [
    "### Task 3:  Lists and Sets\n",
    "\n",
    "Create lists `baltic` and `benelux` with respective countries. Convert them into sets. Create a union of these states and countries from the Visegrád Group"
   ]
  },
  {
   "cell_type": "code",
   "execution_count": 4,
   "id": "03647a54",
   "metadata": {},
   "outputs": [],
   "source": [
    "## Add you code here"
   ]
  },
  {
   "cell_type": "markdown",
   "id": "eb22b0f5",
   "metadata": {},
   "source": [
    "### (Extra) Task 4: Dictionaries\n",
    "\n",
    "Create a dictionary, where the country name is the key and the value is the capital (or currency) of that country\n",
    "\n",
    "Tip: You can start by modifying `visegrad` set, use interactive version of the diagram for addiional information."
   ]
  },
  {
   "cell_type": "code",
   "execution_count": 5,
   "id": "d96e65db",
   "metadata": {},
   "outputs": [],
   "source": [
    "## Add you code here"
   ]
  }
 ],
 "metadata": {
  "kernelspec": {
   "display_name": "Python 3 (ipykernel)",
   "language": "python",
   "name": "python3"
  },
  "language_info": {
   "codemirror_mode": {
    "name": "ipython",
    "version": 3
   },
   "file_extension": ".py",
   "mimetype": "text/x-python",
   "name": "python",
   "nbconvert_exporter": "python",
   "pygments_lexer": "ipython3",
   "version": "3.10.6"
  }
 },
 "nbformat": 4,
 "nbformat_minor": 5
}
