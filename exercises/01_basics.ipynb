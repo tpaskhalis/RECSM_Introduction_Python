{
 "cells": [
  {
   "cell_type": "markdown",
   "id": "0c732118",
   "metadata": {},
   "source": [
    "## Exercise 1 - Python basics"
   ]
  },
  {
   "cell_type": "markdown",
   "id": "525ca70a",
   "metadata": {},
   "source": [
    "Let's revisit basic Python objects and the diagram of political groups in Europe."
   ]
  },
  {
   "cell_type": "markdown",
   "id": "3bef15d4",
   "metadata": {},
   "source": [
    "![europe_diagram](../lectures/imgs/europe_diagram.png)\n",
    "\n",
    "Source: [Wikipedia](https://upload.wikimedia.org/wikipedia/commons/6/6a/Supranational_European_Bodies.svg)"
   ]
  },
  {
   "cell_type": "markdown",
   "id": "8eff1c1d",
   "metadata": {},
   "source": [
    "### Task 1: Create a set called `visegrad`, which includes all the countries from the Visegrád Group\n",
    "\n",
    "Tip: If any flags are unfamiliar, check the interactive version of the diagram [here](https://upload.wikimedia.org/wikipedia/commons/6/6a/Supranational_European_Bodies.svg)"
   ]
  },
  {
   "cell_type": "code",
   "execution_count": 1,
   "id": "96b78d0b",
   "metadata": {},
   "outputs": [],
   "source": [
    "## Add you code here"
   ]
  },
  {
   "cell_type": "markdown",
   "id": "9c252eaa",
   "metadata": {},
   "source": [
    "### Task 2: Now exclude countries from this set that are *not* members of Eurozone"
   ]
  },
  {
   "cell_type": "code",
   "execution_count": 2,
   "id": "dbdf9941",
   "metadata": {},
   "outputs": [],
   "source": [
    "## Add you code here"
   ]
  },
  {
   "cell_type": "markdown",
   "id": "e144dc01",
   "metadata": {},
   "source": [
    "### Task 3: Create lists `baltic` and `benelux` with respective countries. Convert them into sets. Create a union of these states and countries from the Visegrád Group"
   ]
  },
  {
   "cell_type": "code",
   "execution_count": 3,
   "id": "03647a54",
   "metadata": {},
   "outputs": [],
   "source": [
    "## Add you code here"
   ]
  },
  {
   "cell_type": "markdown",
   "id": "eb22b0f5",
   "metadata": {},
   "source": [
    "### (Extra) Task 4: Create a dictionary, where the country name is the key and the value is the capital (or currency) of that country\n",
    "\n",
    "Tip: You can start by modifying `visegrad` set, use interactive version of the diagram for addiional information."
   ]
  },
  {
   "cell_type": "code",
   "execution_count": 4,
   "id": "102f6fd1",
   "metadata": {},
   "outputs": [],
   "source": [
    "## Add you code here"
   ]
  }
 ],
 "metadata": {
  "kernelspec": {
   "display_name": "Python 3",
   "language": "python",
   "name": "python3"
  },
  "language_info": {
   "codemirror_mode": {
    "name": "ipython",
    "version": 3
   },
   "file_extension": ".py",
   "mimetype": "text/x-python",
   "name": "python",
   "nbconvert_exporter": "python",
   "pygments_lexer": "ipython3",
   "version": "3.8.10"
  }
 },
 "nbformat": 4,
 "nbformat_minor": 5
}
