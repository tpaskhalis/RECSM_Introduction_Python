{
 "cells": [
  {
   "cell_type": "markdown",
   "id": "69187ae1",
   "metadata": {},
   "source": [
    "## Exercise 4 - Regression\n",
    "\n",
    "Now time for some regression modelling of the [Kaggle 2021 Machine Learning and Data Science Survey](https://www.kaggle.com/c/kaggle-survey-2021/) dataset"
   ]
  },
  {
   "cell_type": "code",
   "execution_count": 1,
   "id": "5df8b799",
   "metadata": {},
   "outputs": [],
   "source": [
    "import pandas as pd\n",
    "import statsmodels.api as sm\n",
    "import statsmodels.formula.api as smf\n",
    "from statistics import mean"
   ]
  },
  {
   "cell_type": "code",
   "execution_count": 2,
   "id": "025b7d5d",
   "metadata": {},
   "outputs": [],
   "source": [
    "kaggle2021 = pd.read_csv(\n",
    "    '../data/kaggle_survey_2021_responses.csv',\n",
    "    skiprows = [1]\n",
    ")"
   ]
  },
  {
   "cell_type": "markdown",
   "id": "789455a9",
   "metadata": {},
   "source": [
    "### Task 1 - Fit a linear regression model with compensation as a dependent variable and job title as independent variable. What are the coefficients for data analyst and data scientist positions? What is their statistical significance?"
   ]
  },
  {
   "cell_type": "code",
   "execution_count": 3,
   "id": "bed672ec",
   "metadata": {},
   "outputs": [],
   "source": [
    "## Add you code here"
   ]
  },
  {
   "cell_type": "markdown",
   "id": "f56975b3",
   "metadata": {},
   "source": [
    "### Task 2 - Refit a linear regression model controlling for education. Do the estimates change?"
   ]
  },
  {
   "cell_type": "code",
   "execution_count": 4,
   "id": "d0687d0a",
   "metadata": {},
   "outputs": [],
   "source": [
    "## Add you code here"
   ]
  },
  {
   "cell_type": "markdown",
   "id": "8d62cffc",
   "metadata": {},
   "source": [
    "### Task 3 - Refit a linear regression model controlling for both education and country. Do the estimates change now?"
   ]
  },
  {
   "cell_type": "code",
   "execution_count": 5,
   "id": "90225c52",
   "metadata": {},
   "outputs": [],
   "source": [
    "## Add you code here"
   ]
  }
 ],
 "metadata": {
  "kernelspec": {
   "display_name": "Python 3",
   "language": "python",
   "name": "python3"
  },
  "language_info": {
   "codemirror_mode": {
    "name": "ipython",
    "version": 3
   },
   "file_extension": ".py",
   "mimetype": "text/x-python",
   "name": "python",
   "nbconvert_exporter": "python",
   "pygments_lexer": "ipython3",
   "version": "3.8.10"
  }
 },
 "nbformat": 4,
 "nbformat_minor": 5
}
